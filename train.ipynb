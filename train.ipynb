{
  "cells": [
    {
      "cell_type": "code",
      "execution_count": 1,
      "metadata": {
        "pycharm": {
          "is_executing": false
        }
      },
      "outputs": [
        {
          "data": {
            "text/plain": "(418, 10)"
          },
          "metadata": {},
          "output_type": "execute_result",
          "execution_count": 1
        }
      ],
      "source": [
        "import pandas as pd\n",
        "import warnings\n",
        "warnings.filterwarnings(\"ignore\", category\u003dFutureWarning)\n",
        "import matplotlib.pyplot as plt\n",
        "import seaborn as sns\n",
        "from sklearn.preprocessing import LabelEncoder\n",
        "\n",
        "label \u003d LabelEncoder()\n",
        "\n",
        "train_df \u003d pd.read_csv(\"./inputs/train.csv\")\n",
        "test_df \u003d pd.read_csv(\"./inputs/test.csv\")\n",
        "\n",
        "test_df.Fare.fillna(test_df.Fare.mean(), inplace\u003dTrue)\n",
        "data_df \u003d train_df.append(test_df)\n",
        "passenger_id \u003d test_df[\u0027PassengerId\u0027]\n",
        "\n",
        "train_df.drop([\u0027PassengerId\u0027], axis\u003d1, inplace\u003dTrue)\n",
        "test_df.drop([\u0027PassengerId\u0027], axis\u003d1, inplace\u003dTrue)\n",
        "test_df.shape\n"
      ]
    },
    {
      "cell_type": "code",
      "execution_count": 2,
      "metadata": {
        "pycharm": {
          "metadata": false,
          "name": "#%%\n"
        }
      },
      "outputs": [
        {
          "name": "stdout",
          "output_type": "stream",
          "text": [
            "Survived      0\n",
            "Pclass        0\n",
            "Name          0\n",
            "Sex           0\n",
            "Age         177\n",
            "SibSp         0\n",
            "Parch         0\n",
            "Ticket        0\n",
            "Fare          0\n",
            "Cabin       687\n",
            "Embarked      2\n",
            "dtype: int64\n",
            "********************\n",
            "Pclass        0\n",
            "Name          0\n",
            "Sex           0\n",
            "Age          86\n",
            "SibSp         0\n",
            "Parch         0\n",
            "Ticket        0\n",
            "Fare          0\n",
            "Cabin       327\n",
            "Embarked      0\n",
            "dtype: int64\n"
          ]
        },
        {
          "data": {
            "text/plain": [
              "\u003cmatplotlib.axes._subplots.AxesSubplot at 0x7fced00caba8\u003e"
            ]
          },
          "execution_count": 2,
          "metadata": {},
          "output_type": "execute_result"
        },
        {
          "data": {
            "image/png": "[encoded data removed]",
            "text/plain": [
              "\u003cFigure size 432x288 with 1 Axes\u003e"
            ]
          },
          "metadata": {
            "needs_background": "light"
          },
          "output_type": "display_data"
        }
      ],
      "source": [
        "print(train_df.isnull().sum())\n",
        "print(\u0027\u0027.center(20, \"*\"))\n",
        "print(test_df.isnull().sum())\n",
        "sns.boxplot(x\u003d\u0027Survived\u0027, y\u003d\u0027Fare\u0027, data\u003dtrain_df)\n"
      ]
    },
    {
      "cell_type": "code",
      "execution_count": 3,
      "metadata": {
        "pycharm": {
          "metadata": false,
          "name": "#%%\n"
        }
      },
      "outputs": [
        {
          "data": {
            "text/html": [
              "\u003cdiv\u003e\n",
              "\u003cstyle scoped\u003e\n",
              "    .dataframe tbody tr th:only-of-type {\n",
              "        vertical-align: middle;\n",
              "    }\n",
              "\n",
              "    .dataframe tbody tr th {\n",
              "        vertical-align: top;\n",
              "    }\n",
              "\n",
              "    .dataframe thead th {\n",
              "        text-align: right;\n",
              "    }\n",
              "\u003c/style\u003e\n",
              "\u003ctable border\u003d\"1\" class\u003d\"dataframe\"\u003e\n",
              "  \u003cthead\u003e\n",
              "    \u003ctr style\u003d\"text-align: right;\"\u003e\n",
              "      \u003cth\u003e\u003c/th\u003e\n",
              "      \u003cth\u003eSurvived\u003c/th\u003e\n",
              "      \u003cth\u003ePclass\u003c/th\u003e\n",
              "      \u003cth\u003eName\u003c/th\u003e\n",
              "      \u003cth\u003eSex\u003c/th\u003e\n",
              "      \u003cth\u003eAge\u003c/th\u003e\n",
              "      \u003cth\u003eSibSp\u003c/th\u003e\n",
              "      \u003cth\u003eParch\u003c/th\u003e\n",
              "      \u003cth\u003eTicket\u003c/th\u003e\n",
              "      \u003cth\u003eFare\u003c/th\u003e\n",
              "      \u003cth\u003eCabin\u003c/th\u003e\n",
              "      \u003cth\u003eEmbarked\u003c/th\u003e\n",
              "    \u003c/tr\u003e\n",
              "  \u003c/thead\u003e\n",
              "  \u003ctbody\u003e\n",
              "    \u003ctr\u003e\n",
              "      \u003cth\u003e0\u003c/th\u003e\n",
              "      \u003ctd\u003e0\u003c/td\u003e\n",
              "      \u003ctd\u003e3\u003c/td\u003e\n",
              "      \u003ctd\u003eBraund, Mr. Owen Harris\u003c/td\u003e\n",
              "      \u003ctd\u003e1\u003c/td\u003e\n",
              "      \u003ctd\u003e22.0\u003c/td\u003e\n",
              "      \u003ctd\u003e1\u003c/td\u003e\n",
              "      \u003ctd\u003e0\u003c/td\u003e\n",
              "      \u003ctd\u003eA/5 21171\u003c/td\u003e\n",
              "      \u003ctd\u003e7.2500\u003c/td\u003e\n",
              "      \u003ctd\u003eNaN\u003c/td\u003e\n",
              "      \u003ctd\u003eS\u003c/td\u003e\n",
              "    \u003c/tr\u003e\n",
              "    \u003ctr\u003e\n",
              "      \u003cth\u003e1\u003c/th\u003e\n",
              "      \u003ctd\u003e1\u003c/td\u003e\n",
              "      \u003ctd\u003e1\u003c/td\u003e\n",
              "      \u003ctd\u003eCumings, Mrs. John Bradley (Florence Briggs Th...\u003c/td\u003e\n",
              "      \u003ctd\u003e0\u003c/td\u003e\n",
              "      \u003ctd\u003e38.0\u003c/td\u003e\n",
              "      \u003ctd\u003e1\u003c/td\u003e\n",
              "      \u003ctd\u003e0\u003c/td\u003e\n",
              "      \u003ctd\u003ePC 17599\u003c/td\u003e\n",
              "      \u003ctd\u003e71.2833\u003c/td\u003e\n",
              "      \u003ctd\u003eC85\u003c/td\u003e\n",
              "      \u003ctd\u003eC\u003c/td\u003e\n",
              "    \u003c/tr\u003e\n",
              "    \u003ctr\u003e\n",
              "      \u003cth\u003e2\u003c/th\u003e\n",
              "      \u003ctd\u003e1\u003c/td\u003e\n",
              "      \u003ctd\u003e3\u003c/td\u003e\n",
              "      \u003ctd\u003eHeikkinen, Miss. Laina\u003c/td\u003e\n",
              "      \u003ctd\u003e0\u003c/td\u003e\n",
              "      \u003ctd\u003e26.0\u003c/td\u003e\n",
              "      \u003ctd\u003e0\u003c/td\u003e\n",
              "      \u003ctd\u003e0\u003c/td\u003e\n",
              "      \u003ctd\u003eSTON/O2. 3101282\u003c/td\u003e\n",
              "      \u003ctd\u003e7.9250\u003c/td\u003e\n",
              "      \u003ctd\u003eNaN\u003c/td\u003e\n",
              "      \u003ctd\u003eS\u003c/td\u003e\n",
              "    \u003c/tr\u003e\n",
              "    \u003ctr\u003e\n",
              "      \u003cth\u003e3\u003c/th\u003e\n",
              "      \u003ctd\u003e1\u003c/td\u003e\n",
              "      \u003ctd\u003e1\u003c/td\u003e\n",
              "      \u003ctd\u003eFutrelle, Mrs. Jacques Heath (Lily May Peel)\u003c/td\u003e\n",
              "      \u003ctd\u003e0\u003c/td\u003e\n",
              "      \u003ctd\u003e35.0\u003c/td\u003e\n",
              "      \u003ctd\u003e1\u003c/td\u003e\n",
              "      \u003ctd\u003e0\u003c/td\u003e\n",
              "      \u003ctd\u003e113803\u003c/td\u003e\n",
              "      \u003ctd\u003e53.1000\u003c/td\u003e\n",
              "      \u003ctd\u003eC123\u003c/td\u003e\n",
              "      \u003ctd\u003eS\u003c/td\u003e\n",
              "    \u003c/tr\u003e\n",
              "    \u003ctr\u003e\n",
              "      \u003cth\u003e4\u003c/th\u003e\n",
              "      \u003ctd\u003e0\u003c/td\u003e\n",
              "      \u003ctd\u003e3\u003c/td\u003e\n",
              "      \u003ctd\u003eAllen, Mr. William Henry\u003c/td\u003e\n",
              "      \u003ctd\u003e1\u003c/td\u003e\n",
              "      \u003ctd\u003e35.0\u003c/td\u003e\n",
              "      \u003ctd\u003e0\u003c/td\u003e\n",
              "      \u003ctd\u003e0\u003c/td\u003e\n",
              "      \u003ctd\u003e373450\u003c/td\u003e\n",
              "      \u003ctd\u003e8.0500\u003c/td\u003e\n",
              "      \u003ctd\u003eNaN\u003c/td\u003e\n",
              "      \u003ctd\u003eS\u003c/td\u003e\n",
              "    \u003c/tr\u003e\n",
              "  \u003c/tbody\u003e\n",
              "\u003c/table\u003e\n",
              "\u003c/div\u003e"
            ],
            "text/plain": [
              "   Survived  Pclass                                               Name  Sex  \\\n",
              "0         0       3                            Braund, Mr. Owen Harris    1   \n",
              "1         1       1  Cumings, Mrs. John Bradley (Florence Briggs Th...    0   \n",
              "2         1       3                             Heikkinen, Miss. Laina    0   \n",
              "3         1       1       Futrelle, Mrs. Jacques Heath (Lily May Peel)    0   \n",
              "4         0       3                           Allen, Mr. William Henry    1   \n",
              "\n",
              "    Age  SibSp  Parch            Ticket     Fare Cabin Embarked  \n",
              "0  22.0      1      0         A/5 21171   7.2500   NaN        S  \n",
              "1  38.0      1      0          PC 17599  71.2833   C85        C  \n",
              "2  26.0      0      0  STON/O2. 3101282   7.9250   NaN        S  \n",
              "3  35.0      1      0            113803  53.1000  C123        S  \n",
              "4  35.0      0      0            373450   8.0500   NaN        S  "
            ]
          },
          "execution_count": 3,
          "metadata": {},
          "output_type": "execute_result"
        }
      ],
      "source": [
        "train_df[\u0027Sex\u0027] \u003d train_df.Sex.apply(lambda x: 0 if x \u003d\u003d \"female\" else 1)\n",
        "test_df[\u0027Sex\u0027] \u003d test_df.Sex.apply(lambda x: 0 if x \u003d\u003d \"female\" else 1)\n",
        "train_df.head()\n"
      ]
    },
    {
      "cell_type": "code",
      "execution_count": 4,
      "metadata": {
        "pycharm": {}
      },
      "outputs": [
        {
          "data": {
            "text/html": [
              "\u003cdiv\u003e\n",
              "\u003cstyle scoped\u003e\n",
              "    .dataframe tbody tr th:only-of-type {\n",
              "        vertical-align: middle;\n",
              "    }\n",
              "\n",
              "    .dataframe tbody tr th {\n",
              "        vertical-align: top;\n",
              "    }\n",
              "\n",
              "    .dataframe thead th {\n",
              "        text-align: right;\n",
              "    }\n",
              "\u003c/style\u003e\n",
              "\u003ctable border\u003d\"1\" class\u003d\"dataframe\"\u003e\n",
              "  \u003cthead\u003e\n",
              "    \u003ctr style\u003d\"text-align: right;\"\u003e\n",
              "      \u003cth\u003e\u003c/th\u003e\n",
              "      \u003cth\u003eSurvived\u003c/th\u003e\n",
              "      \u003cth\u003ePclass\u003c/th\u003e\n",
              "      \u003cth\u003eName\u003c/th\u003e\n",
              "      \u003cth\u003eSex\u003c/th\u003e\n",
              "      \u003cth\u003eAge\u003c/th\u003e\n",
              "      \u003cth\u003eSibSp\u003c/th\u003e\n",
              "      \u003cth\u003eParch\u003c/th\u003e\n",
              "      \u003cth\u003eTicket\u003c/th\u003e\n",
              "      \u003cth\u003eFare\u003c/th\u003e\n",
              "      \u003cth\u003eCabin\u003c/th\u003e\n",
              "      \u003cth\u003eEmbarked\u003c/th\u003e\n",
              "    \u003c/tr\u003e\n",
              "  \u003c/thead\u003e\n",
              "  \u003ctbody\u003e\n",
              "    \u003ctr\u003e\n",
              "      \u003cth\u003e0\u003c/th\u003e\n",
              "      \u003ctd\u003e0\u003c/td\u003e\n",
              "      \u003ctd\u003e3\u003c/td\u003e\n",
              "      \u003ctd\u003eBraund, Mr. Owen Harris\u003c/td\u003e\n",
              "      \u003ctd\u003e1\u003c/td\u003e\n",
              "      \u003ctd\u003e22.0\u003c/td\u003e\n",
              "      \u003ctd\u003e1\u003c/td\u003e\n",
              "      \u003ctd\u003e0\u003c/td\u003e\n",
              "      \u003ctd\u003eA/5 21171\u003c/td\u003e\n",
              "      \u003ctd\u003e7.2500\u003c/td\u003e\n",
              "      \u003ctd\u003eNaN\u003c/td\u003e\n",
              "      \u003ctd\u003eS\u003c/td\u003e\n",
              "    \u003c/tr\u003e\n",
              "    \u003ctr\u003e\n",
              "      \u003cth\u003e1\u003c/th\u003e\n",
              "      \u003ctd\u003e1\u003c/td\u003e\n",
              "      \u003ctd\u003e1\u003c/td\u003e\n",
              "      \u003ctd\u003eCumings, Mrs. John Bradley (Florence Briggs Th...\u003c/td\u003e\n",
              "      \u003ctd\u003e0\u003c/td\u003e\n",
              "      \u003ctd\u003e38.0\u003c/td\u003e\n",
              "      \u003ctd\u003e1\u003c/td\u003e\n",
              "      \u003ctd\u003e0\u003c/td\u003e\n",
              "      \u003ctd\u003ePC 17599\u003c/td\u003e\n",
              "      \u003ctd\u003e71.2833\u003c/td\u003e\n",
              "      \u003ctd\u003eC85\u003c/td\u003e\n",
              "      \u003ctd\u003eC\u003c/td\u003e\n",
              "    \u003c/tr\u003e\n",
              "    \u003ctr\u003e\n",
              "      \u003cth\u003e2\u003c/th\u003e\n",
              "      \u003ctd\u003e1\u003c/td\u003e\n",
              "      \u003ctd\u003e3\u003c/td\u003e\n",
              "      \u003ctd\u003eHeikkinen, Miss. Laina\u003c/td\u003e\n",
              "      \u003ctd\u003e0\u003c/td\u003e\n",
              "      \u003ctd\u003e26.0\u003c/td\u003e\n",
              "      \u003ctd\u003e0\u003c/td\u003e\n",
              "      \u003ctd\u003e0\u003c/td\u003e\n",
              "      \u003ctd\u003eSTON/O2. 3101282\u003c/td\u003e\n",
              "      \u003ctd\u003e7.9250\u003c/td\u003e\n",
              "      \u003ctd\u003eNaN\u003c/td\u003e\n",
              "      \u003ctd\u003eS\u003c/td\u003e\n",
              "    \u003c/tr\u003e\n",
              "    \u003ctr\u003e\n",
              "      \u003cth\u003e3\u003c/th\u003e\n",
              "      \u003ctd\u003e1\u003c/td\u003e\n",
              "      \u003ctd\u003e1\u003c/td\u003e\n",
              "      \u003ctd\u003eFutrelle, Mrs. Jacques Heath (Lily May Peel)\u003c/td\u003e\n",
              "      \u003ctd\u003e0\u003c/td\u003e\n",
              "      \u003ctd\u003e35.0\u003c/td\u003e\n",
              "      \u003ctd\u003e1\u003c/td\u003e\n",
              "      \u003ctd\u003e0\u003c/td\u003e\n",
              "      \u003ctd\u003e113803\u003c/td\u003e\n",
              "      \u003ctd\u003e53.1000\u003c/td\u003e\n",
              "      \u003ctd\u003eC123\u003c/td\u003e\n",
              "      \u003ctd\u003eS\u003c/td\u003e\n",
              "    \u003c/tr\u003e\n",
              "    \u003ctr\u003e\n",
              "      \u003cth\u003e4\u003c/th\u003e\n",
              "      \u003ctd\u003e0\u003c/td\u003e\n",
              "      \u003ctd\u003e3\u003c/td\u003e\n",
              "      \u003ctd\u003eAllen, Mr. William Henry\u003c/td\u003e\n",
              "      \u003ctd\u003e1\u003c/td\u003e\n",
              "      \u003ctd\u003e35.0\u003c/td\u003e\n",
              "      \u003ctd\u003e0\u003c/td\u003e\n",
              "      \u003ctd\u003e0\u003c/td\u003e\n",
              "      \u003ctd\u003e373450\u003c/td\u003e\n",
              "      \u003ctd\u003e8.0500\u003c/td\u003e\n",
              "      \u003ctd\u003eNaN\u003c/td\u003e\n",
              "      \u003ctd\u003eS\u003c/td\u003e\n",
              "    \u003c/tr\u003e\n",
              "  \u003c/tbody\u003e\n",
              "\u003c/table\u003e\n",
              "\u003c/div\u003e"
            ],
            "text/plain": [
              "   Survived  Pclass                                               Name  Sex  \\\n",
              "0         0       3                            Braund, Mr. Owen Harris    1   \n",
              "1         1       1  Cumings, Mrs. John Bradley (Florence Briggs Th...    0   \n",
              "2         1       3                             Heikkinen, Miss. Laina    0   \n",
              "3         1       1       Futrelle, Mrs. Jacques Heath (Lily May Peel)    0   \n",
              "4         0       3                           Allen, Mr. William Henry    1   \n",
              "\n",
              "    Age  SibSp  Parch            Ticket     Fare Cabin Embarked  \n",
              "0  22.0      1      0         A/5 21171   7.2500   NaN        S  \n",
              "1  38.0      1      0          PC 17599  71.2833   C85        C  \n",
              "2  26.0      0      0  STON/O2. 3101282   7.9250   NaN        S  \n",
              "3  35.0      1      0            113803  53.1000  C123        S  \n",
              "4  35.0      0      0            373450   8.0500   NaN        S  "
            ]
          },
          "execution_count": 4,
          "metadata": {},
          "output_type": "execute_result"
        }
      ],
      "source": [
        "test_df[\u0027Fare\u0027].fillna(test_df[\u0027Fare\u0027].mean(),inplace\u003dTrue)\n",
        "train_df.head()"
      ]
    },
    {
      "cell_type": "code",
      "execution_count": 5,
      "metadata": {
        "pycharm": {}
      },
      "outputs": [
        {
          "data": {
            "text/html": [
              "\u003cdiv\u003e\n",
              "\u003cstyle scoped\u003e\n",
              "    .dataframe tbody tr th:only-of-type {\n",
              "        vertical-align: middle;\n",
              "    }\n",
              "\n",
              "    .dataframe tbody tr th {\n",
              "        vertical-align: top;\n",
              "    }\n",
              "\n",
              "    .dataframe thead th {\n",
              "        text-align: right;\n",
              "    }\n",
              "\u003c/style\u003e\n",
              "\u003ctable border\u003d\"1\" class\u003d\"dataframe\"\u003e\n",
              "  \u003cthead\u003e\n",
              "    \u003ctr style\u003d\"text-align: right;\"\u003e\n",
              "      \u003cth\u003e\u003c/th\u003e\n",
              "      \u003cth\u003eAge\u003c/th\u003e\n",
              "      \u003cth\u003eCabin\u003c/th\u003e\n",
              "      \u003cth\u003eEmbarked\u003c/th\u003e\n",
              "      \u003cth\u003eFare\u003c/th\u003e\n",
              "      \u003cth\u003eName\u003c/th\u003e\n",
              "      \u003cth\u003eParch\u003c/th\u003e\n",
              "      \u003cth\u003ePassengerId\u003c/th\u003e\n",
              "      \u003cth\u003ePclass\u003c/th\u003e\n",
              "      \u003cth\u003eSex\u003c/th\u003e\n",
              "      \u003cth\u003eSibSp\u003c/th\u003e\n",
              "      \u003cth\u003eSurvived\u003c/th\u003e\n",
              "      \u003cth\u003eTicket\u003c/th\u003e\n",
              "      \u003cth\u003eTitle\u003c/th\u003e\n",
              "    \u003c/tr\u003e\n",
              "  \u003c/thead\u003e\n",
              "  \u003ctbody\u003e\n",
              "    \u003ctr\u003e\n",
              "      \u003cth\u003e0\u003c/th\u003e\n",
              "      \u003ctd\u003e22.0\u003c/td\u003e\n",
              "      \u003ctd\u003eNaN\u003c/td\u003e\n",
              "      \u003ctd\u003eS\u003c/td\u003e\n",
              "      \u003ctd\u003e7.2500\u003c/td\u003e\n",
              "      \u003ctd\u003eBraund, Mr. Owen Harris\u003c/td\u003e\n",
              "      \u003ctd\u003e0\u003c/td\u003e\n",
              "      \u003ctd\u003e1\u003c/td\u003e\n",
              "      \u003ctd\u003e3\u003c/td\u003e\n",
              "      \u003ctd\u003emale\u003c/td\u003e\n",
              "      \u003ctd\u003e1\u003c/td\u003e\n",
              "      \u003ctd\u003e0.0\u003c/td\u003e\n",
              "      \u003ctd\u003eA/5 21171\u003c/td\u003e\n",
              "      \u003ctd\u003eMr\u003c/td\u003e\n",
              "    \u003c/tr\u003e\n",
              "    \u003ctr\u003e\n",
              "      \u003cth\u003e1\u003c/th\u003e\n",
              "      \u003ctd\u003e38.0\u003c/td\u003e\n",
              "      \u003ctd\u003eC85\u003c/td\u003e\n",
              "      \u003ctd\u003eC\u003c/td\u003e\n",
              "      \u003ctd\u003e71.2833\u003c/td\u003e\n",
              "      \u003ctd\u003eCumings, Mrs. John Bradley (Florence Briggs Th...\u003c/td\u003e\n",
              "      \u003ctd\u003e0\u003c/td\u003e\n",
              "      \u003ctd\u003e2\u003c/td\u003e\n",
              "      \u003ctd\u003e1\u003c/td\u003e\n",
              "      \u003ctd\u003efemale\u003c/td\u003e\n",
              "      \u003ctd\u003e1\u003c/td\u003e\n",
              "      \u003ctd\u003e1.0\u003c/td\u003e\n",
              "      \u003ctd\u003ePC 17599\u003c/td\u003e\n",
              "      \u003ctd\u003eMrs\u003c/td\u003e\n",
              "    \u003c/tr\u003e\n",
              "    \u003ctr\u003e\n",
              "      \u003cth\u003e2\u003c/th\u003e\n",
              "      \u003ctd\u003e26.0\u003c/td\u003e\n",
              "      \u003ctd\u003eNaN\u003c/td\u003e\n",
              "      \u003ctd\u003eS\u003c/td\u003e\n",
              "      \u003ctd\u003e7.9250\u003c/td\u003e\n",
              "      \u003ctd\u003eHeikkinen, Miss. Laina\u003c/td\u003e\n",
              "      \u003ctd\u003e0\u003c/td\u003e\n",
              "      \u003ctd\u003e3\u003c/td\u003e\n",
              "      \u003ctd\u003e3\u003c/td\u003e\n",
              "      \u003ctd\u003efemale\u003c/td\u003e\n",
              "      \u003ctd\u003e0\u003c/td\u003e\n",
              "      \u003ctd\u003e1.0\u003c/td\u003e\n",
              "      \u003ctd\u003eSTON/O2. 3101282\u003c/td\u003e\n",
              "      \u003ctd\u003eMiss\u003c/td\u003e\n",
              "    \u003c/tr\u003e\n",
              "    \u003ctr\u003e\n",
              "      \u003cth\u003e3\u003c/th\u003e\n",
              "      \u003ctd\u003e35.0\u003c/td\u003e\n",
              "      \u003ctd\u003eC123\u003c/td\u003e\n",
              "      \u003ctd\u003eS\u003c/td\u003e\n",
              "      \u003ctd\u003e53.1000\u003c/td\u003e\n",
              "      \u003ctd\u003eFutrelle, Mrs. Jacques Heath (Lily May Peel)\u003c/td\u003e\n",
              "      \u003ctd\u003e0\u003c/td\u003e\n",
              "      \u003ctd\u003e4\u003c/td\u003e\n",
              "      \u003ctd\u003e1\u003c/td\u003e\n",
              "      \u003ctd\u003efemale\u003c/td\u003e\n",
              "      \u003ctd\u003e1\u003c/td\u003e\n",
              "      \u003ctd\u003e1.0\u003c/td\u003e\n",
              "      \u003ctd\u003e113803\u003c/td\u003e\n",
              "      \u003ctd\u003eMrs\u003c/td\u003e\n",
              "    \u003c/tr\u003e\n",
              "    \u003ctr\u003e\n",
              "      \u003cth\u003e4\u003c/th\u003e\n",
              "      \u003ctd\u003e35.0\u003c/td\u003e\n",
              "      \u003ctd\u003eNaN\u003c/td\u003e\n",
              "      \u003ctd\u003eS\u003c/td\u003e\n",
              "      \u003ctd\u003e8.0500\u003c/td\u003e\n",
              "      \u003ctd\u003eAllen, Mr. William Henry\u003c/td\u003e\n",
              "      \u003ctd\u003e0\u003c/td\u003e\n",
              "      \u003ctd\u003e5\u003c/td\u003e\n",
              "      \u003ctd\u003e3\u003c/td\u003e\n",
              "      \u003ctd\u003emale\u003c/td\u003e\n",
              "      \u003ctd\u003e0\u003c/td\u003e\n",
              "      \u003ctd\u003e0.0\u003c/td\u003e\n",
              "      \u003ctd\u003e373450\u003c/td\u003e\n",
              "      \u003ctd\u003eMr\u003c/td\u003e\n",
              "    \u003c/tr\u003e\n",
              "  \u003c/tbody\u003e\n",
              "\u003c/table\u003e\n",
              "\u003c/div\u003e"
            ],
            "text/plain": [
              "    Age Cabin Embarked     Fare  \\\n",
              "0  22.0   NaN        S   7.2500   \n",
              "1  38.0   C85        C  71.2833   \n",
              "2  26.0   NaN        S   7.9250   \n",
              "3  35.0  C123        S  53.1000   \n",
              "4  35.0   NaN        S   8.0500   \n",
              "\n",
              "                                                Name  Parch  PassengerId  \\\n",
              "0                            Braund, Mr. Owen Harris      0            1   \n",
              "1  Cumings, Mrs. John Bradley (Florence Briggs Th...      0            2   \n",
              "2                             Heikkinen, Miss. Laina      0            3   \n",
              "3       Futrelle, Mrs. Jacques Heath (Lily May Peel)      0            4   \n",
              "4                           Allen, Mr. William Henry      0            5   \n",
              "\n",
              "   Pclass     Sex  SibSp  Survived            Ticket Title  \n",
              "0       3    male      1       0.0         A/5 21171    Mr  \n",
              "1       1  female      1       1.0          PC 17599   Mrs  \n",
              "2       3  female      0       1.0  STON/O2. 3101282  Miss  \n",
              "3       1  female      1       1.0            113803   Mrs  \n",
              "4       3    male      0       0.0            373450    Mr  "
            ]
          },
          "execution_count": 5,
          "metadata": {},
          "output_type": "execute_result"
        }
      ],
      "source": [
        "for name_string in data_df[\u0027Name\u0027]:\n",
        "    data_df[\u0027Title\u0027]\u003ddata_df[\u0027Name\u0027].str.extract(\u0027([A-Za-z]+)\\.\u0027,expand\u003dTrue)\n",
        "\n",
        "data_df.head()"
      ]
    },
    {
      "cell_type": "code",
      "execution_count": 6,
      "metadata": {
        "pycharm": {}
      },
      "outputs": [],
      "source": [
        "mapping \u003d {\n",
        "    \u0027Mlle\u0027: \u0027Miss\u0027, \n",
        "    \u0027Major\u0027: \u0027Mr\u0027,\n",
        "    \u0027Col\u0027: \u0027Mr\u0027,\n",
        "    \u0027Sir\u0027: \u0027Mr\u0027,\n",
        "    \u0027Don\u0027: \u0027Mr\u0027,\n",
        "    \u0027Mme\u0027: \u0027Miss\u0027,\n",
        "    \u0027Jonkheer\u0027: \u0027Mr\u0027,\n",
        "    \u0027Lady\u0027: \u0027Mrs\u0027,\n",
        "    \u0027Capt\u0027: \u0027Mr\u0027,\n",
        "    \u0027Countess\u0027: \u0027Mrs\u0027,\n",
        "    \u0027Ms\u0027: \u0027Miss\u0027,\n",
        "    \u0027Dona\u0027: \u0027Mrs\u0027}\n",
        "\n",
        "data_df.replace({\u0027Title\u0027: mapping}, inplace\u003dTrue)\n",
        "\n",
        "train_df[\u0027Title\u0027] \u003d data_df[\u0027Title\u0027][:891]\n",
        "test_df[\u0027Title\u0027] \u003d data_df[\u0027Title\u0027][891:]\n"
      ]
    },
    {
      "cell_type": "code",
      "execution_count": 7,
      "metadata": {
        "pycharm": {}
      },
      "outputs": [
        {
          "data": {
            "text/plain": [
              "Survived      0\n",
              "Pclass        0\n",
              "Name          0\n",
              "Sex           0\n",
              "Age           0\n",
              "SibSp         0\n",
              "Parch         0\n",
              "Ticket        0\n",
              "Fare          0\n",
              "Cabin       687\n",
              "Embarked      2\n",
              "Title         0\n",
              "dtype: int64"
            ]
          },
          "execution_count": 7,
          "metadata": {},
          "output_type": "execute_result"
        }
      ],
      "source": [
        "titles\u003d[\u0027Mr\u0027,\u0027Miss\u0027,\u0027Mrs\u0027,\u0027Master\u0027,\u0027Rev\u0027,\u0027Dr\u0027]\n",
        "for title in titles:\n",
        "    age_to_impute \u003d data_df.groupby(\u0027Title\u0027)[\u0027Age\u0027].median()[titles.index(title)]\n",
        "    data_df.loc[(data_df[\u0027Age\u0027].isnull()) \u0026 (data_df[\u0027Title\u0027] \u003d\u003d title), \u0027Age\u0027] \u003d age_to_impute\n",
        "\n",
        "\n",
        "train_df[\u0027Age\u0027] \u003d data_df[\u0027Age\u0027][:891]\n",
        "test_df[\u0027Age\u0027] \u003d data_df[\u0027Age\u0027][891:]\n",
        "train_df.isnull().sum()"
      ]
    },
    {
      "cell_type": "code",
      "execution_count": 8,
      "metadata": {
        "pycharm": {}
      },
      "outputs": [
        {
          "data": {
            "text/plain": [
              "Survived    0\n",
              "Pclass      0\n",
              "Name        0\n",
              "Sex         0\n",
              "Age         0\n",
              "SibSp       0\n",
              "Parch       0\n",
              "Ticket      0\n",
              "Fare        0\n",
              "Embarked    2\n",
              "dtype: int64"
            ]
          },
          "execution_count": 8,
          "metadata": {},
          "output_type": "execute_result"
        }
      ],
      "source": [
        "test_df.drop([\u0027Title\u0027,\u0027Cabin\u0027],axis\u003d1,inplace\u003dTrue)\n",
        "train_df.drop([\u0027Title\u0027,\u0027Cabin\u0027],axis\u003d1,inplace\u003dTrue)\n",
        "\n",
        "train_df.isnull().sum()"
      ]
    },
    {
      "cell_type": "code",
      "execution_count": 9,
      "metadata": {
        "pycharm": {}
      },
      "outputs": [
        {
          "data": {
            "text/plain": [
              "Survived    0\n",
              "Pclass      0\n",
              "Name        0\n",
              "Sex         0\n",
              "Age         0\n",
              "SibSp       0\n",
              "Parch       0\n",
              "Ticket      0\n",
              "Fare        0\n",
              "Embarked    0\n",
              "dtype: int64"
            ]
          },
          "execution_count": 9,
          "metadata": {},
          "output_type": "execute_result"
        }
      ],
      "source": [
        "train_df[\u0027Embarked\u0027].fillna(\u0027S\u0027,inplace\u003dTrue)\n",
        "#train_df.Embarked.value_counts()\n",
        "train_df.isnull().sum()"
      ]
    },
    {
      "cell_type": "code",
      "execution_count": 10,
      "metadata": {
        "pycharm": {}
      },
      "outputs": [
        {
          "data": {
            "text/html": [
              "\u003cdiv\u003e\n",
              "\u003cstyle scoped\u003e\n",
              "    .dataframe tbody tr th:only-of-type {\n",
              "        vertical-align: middle;\n",
              "    }\n",
              "\n",
              "    .dataframe tbody tr th {\n",
              "        vertical-align: top;\n",
              "    }\n",
              "\n",
              "    .dataframe thead th {\n",
              "        text-align: right;\n",
              "    }\n",
              "\u003c/style\u003e\n",
              "\u003ctable border\u003d\"1\" class\u003d\"dataframe\"\u003e\n",
              "  \u003cthead\u003e\n",
              "    \u003ctr style\u003d\"text-align: right;\"\u003e\n",
              "      \u003cth\u003e\u003c/th\u003e\n",
              "      \u003cth\u003ePclass\u003c/th\u003e\n",
              "      \u003cth\u003eName\u003c/th\u003e\n",
              "      \u003cth\u003eSex\u003c/th\u003e\n",
              "      \u003cth\u003eAge\u003c/th\u003e\n",
              "      \u003cth\u003eSibSp\u003c/th\u003e\n",
              "      \u003cth\u003eParch\u003c/th\u003e\n",
              "      \u003cth\u003eTicket\u003c/th\u003e\n",
              "      \u003cth\u003eFare\u003c/th\u003e\n",
              "      \u003cth\u003eEmbarked\u003c/th\u003e\n",
              "    \u003c/tr\u003e\n",
              "  \u003c/thead\u003e\n",
              "  \u003ctbody\u003e\n",
              "    \u003ctr\u003e\n",
              "      \u003cth\u003e0\u003c/th\u003e\n",
              "      \u003ctd\u003e3\u003c/td\u003e\n",
              "      \u003ctd\u003eKelly, Mr. James\u003c/td\u003e\n",
              "      \u003ctd\u003e1\u003c/td\u003e\n",
              "      \u003ctd\u003e34.5\u003c/td\u003e\n",
              "      \u003ctd\u003e0\u003c/td\u003e\n",
              "      \u003ctd\u003e0\u003c/td\u003e\n",
              "      \u003ctd\u003e330911\u003c/td\u003e\n",
              "      \u003ctd\u003e7.8292\u003c/td\u003e\n",
              "      \u003ctd\u003e3\u003c/td\u003e\n",
              "    \u003c/tr\u003e\n",
              "    \u003ctr\u003e\n",
              "      \u003cth\u003e1\u003c/th\u003e\n",
              "      \u003ctd\u003e3\u003c/td\u003e\n",
              "      \u003ctd\u003eWilkes, Mrs. James (Ellen Needs)\u003c/td\u003e\n",
              "      \u003ctd\u003e0\u003c/td\u003e\n",
              "      \u003ctd\u003e47.0\u003c/td\u003e\n",
              "      \u003ctd\u003e1\u003c/td\u003e\n",
              "      \u003ctd\u003e0\u003c/td\u003e\n",
              "      \u003ctd\u003e363272\u003c/td\u003e\n",
              "      \u003ctd\u003e7.0000\u003c/td\u003e\n",
              "      \u003ctd\u003e1\u003c/td\u003e\n",
              "    \u003c/tr\u003e\n",
              "    \u003ctr\u003e\n",
              "      \u003cth\u003e2\u003c/th\u003e\n",
              "      \u003ctd\u003e2\u003c/td\u003e\n",
              "      \u003ctd\u003eMyles, Mr. Thomas Francis\u003c/td\u003e\n",
              "      \u003ctd\u003e1\u003c/td\u003e\n",
              "      \u003ctd\u003e62.0\u003c/td\u003e\n",
              "      \u003ctd\u003e0\u003c/td\u003e\n",
              "      \u003ctd\u003e0\u003c/td\u003e\n",
              "      \u003ctd\u003e240276\u003c/td\u003e\n",
              "      \u003ctd\u003e9.6875\u003c/td\u003e\n",
              "      \u003ctd\u003e3\u003c/td\u003e\n",
              "    \u003c/tr\u003e\n",
              "    \u003ctr\u003e\n",
              "      \u003cth\u003e3\u003c/th\u003e\n",
              "      \u003ctd\u003e3\u003c/td\u003e\n",
              "      \u003ctd\u003eWirz, Mr. Albert\u003c/td\u003e\n",
              "      \u003ctd\u003e1\u003c/td\u003e\n",
              "      \u003ctd\u003e27.0\u003c/td\u003e\n",
              "      \u003ctd\u003e0\u003c/td\u003e\n",
              "      \u003ctd\u003e0\u003c/td\u003e\n",
              "      \u003ctd\u003e315154\u003c/td\u003e\n",
              "      \u003ctd\u003e8.6625\u003c/td\u003e\n",
              "      \u003ctd\u003e1\u003c/td\u003e\n",
              "    \u003c/tr\u003e\n",
              "    \u003ctr\u003e\n",
              "      \u003cth\u003e4\u003c/th\u003e\n",
              "      \u003ctd\u003e3\u003c/td\u003e\n",
              "      \u003ctd\u003eHirvonen, Mrs. Alexander (Helga E Lindqvist)\u003c/td\u003e\n",
              "      \u003ctd\u003e0\u003c/td\u003e\n",
              "      \u003ctd\u003e22.0\u003c/td\u003e\n",
              "      \u003ctd\u003e1\u003c/td\u003e\n",
              "      \u003ctd\u003e1\u003c/td\u003e\n",
              "      \u003ctd\u003e3101298\u003c/td\u003e\n",
              "      \u003ctd\u003e12.2875\u003c/td\u003e\n",
              "      \u003ctd\u003e1\u003c/td\u003e\n",
              "    \u003c/tr\u003e\n",
              "  \u003c/tbody\u003e\n",
              "\u003c/table\u003e\n",
              "\u003c/div\u003e"
            ],
            "text/plain": [
              "   Pclass                                          Name  Sex   Age  SibSp  \\\n",
              "0       3                              Kelly, Mr. James    1  34.5      0   \n",
              "1       3              Wilkes, Mrs. James (Ellen Needs)    0  47.0      1   \n",
              "2       2                     Myles, Mr. Thomas Francis    1  62.0      0   \n",
              "3       3                              Wirz, Mr. Albert    1  27.0      0   \n",
              "4       3  Hirvonen, Mrs. Alexander (Helga E Lindqvist)    0  22.0      1   \n",
              "\n",
              "   Parch   Ticket     Fare  Embarked  \n",
              "0      0   330911   7.8292         3  \n",
              "1      0   363272   7.0000         1  \n",
              "2      0   240276   9.6875         3  \n",
              "3      0   315154   8.6625         1  \n",
              "4      1  3101298  12.2875         1  "
            ]
          },
          "execution_count": 10,
          "metadata": {},
          "output_type": "execute_result"
        }
      ],
      "source": [
        "embarked_values \u003d {\u0027S\u0027:1,\u0027C\u0027:2,\u0027Q\u0027:3}\n",
        "train_df.replace({\u0027Embarked\u0027: embarked_values}, inplace\u003dTrue)\n",
        "test_df.replace({\u0027Embarked\u0027: embarked_values}, inplace\u003dTrue)\n",
        "test_df.head()"
      ]
    },
    {
      "cell_type": "code",
      "execution_count": 11,
      "metadata": {
        "pycharm": {}
      },
      "outputs": [
        {
          "data": {
            "text/plain": [
              "Text(0.5, 1.0, \u0027Correlations Among Features\u0027)"
            ]
          },
          "execution_count": 11,
          "metadata": {},
          "output_type": "execute_result"
        },
        {
          "data": {
            "image/png": "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\u003d\n",
            "text/plain": [
              "\u003cFigure size 1080x576 with 2 Axes\u003e"
            ]
          },
          "metadata": {
            "needs_background": "light"
          },
          "output_type": "display_data"
        }
      ],
      "source": [
        "plt.subplots(figsize \u003d (15,8))\n",
        "sns.heatmap(train_df.corr(), annot\u003dTrue,cmap\u003d\"PiYG\")\n",
        "plt.title(\"Correlations Among Features\", fontsize \u003d 20)"
      ]
    },
    {
      "cell_type": "code",
      "execution_count": 12,
      "metadata": {
        "pycharm": {}
      },
      "outputs": [
        {
          "data": {
            "text/plain": [
              "([\u003cmatplotlib.axis.XTick at 0x7fcea3214940\u003e,\n",
              "  \u003cmatplotlib.axis.XTick at 0x7fcea3214278\u003e],\n",
              " \u003ca list of 2 Text xticklabel objects\u003e)"
            ]
          },
          "execution_count": 12,
          "metadata": {},
          "output_type": "execute_result"
        },
        {
          "data": {
            "image/png": "[encoded data removed]",
            "text/plain": [
              "\u003cFigure size 864x576 with 1 Axes\u003e"
            ]
          },
          "metadata": {
            "needs_background": "light"
          },
          "output_type": "display_data"
        }
      ],
      "source": [
        "plt.subplots(figsize \u003d (12,8))\n",
        "sns.barplot(x \u003d \"Sex\", y \u003d \"Survived\", data\u003dtrain_df, edgecolor\u003d(0,0,0), linewidth\u003d1)\n",
        "plt.title(\"Survived/Non-Survived Passenger Gender Distribution\", fontsize \u003d 25)\n",
        "labels \u003d [\u0027Female\u0027, \u0027Male\u0027]\n",
        "plt.ylabel(\"% of passenger survived\", fontsize \u003d 12)\n",
        "plt.xlabel(\"Gender\",fontsize \u003d 15)\n",
        "plt.xticks(sorted(train_df.Sex.unique()), labels)\n"
      ]
    },
    {
      "cell_type": "code",
      "execution_count": 13,
      "metadata": {
        "pycharm": {}
      },
      "outputs": [
        {
          "data": {
            "image/png": "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\u003d\u003d\n",
            "text/plain": [
              "\u003cFigure size 576x576 with 1 Axes\u003e"
            ]
          },
          "metadata": {
            "needs_background": "light"
          },
          "output_type": "display_data"
        }
      ],
      "source": [
        "plt.subplots(figsize \u003d (8,8))\n",
        "ax\u003dsns.countplot(x\u003d\u0027Pclass\u0027,hue\u003d\u0027Survived\u0027,data\u003dtrain_df)\n",
        "plt.title(\"Passenger Class Distribution - Survived vs Non-Survived\", fontsize \u003d 25)\n",
        "leg\u003dax.get_legend()\n",
        "leg.set_title(\u0027Survival\u0027)\n",
        "legs\u003dleg.texts\n",
        "\n",
        "legs[0].set_text(\u0027No\u0027)\n",
        "legs[1].set_text(\"yes\")"
      ]
    },
    {
      "cell_type": "code",
      "execution_count": 14,
      "metadata": {
        "pycharm": {}
      },
      "outputs": [
        {
          "data": {
            "text/plain": [
              "Text(0.5, 0, \u0027Fare\u0027)"
            ]
          },
          "execution_count": 14,
          "metadata": {},
          "output_type": "execute_result"
        },
        {
          "data": {
            "image/png": "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\u003d\n",
            "text/plain": [
              "\u003cFigure size 1080x720 with 1 Axes\u003e"
            ]
          },
          "metadata": {
            "needs_background": "light"
          },
          "output_type": "display_data"
        }
      ],
      "source": [
        "plt.subplots(figsize\u003d(15,10))\n",
        "\n",
        "ax\u003dsns.kdeplot(train_df.loc[(train_df[\u0027Survived\u0027] \u003d\u003d 0),\u0027Fare\u0027],color\u003d\u0027r\u0027,shade\u003dTrue,label\u003d\u0027Not Survived\u0027)\n",
        "ax\u003dsns.kdeplot(train_df.loc[(train_df[\u0027Survived\u0027] \u003d\u003d 1),\u0027Fare\u0027],color\u003d\u0027b\u0027,shade\u003dTrue,label\u003d\u0027Survived\u0027 )\n",
        "plt.title(\u0027Fare Distribution Survived vs Non Survived\u0027,fontsize\u003d25)\n",
        "plt.ylabel(\u0027Frequency of Passenger Survived\u0027,fontsize\u003d20)\n",
        "plt.xlabel(\u0027Fare\u0027,fontsize\u003d20)"
      ]
    },
    {
      "cell_type": "code",
      "execution_count": 15,
      "metadata": {
        "pycharm": {}
      },
      "outputs": [
        {
          "data": {
            "text/plain": [
              "Pclass      0\n",
              "Sex         0\n",
              "Age         0\n",
              "SibSp       0\n",
              "Parch       0\n",
              "Fare        0\n",
              "Embarked    0\n",
              "dtype: int64"
            ]
          },
          "execution_count": 15,
          "metadata": {},
          "output_type": "execute_result"
        }
      ],
      "source": [
        "X \u003d train_df.drop([\u0027Survived\u0027,\u0027Name\u0027,\u0027Ticket\u0027], 1)\n",
        "y \u003d train_df[\u0027Survived\u0027]\n",
        "X_test \u003d test_df.copy()\n",
        "X_test \u003d X_test.drop([\u0027Name\u0027, \u0027Ticket\u0027],1)\n",
        "\n",
        "X_test.isnull().sum()"
      ]
    },
    {
      "cell_type": "code",
      "execution_count": 16,
      "metadata": {
        "pycharm": {}
      },
      "outputs": [
        {
          "data": {
            "text/plain": [
              "98.2"
            ]
          },
          "execution_count": 16,
          "metadata": {},
          "output_type": "execute_result"
        }
      ],
      "source": [
        "from sklearn.ensemble import RandomForestClassifier\n",
        "random_forest \u003d RandomForestClassifier(n_estimators\u003d100)\n",
        "random_forest.fit(X, y)\n",
        "Y_pred \u003d random_forest.predict(X_test)\n",
        "random_forest.score(X, y)\n",
        "acc_random_forest \u003d round(random_forest.score(X, y) * 100, 2)\n",
        "acc_random_forest"
      ]
    },
    {
      "cell_type": "code",
      "execution_count": 17,
      "metadata": {
        "pycharm": {}
      },
      "outputs": [
        {
          "data": {
            "text/plain": [
              "98.2"
            ]
          },
          "execution_count": 17,
          "metadata": {},
          "output_type": "execute_result"
        }
      ],
      "source": [
        "from sklearn.tree import DecisionTreeClassifier\n",
        "decision_tree \u003d DecisionTreeClassifier()\n",
        "decision_tree.fit(X, y)\n",
        "Y_pred \u003d decision_tree.predict(X_test)\n",
        "acc_decision_tree \u003d round(decision_tree.score(X, y) * 100, 2)\n",
        "acc_decision_tree"
      ]
    },
    {
      "cell_type": "code",
      "execution_count": 18,
      "metadata": {
        "pycharm": {}
      },
      "outputs": [
        {
          "data": {
            "text/plain": [
              "80.58"
            ]
          },
          "execution_count": 18,
          "metadata": {},
          "output_type": "execute_result"
        }
      ],
      "source": [
        "from sklearn.linear_model import LogisticRegression\n",
        "logreg \u003d LogisticRegression()\n",
        "logreg.fit(X, y)\n",
        "Y_pred \u003d logreg.predict(X_test)\n",
        "acc_log \u003d round(logreg.score(X, y) * 100, 2)\n",
        "acc_log"
      ]
    },
    {
      "cell_type": "code",
      "execution_count": 19,
      "metadata": {
        "pycharm": {}
      },
      "outputs": [
        {
          "data": {
            "text/plain": [
              "79.57"
            ]
          },
          "execution_count": 19,
          "metadata": {},
          "output_type": "execute_result"
        }
      ],
      "source": [
        "from sklearn.naive_bayes import GaussianNB\n",
        "gaussian \u003d GaussianNB()\n",
        "gaussian.fit(X, y)\n",
        "Y_pred \u003d gaussian.predict(X_test)\n",
        "acc_gaussian \u003d round(gaussian.score(X, y) * 100, 2)\n",
        "acc_gaussian"
      ]
    },
    {
      "cell_type": "code",
      "execution_count": 20,
      "metadata": {
        "pycharm": {}
      },
      "outputs": [
        {
          "data": {
            "text/plain": [
              "68.13"
            ]
          },
          "execution_count": 20,
          "metadata": {},
          "output_type": "execute_result"
        }
      ],
      "source": [
        "from sklearn.linear_model import Perceptron\n",
        "perceptron \u003d Perceptron()\n",
        "perceptron.fit(X, y)\n",
        "Y_pred \u003d perceptron.predict(X_test)\n",
        "acc_perceptron \u003d round(perceptron.score(X, y) * 100, 2)\n",
        "acc_perceptron"
      ]
    },
    {
      "cell_type": "code",
      "execution_count": 21,
      "metadata": {
        "pycharm": {}
      },
      "outputs": [
        {
          "data": {
            "text/plain": [
              "62.96"
            ]
          },
          "execution_count": 21,
          "metadata": {},
          "output_type": "execute_result"
        }
      ],
      "source": [
        "from sklearn.linear_model import SGDClassifier\n",
        "sgd \u003d SGDClassifier()\n",
        "sgd.fit(X, y)\n",
        "Y_pred \u003d sgd.predict(X_test)\n",
        "acc_sgd \u003d round(sgd.score(X, y) * 100, 2)\n",
        "acc_sgd"
      ]
    },
    {
      "cell_type": "code",
      "execution_count": 22,
      "metadata": {
        "pycharm": {}
      },
      "outputs": [
        {
          "data": {
            "text/plain": [
              "Text(0.5, 0, \u0027Model Type\u0027)"
            ]
          },
          "execution_count": 22,
          "metadata": {},
          "output_type": "execute_result"
        },
        {
          "data": {
            "image/png": "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\u003d\u003d\n",
            "text/plain": [
              "\u003cFigure size 864x576 with 1 Axes\u003e"
            ]
          },
          "metadata": {
            "needs_background": "light"
          },
          "output_type": "display_data"
        }
      ],
      "source": [
        "models \u003d pd.DataFrame({\n",
        "    \u0027Model\u0027: [\u0027Logistic Regression\u0027, \u0027Random Forest\u0027, \u0027Naive Bayes\u0027, \u0027Perceptron\u0027, \u0027Decision Tree\u0027],\n",
        "    \u0027Score\u0027: [acc_log, acc_random_forest, acc_gaussian, acc_perceptron, acc_decision_tree]})\n",
        "\n",
        "models.sort_values(by\u003d\u0027Score\u0027, ascending\u003dFalse)\n",
        "\n",
        "plt.subplots(figsize \u003d (12,8))\n",
        "sns.barplot(x \u003d \"Model\", y \u003d \"Score\", data\u003dmodels, edgecolor\u003d(0,0,0), linewidth\u003d1)\n",
        "plt.title(\"Model Type vs Score\", fontsize \u003d 25)\n",
        "plt.ylabel(\"Score (%)\", fontsize \u003d 12)\n",
        "plt.xlabel(\"Model Type\",fontsize \u003d 15)\n"
      ]
    },
    {
      "cell_type": "code",
      "execution_count": 23,
      "metadata": {
        "pycharm": {}
      },
      "outputs": [
        {
          "data": {
            "text/html": [
              "\u003cdiv\u003e\n",
              "\u003cstyle scoped\u003e\n",
              "    .dataframe tbody tr th:only-of-type {\n",
              "        vertical-align: middle;\n",
              "    }\n",
              "\n",
              "    .dataframe tbody tr th {\n",
              "        vertical-align: top;\n",
              "    }\n",
              "\n",
              "    .dataframe thead th {\n",
              "        text-align: right;\n",
              "    }\n",
              "\u003c/style\u003e\n",
              "\u003ctable border\u003d\"1\" class\u003d\"dataframe\"\u003e\n",
              "  \u003cthead\u003e\n",
              "    \u003ctr style\u003d\"text-align: right;\"\u003e\n",
              "      \u003cth\u003e\u003c/th\u003e\n",
              "      \u003cth\u003ePassengerId\u003c/th\u003e\n",
              "      \u003cth\u003eSurvived\u003c/th\u003e\n",
              "    \u003c/tr\u003e\n",
              "  \u003c/thead\u003e\n",
              "  \u003ctbody\u003e\n",
              "    \u003ctr\u003e\n",
              "      \u003cth\u003e0\u003c/th\u003e\n",
              "      \u003ctd\u003e892\u003c/td\u003e\n",
              "      \u003ctd\u003e0\u003c/td\u003e\n",
              "    \u003c/tr\u003e\n",
              "    \u003ctr\u003e\n",
              "      \u003cth\u003e1\u003c/th\u003e\n",
              "      \u003ctd\u003e893\u003c/td\u003e\n",
              "      \u003ctd\u003e0\u003c/td\u003e\n",
              "    \u003c/tr\u003e\n",
              "    \u003ctr\u003e\n",
              "      \u003cth\u003e2\u003c/th\u003e\n",
              "      \u003ctd\u003e894\u003c/td\u003e\n",
              "      \u003ctd\u003e0\u003c/td\u003e\n",
              "    \u003c/tr\u003e\n",
              "    \u003ctr\u003e\n",
              "      \u003cth\u003e3\u003c/th\u003e\n",
              "      \u003ctd\u003e895\u003c/td\u003e\n",
              "      \u003ctd\u003e0\u003c/td\u003e\n",
              "    \u003c/tr\u003e\n",
              "    \u003ctr\u003e\n",
              "      \u003cth\u003e4\u003c/th\u003e\n",
              "      \u003ctd\u003e896\u003c/td\u003e\n",
              "      \u003ctd\u003e0\u003c/td\u003e\n",
              "    \u003c/tr\u003e\n",
              "  \u003c/tbody\u003e\n",
              "\u003c/table\u003e\n",
              "\u003c/div\u003e"
            ],
            "text/plain": [
              "   PassengerId  Survived\n",
              "0          892         0\n",
              "1          893         0\n",
              "2          894         0\n",
              "3          895         0\n",
              "4          896         0"
            ]
          },
          "execution_count": 23,
          "metadata": {},
          "output_type": "execute_result"
        }
      ],
      "source": [
        "submission \u003d pd.DataFrame({\n",
        "        \"PassengerId\": passenger_id,\n",
        "        \"Survived\": Y_pred\n",
        "    })\n",
        "# submission.to_csv(\u0027./submission2.csv\u0027, index\u003dFalse)\n",
        "submission.head()"
      ]
    },
    {
      "cell_type": "code",
      "execution_count": null,
      "metadata": {
        "pycharm": {}
      },
      "outputs": [],
      "source": []
    }
  ],
  "metadata": {
    "kernelspec": {
      "display_name": "Python 3",
      "language": "python",
      "name": "python3"
    },
    "language_info": {
      "codemirror_mode": {
        "name": "ipython",
        "version": 3
      },
      "file_extension": ".py",
      "mimetype": "text/x-python",
      "name": "python",
      "nbconvert_exporter": "python",
      "pygments_lexer": "ipython3",
      "version": "3.7.3"
    }
  },
  "nbformat": 4,
  "nbformat_minor": 1
}