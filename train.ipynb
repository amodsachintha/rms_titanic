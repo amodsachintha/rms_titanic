{
  "cells": [
    {
      "cell_type": "code",
      "execution_count": 1,
      "metadata": {
        "pycharm": {
          "is_executing": false
        }
      },
      "outputs": [
        {
          "data": {
            "text/plain": "(418, 10)"
          },
          "metadata": {},
          "output_type": "execute_result",
          "execution_count": 1
        }
      ],
      "source": "import pandas as pd\nimport warnings\nwarnings.filterwarnings(\"ignore\", category\u003dFutureWarning)\nimport matplotlib.pyplot as plt\nimport seaborn as sns\nfrom sklearn.preprocessing import LabelEncoder\n\nlabel \u003d LabelEncoder()\n\ntrain_df \u003d pd.read_csv(\"./inputs/train.csv\")\ntest_df \u003d pd.read_csv(\"./inputs/test.csv\")\n\ntest_df.Fare.fillna(test_df.Fare.mean(), inplace\u003dTrue)\ndata_df \u003d train_df.append(test_df)\npassenger_id \u003d test_df[\u0027PassengerId\u0027]\n\ntrain_df.drop([\u0027PassengerId\u0027], axis\u003d1, inplace\u003dTrue)\ntest_df.drop([\u0027PassengerId\u0027], axis\u003d1, inplace\u003dTrue)\ntest_df.shape\n"
    },
    {
      "cell_type": "code",
      "execution_count": 2,
      "metadata": {
        "pycharm": {
          "metadata": false,
          "name": "#%%\n"
        }
      },
      "outputs": [
        {
          "name": "stdout",
          "output_type": "stream",
          "text": [
            "Survived      0\n",
            "Pclass        0\n",
            "Name          0\n",
            "Sex           0\n",
            "Age         177\n",
            "SibSp         0\n",
            "Parch         0\n",
            "Ticket        0\n",
            "Fare          0\n",
            "Cabin       687\n",
            "Embarked      2\n",
            "dtype: int64\n",
            "********************\n",
            "Pclass        0\n",
            "Name          0\n",
            "Sex           0\n",
            "Age          86\n",
            "SibSp         0\n",
            "Parch         0\n",
            "Ticket        0\n",
            "Fare          0\n",
            "Cabin       327\n",
            "Embarked      0\n",
            "dtype: int64\n"
          ]
        },
        {
          "data": {
            "text/plain": [
              "\u003cmatplotlib.axes._subplots.AxesSubplot at 0x7f1de79e3ac8\u003e"
            ]
          },
          "execution_count": 2,
          "metadata": {},
          "output_type": "execute_result"
        },
        {
          "data": {
            "image/png": "[encoded data removed]",
            "text/plain": [
              "\u003cFigure size 432x288 with 1 Axes\u003e"
            ]
          },
          "metadata": {
            "needs_background": "light"
          },
          "output_type": "display_data"
        }
      ],
      "source": [
        "print(train_df.isnull().sum())\n",
        "print(\u0027\u0027.center(20, \"*\"))\n",
        "print(test_df.isnull().sum())\n",
        "sns.boxplot(x\u003d\u0027Survived\u0027, y\u003d\u0027Fare\u0027, data\u003dtrain_df)\n"
      ]
    },
    {
      "cell_type": "code",
      "execution_count": 3,
      "metadata": {
        "pycharm": {
          "metadata": false,
          "name": "#%%\n"
        }
      },
      "outputs": [
        {
          "data": {
            "text/html": [
              "\u003cdiv\u003e\n",
              "\u003cstyle scoped\u003e\n",
              "    .dataframe tbody tr th:only-of-type {\n",
              "        vertical-align: middle;\n",
              "    }\n",
              "\n",
              "    .dataframe tbody tr th {\n",
              "        vertical-align: top;\n",
              "    }\n",
              "\n",
              "    .dataframe thead th {\n",
              "        text-align: right;\n",
              "    }\n",
              "\u003c/style\u003e\n",
              "\u003ctable border\u003d\"1\" class\u003d\"dataframe\"\u003e\n",
              "  \u003cthead\u003e\n",
              "    \u003ctr style\u003d\"text-align: right;\"\u003e\n",
              "      \u003cth\u003e\u003c/th\u003e\n",
              "      \u003cth\u003eSurvived\u003c/th\u003e\n",
              "      \u003cth\u003ePclass\u003c/th\u003e\n",
              "      \u003cth\u003eName\u003c/th\u003e\n",
              "      \u003cth\u003eSex\u003c/th\u003e\n",
              "      \u003cth\u003eAge\u003c/th\u003e\n",
              "      \u003cth\u003eSibSp\u003c/th\u003e\n",
              "      \u003cth\u003eParch\u003c/th\u003e\n",
              "      \u003cth\u003eTicket\u003c/th\u003e\n",
              "      \u003cth\u003eFare\u003c/th\u003e\n",
              "      \u003cth\u003eCabin\u003c/th\u003e\n",
              "      \u003cth\u003eEmbarked\u003c/th\u003e\n",
              "    \u003c/tr\u003e\n",
              "  \u003c/thead\u003e\n",
              "  \u003ctbody\u003e\n",
              "    \u003ctr\u003e\n",
              "      \u003cth\u003e0\u003c/th\u003e\n",
              "      \u003ctd\u003e0\u003c/td\u003e\n",
              "      \u003ctd\u003e3\u003c/td\u003e\n",
              "      \u003ctd\u003eBraund, Mr. Owen Harris\u003c/td\u003e\n",
              "      \u003ctd\u003e1\u003c/td\u003e\n",
              "      \u003ctd\u003e22.0\u003c/td\u003e\n",
              "      \u003ctd\u003e1\u003c/td\u003e\n",
              "      \u003ctd\u003e0\u003c/td\u003e\n",
              "      \u003ctd\u003eA/5 21171\u003c/td\u003e\n",
              "      \u003ctd\u003e7.2500\u003c/td\u003e\n",
              "      \u003ctd\u003eNaN\u003c/td\u003e\n",
              "      \u003ctd\u003eS\u003c/td\u003e\n",
              "    \u003c/tr\u003e\n",
              "    \u003ctr\u003e\n",
              "      \u003cth\u003e1\u003c/th\u003e\n",
              "      \u003ctd\u003e1\u003c/td\u003e\n",
              "      \u003ctd\u003e1\u003c/td\u003e\n",
              "      \u003ctd\u003eCumings, Mrs. John Bradley (Florence Briggs Th...\u003c/td\u003e\n",
              "      \u003ctd\u003e0\u003c/td\u003e\n",
              "      \u003ctd\u003e38.0\u003c/td\u003e\n",
              "      \u003ctd\u003e1\u003c/td\u003e\n",
              "      \u003ctd\u003e0\u003c/td\u003e\n",
              "      \u003ctd\u003ePC 17599\u003c/td\u003e\n",
              "      \u003ctd\u003e71.2833\u003c/td\u003e\n",
              "      \u003ctd\u003eC85\u003c/td\u003e\n",
              "      \u003ctd\u003eC\u003c/td\u003e\n",
              "    \u003c/tr\u003e\n",
              "    \u003ctr\u003e\n",
              "      \u003cth\u003e2\u003c/th\u003e\n",
              "      \u003ctd\u003e1\u003c/td\u003e\n",
              "      \u003ctd\u003e3\u003c/td\u003e\n",
              "      \u003ctd\u003eHeikkinen, Miss. Laina\u003c/td\u003e\n",
              "      \u003ctd\u003e0\u003c/td\u003e\n",
              "      \u003ctd\u003e26.0\u003c/td\u003e\n",
              "      \u003ctd\u003e0\u003c/td\u003e\n",
              "      \u003ctd\u003e0\u003c/td\u003e\n",
              "      \u003ctd\u003eSTON/O2. 3101282\u003c/td\u003e\n",
              "      \u003ctd\u003e7.9250\u003c/td\u003e\n",
              "      \u003ctd\u003eNaN\u003c/td\u003e\n",
              "      \u003ctd\u003eS\u003c/td\u003e\n",
              "    \u003c/tr\u003e\n",
              "    \u003ctr\u003e\n",
              "      \u003cth\u003e3\u003c/th\u003e\n",
              "      \u003ctd\u003e1\u003c/td\u003e\n",
              "      \u003ctd\u003e1\u003c/td\u003e\n",
              "      \u003ctd\u003eFutrelle, Mrs. Jacques Heath (Lily May Peel)\u003c/td\u003e\n",
              "      \u003ctd\u003e0\u003c/td\u003e\n",
              "      \u003ctd\u003e35.0\u003c/td\u003e\n",
              "      \u003ctd\u003e1\u003c/td\u003e\n",
              "      \u003ctd\u003e0\u003c/td\u003e\n",
              "      \u003ctd\u003e113803\u003c/td\u003e\n",
              "      \u003ctd\u003e53.1000\u003c/td\u003e\n",
              "      \u003ctd\u003eC123\u003c/td\u003e\n",
              "      \u003ctd\u003eS\u003c/td\u003e\n",
              "    \u003c/tr\u003e\n",
              "    \u003ctr\u003e\n",
              "      \u003cth\u003e4\u003c/th\u003e\n",
              "      \u003ctd\u003e0\u003c/td\u003e\n",
              "      \u003ctd\u003e3\u003c/td\u003e\n",
              "      \u003ctd\u003eAllen, Mr. William Henry\u003c/td\u003e\n",
              "      \u003ctd\u003e1\u003c/td\u003e\n",
              "      \u003ctd\u003e35.0\u003c/td\u003e\n",
              "      \u003ctd\u003e0\u003c/td\u003e\n",
              "      \u003ctd\u003e0\u003c/td\u003e\n",
              "      \u003ctd\u003e373450\u003c/td\u003e\n",
              "      \u003ctd\u003e8.0500\u003c/td\u003e\n",
              "      \u003ctd\u003eNaN\u003c/td\u003e\n",
              "      \u003ctd\u003eS\u003c/td\u003e\n",
              "    \u003c/tr\u003e\n",
              "  \u003c/tbody\u003e\n",
              "\u003c/table\u003e\n",
              "\u003c/div\u003e"
            ],
            "text/plain": [
              "   Survived  Pclass                                               Name  Sex  \\\n",
              "0         0       3                            Braund, Mr. Owen Harris    1   \n",
              "1         1       1  Cumings, Mrs. John Bradley (Florence Briggs Th...    0   \n",
              "2         1       3                             Heikkinen, Miss. Laina    0   \n",
              "3         1       1       Futrelle, Mrs. Jacques Heath (Lily May Peel)    0   \n",
              "4         0       3                           Allen, Mr. William Henry    1   \n",
              "\n",
              "    Age  SibSp  Parch            Ticket     Fare Cabin Embarked  \n",
              "0  22.0      1      0         A/5 21171   7.2500   NaN        S  \n",
              "1  38.0      1      0          PC 17599  71.2833   C85        C  \n",
              "2  26.0      0      0  STON/O2. 3101282   7.9250   NaN        S  \n",
              "3  35.0      1      0            113803  53.1000  C123        S  \n",
              "4  35.0      0      0            373450   8.0500   NaN        S  "
            ]
          },
          "execution_count": 3,
          "metadata": {},
          "output_type": "execute_result"
        }
      ],
      "source": [
        "train_df[\u0027Sex\u0027] \u003d train_df.Sex.apply(lambda x: 0 if x \u003d\u003d \"female\" else 1)\n",
        "test_df[\u0027Sex\u0027] \u003d test_df.Sex.apply(lambda x: 0 if x \u003d\u003d \"female\" else 1)\n",
        "train_df.head()\n"
      ]
    },
    {
      "cell_type": "code",
      "execution_count": 4,
      "metadata": {
        "pycharm": {}
      },
      "outputs": [
        {
          "data": {
            "text/html": [
              "\u003cdiv\u003e\n",
              "\u003cstyle scoped\u003e\n",
              "    .dataframe tbody tr th:only-of-type {\n",
              "        vertical-align: middle;\n",
              "    }\n",
              "\n",
              "    .dataframe tbody tr th {\n",
              "        vertical-align: top;\n",
              "    }\n",
              "\n",
              "    .dataframe thead th {\n",
              "        text-align: right;\n",
              "    }\n",
              "\u003c/style\u003e\n",
              "\u003ctable border\u003d\"1\" class\u003d\"dataframe\"\u003e\n",
              "  \u003cthead\u003e\n",
              "    \u003ctr style\u003d\"text-align: right;\"\u003e\n",
              "      \u003cth\u003e\u003c/th\u003e\n",
              "      \u003cth\u003eSurvived\u003c/th\u003e\n",
              "      \u003cth\u003ePclass\u003c/th\u003e\n",
              "      \u003cth\u003eName\u003c/th\u003e\n",
              "      \u003cth\u003eSex\u003c/th\u003e\n",
              "      \u003cth\u003eAge\u003c/th\u003e\n",
              "      \u003cth\u003eSibSp\u003c/th\u003e\n",
              "      \u003cth\u003eParch\u003c/th\u003e\n",
              "      \u003cth\u003eTicket\u003c/th\u003e\n",
              "      \u003cth\u003eFare\u003c/th\u003e\n",
              "      \u003cth\u003eCabin\u003c/th\u003e\n",
              "      \u003cth\u003eEmbarked\u003c/th\u003e\n",
              "    \u003c/tr\u003e\n",
              "  \u003c/thead\u003e\n",
              "  \u003ctbody\u003e\n",
              "    \u003ctr\u003e\n",
              "      \u003cth\u003e0\u003c/th\u003e\n",
              "      \u003ctd\u003e0\u003c/td\u003e\n",
              "      \u003ctd\u003e3\u003c/td\u003e\n",
              "      \u003ctd\u003eBraund, Mr. Owen Harris\u003c/td\u003e\n",
              "      \u003ctd\u003e1\u003c/td\u003e\n",
              "      \u003ctd\u003e22.0\u003c/td\u003e\n",
              "      \u003ctd\u003e1\u003c/td\u003e\n",
              "      \u003ctd\u003e0\u003c/td\u003e\n",
              "      \u003ctd\u003eA/5 21171\u003c/td\u003e\n",
              "      \u003ctd\u003e7.2500\u003c/td\u003e\n",
              "      \u003ctd\u003eNaN\u003c/td\u003e\n",
              "      \u003ctd\u003eS\u003c/td\u003e\n",
              "    \u003c/tr\u003e\n",
              "    \u003ctr\u003e\n",
              "      \u003cth\u003e1\u003c/th\u003e\n",
              "      \u003ctd\u003e1\u003c/td\u003e\n",
              "      \u003ctd\u003e1\u003c/td\u003e\n",
              "      \u003ctd\u003eCumings, Mrs. John Bradley (Florence Briggs Th...\u003c/td\u003e\n",
              "      \u003ctd\u003e0\u003c/td\u003e\n",
              "      \u003ctd\u003e38.0\u003c/td\u003e\n",
              "      \u003ctd\u003e1\u003c/td\u003e\n",
              "      \u003ctd\u003e0\u003c/td\u003e\n",
              "      \u003ctd\u003ePC 17599\u003c/td\u003e\n",
              "      \u003ctd\u003e71.2833\u003c/td\u003e\n",
              "      \u003ctd\u003eC85\u003c/td\u003e\n",
              "      \u003ctd\u003eC\u003c/td\u003e\n",
              "    \u003c/tr\u003e\n",
              "    \u003ctr\u003e\n",
              "      \u003cth\u003e2\u003c/th\u003e\n",
              "      \u003ctd\u003e1\u003c/td\u003e\n",
              "      \u003ctd\u003e3\u003c/td\u003e\n",
              "      \u003ctd\u003eHeikkinen, Miss. Laina\u003c/td\u003e\n",
              "      \u003ctd\u003e0\u003c/td\u003e\n",
              "      \u003ctd\u003e26.0\u003c/td\u003e\n",
              "      \u003ctd\u003e0\u003c/td\u003e\n",
              "      \u003ctd\u003e0\u003c/td\u003e\n",
              "      \u003ctd\u003eSTON/O2. 3101282\u003c/td\u003e\n",
              "      \u003ctd\u003e7.9250\u003c/td\u003e\n",
              "      \u003ctd\u003eNaN\u003c/td\u003e\n",
              "      \u003ctd\u003eS\u003c/td\u003e\n",
              "    \u003c/tr\u003e\n",
              "    \u003ctr\u003e\n",
              "      \u003cth\u003e3\u003c/th\u003e\n",
              "      \u003ctd\u003e1\u003c/td\u003e\n",
              "      \u003ctd\u003e1\u003c/td\u003e\n",
              "      \u003ctd\u003eFutrelle, Mrs. Jacques Heath (Lily May Peel)\u003c/td\u003e\n",
              "      \u003ctd\u003e0\u003c/td\u003e\n",
              "      \u003ctd\u003e35.0\u003c/td\u003e\n",
              "      \u003ctd\u003e1\u003c/td\u003e\n",
              "      \u003ctd\u003e0\u003c/td\u003e\n",
              "      \u003ctd\u003e113803\u003c/td\u003e\n",
              "      \u003ctd\u003e53.1000\u003c/td\u003e\n",
              "      \u003ctd\u003eC123\u003c/td\u003e\n",
              "      \u003ctd\u003eS\u003c/td\u003e\n",
              "    \u003c/tr\u003e\n",
              "    \u003ctr\u003e\n",
              "      \u003cth\u003e4\u003c/th\u003e\n",
              "      \u003ctd\u003e0\u003c/td\u003e\n",
              "      \u003ctd\u003e3\u003c/td\u003e\n",
              "      \u003ctd\u003eAllen, Mr. William Henry\u003c/td\u003e\n",
              "      \u003ctd\u003e1\u003c/td\u003e\n",
              "      \u003ctd\u003e35.0\u003c/td\u003e\n",
              "      \u003ctd\u003e0\u003c/td\u003e\n",
              "      \u003ctd\u003e0\u003c/td\u003e\n",
              "      \u003ctd\u003e373450\u003c/td\u003e\n",
              "      \u003ctd\u003e8.0500\u003c/td\u003e\n",
              "      \u003ctd\u003eNaN\u003c/td\u003e\n",
              "      \u003ctd\u003eS\u003c/td\u003e\n",
              "    \u003c/tr\u003e\n",
              "  \u003c/tbody\u003e\n",
              "\u003c/table\u003e\n",
              "\u003c/div\u003e"
            ],
            "text/plain": [
              "   Survived  Pclass                                               Name  Sex  \\\n",
              "0         0       3                            Braund, Mr. Owen Harris    1   \n",
              "1         1       1  Cumings, Mrs. John Bradley (Florence Briggs Th...    0   \n",
              "2         1       3                             Heikkinen, Miss. Laina    0   \n",
              "3         1       1       Futrelle, Mrs. Jacques Heath (Lily May Peel)    0   \n",
              "4         0       3                           Allen, Mr. William Henry    1   \n",
              "\n",
              "    Age  SibSp  Parch            Ticket     Fare Cabin Embarked  \n",
              "0  22.0      1      0         A/5 21171   7.2500   NaN        S  \n",
              "1  38.0      1      0          PC 17599  71.2833   C85        C  \n",
              "2  26.0      0      0  STON/O2. 3101282   7.9250   NaN        S  \n",
              "3  35.0      1      0            113803  53.1000  C123        S  \n",
              "4  35.0      0      0            373450   8.0500   NaN        S  "
            ]
          },
          "execution_count": 4,
          "metadata": {},
          "output_type": "execute_result"
        }
      ],
      "source": [
        "test_df[\u0027Fare\u0027].fillna(test_df[\u0027Fare\u0027].mean(),inplace\u003dTrue)\n",
        "train_df.head()"
      ]
    },
    {
      "cell_type": "code",
      "execution_count": 5,
      "metadata": {
        "pycharm": {}
      },
      "outputs": [
        {
          "data": {
            "text/html": [
              "\u003cdiv\u003e\n",
              "\u003cstyle scoped\u003e\n",
              "    .dataframe tbody tr th:only-of-type {\n",
              "        vertical-align: middle;\n",
              "    }\n",
              "\n",
              "    .dataframe tbody tr th {\n",
              "        vertical-align: top;\n",
              "    }\n",
              "\n",
              "    .dataframe thead th {\n",
              "        text-align: right;\n",
              "    }\n",
              "\u003c/style\u003e\n",
              "\u003ctable border\u003d\"1\" class\u003d\"dataframe\"\u003e\n",
              "  \u003cthead\u003e\n",
              "    \u003ctr style\u003d\"text-align: right;\"\u003e\n",
              "      \u003cth\u003e\u003c/th\u003e\n",
              "      \u003cth\u003eSurvived\u003c/th\u003e\n",
              "      \u003cth\u003ePclass\u003c/th\u003e\n",
              "      \u003cth\u003eName\u003c/th\u003e\n",
              "      \u003cth\u003eSex\u003c/th\u003e\n",
              "      \u003cth\u003eAge\u003c/th\u003e\n",
              "      \u003cth\u003eSibSp\u003c/th\u003e\n",
              "      \u003cth\u003eParch\u003c/th\u003e\n",
              "      \u003cth\u003eTicket\u003c/th\u003e\n",
              "      \u003cth\u003eFare\u003c/th\u003e\n",
              "      \u003cth\u003eCabin\u003c/th\u003e\n",
              "      \u003cth\u003eEmbarked\u003c/th\u003e\n",
              "      \u003cth\u003eTitle\u003c/th\u003e\n",
              "    \u003c/tr\u003e\n",
              "  \u003c/thead\u003e\n",
              "  \u003ctbody\u003e\n",
              "    \u003ctr\u003e\n",
              "      \u003cth\u003e0\u003c/th\u003e\n",
              "      \u003ctd\u003e0\u003c/td\u003e\n",
              "      \u003ctd\u003e3\u003c/td\u003e\n",
              "      \u003ctd\u003eBraund, Mr. Owen Harris\u003c/td\u003e\n",
              "      \u003ctd\u003e1\u003c/td\u003e\n",
              "      \u003ctd\u003e22.0\u003c/td\u003e\n",
              "      \u003ctd\u003e1\u003c/td\u003e\n",
              "      \u003ctd\u003e0\u003c/td\u003e\n",
              "      \u003ctd\u003eA/5 21171\u003c/td\u003e\n",
              "      \u003ctd\u003e7.2500\u003c/td\u003e\n",
              "      \u003ctd\u003eNaN\u003c/td\u003e\n",
              "      \u003ctd\u003eS\u003c/td\u003e\n",
              "      \u003ctd\u003eMr\u003c/td\u003e\n",
              "    \u003c/tr\u003e\n",
              "    \u003ctr\u003e\n",
              "      \u003cth\u003e1\u003c/th\u003e\n",
              "      \u003ctd\u003e1\u003c/td\u003e\n",
              "      \u003ctd\u003e1\u003c/td\u003e\n",
              "      \u003ctd\u003eCumings, Mrs. John Bradley (Florence Briggs Th...\u003c/td\u003e\n",
              "      \u003ctd\u003e0\u003c/td\u003e\n",
              "      \u003ctd\u003e38.0\u003c/td\u003e\n",
              "      \u003ctd\u003e1\u003c/td\u003e\n",
              "      \u003ctd\u003e0\u003c/td\u003e\n",
              "      \u003ctd\u003ePC 17599\u003c/td\u003e\n",
              "      \u003ctd\u003e71.2833\u003c/td\u003e\n",
              "      \u003ctd\u003eC85\u003c/td\u003e\n",
              "      \u003ctd\u003eC\u003c/td\u003e\n",
              "      \u003ctd\u003eMrs\u003c/td\u003e\n",
              "    \u003c/tr\u003e\n",
              "    \u003ctr\u003e\n",
              "      \u003cth\u003e2\u003c/th\u003e\n",
              "      \u003ctd\u003e1\u003c/td\u003e\n",
              "      \u003ctd\u003e3\u003c/td\u003e\n",
              "      \u003ctd\u003eHeikkinen, Miss. Laina\u003c/td\u003e\n",
              "      \u003ctd\u003e0\u003c/td\u003e\n",
              "      \u003ctd\u003e26.0\u003c/td\u003e\n",
              "      \u003ctd\u003e0\u003c/td\u003e\n",
              "      \u003ctd\u003e0\u003c/td\u003e\n",
              "      \u003ctd\u003eSTON/O2. 3101282\u003c/td\u003e\n",
              "      \u003ctd\u003e7.9250\u003c/td\u003e\n",
              "      \u003ctd\u003eNaN\u003c/td\u003e\n",
              "      \u003ctd\u003eS\u003c/td\u003e\n",
              "      \u003ctd\u003eMiss\u003c/td\u003e\n",
              "    \u003c/tr\u003e\n",
              "    \u003ctr\u003e\n",
              "      \u003cth\u003e3\u003c/th\u003e\n",
              "      \u003ctd\u003e1\u003c/td\u003e\n",
              "      \u003ctd\u003e1\u003c/td\u003e\n",
              "      \u003ctd\u003eFutrelle, Mrs. Jacques Heath (Lily May Peel)\u003c/td\u003e\n",
              "      \u003ctd\u003e0\u003c/td\u003e\n",
              "      \u003ctd\u003e35.0\u003c/td\u003e\n",
              "      \u003ctd\u003e1\u003c/td\u003e\n",
              "      \u003ctd\u003e0\u003c/td\u003e\n",
              "      \u003ctd\u003e113803\u003c/td\u003e\n",
              "      \u003ctd\u003e53.1000\u003c/td\u003e\n",
              "      \u003ctd\u003eC123\u003c/td\u003e\n",
              "      \u003ctd\u003eS\u003c/td\u003e\n",
              "      \u003ctd\u003eMrs\u003c/td\u003e\n",
              "    \u003c/tr\u003e\n",
              "    \u003ctr\u003e\n",
              "      \u003cth\u003e4\u003c/th\u003e\n",
              "      \u003ctd\u003e0\u003c/td\u003e\n",
              "      \u003ctd\u003e3\u003c/td\u003e\n",
              "      \u003ctd\u003eAllen, Mr. William Henry\u003c/td\u003e\n",
              "      \u003ctd\u003e1\u003c/td\u003e\n",
              "      \u003ctd\u003e35.0\u003c/td\u003e\n",
              "      \u003ctd\u003e0\u003c/td\u003e\n",
              "      \u003ctd\u003e0\u003c/td\u003e\n",
              "      \u003ctd\u003e373450\u003c/td\u003e\n",
              "      \u003ctd\u003e8.0500\u003c/td\u003e\n",
              "      \u003ctd\u003eNaN\u003c/td\u003e\n",
              "      \u003ctd\u003eS\u003c/td\u003e\n",
              "      \u003ctd\u003eMr\u003c/td\u003e\n",
              "    \u003c/tr\u003e\n",
              "  \u003c/tbody\u003e\n",
              "\u003c/table\u003e\n",
              "\u003c/div\u003e"
            ],
            "text/plain": [
              "   Survived  Pclass                                               Name  Sex  \\\n",
              "0         0       3                            Braund, Mr. Owen Harris    1   \n",
              "1         1       1  Cumings, Mrs. John Bradley (Florence Briggs Th...    0   \n",
              "2         1       3                             Heikkinen, Miss. Laina    0   \n",
              "3         1       1       Futrelle, Mrs. Jacques Heath (Lily May Peel)    0   \n",
              "4         0       3                           Allen, Mr. William Henry    1   \n",
              "\n",
              "    Age  SibSp  Parch            Ticket     Fare Cabin Embarked Title  \n",
              "0  22.0      1      0         A/5 21171   7.2500   NaN        S    Mr  \n",
              "1  38.0      1      0          PC 17599  71.2833   C85        C   Mrs  \n",
              "2  26.0      0      0  STON/O2. 3101282   7.9250   NaN        S  Miss  \n",
              "3  35.0      1      0            113803  53.1000  C123        S   Mrs  \n",
              "4  35.0      0      0            373450   8.0500   NaN        S    Mr  "
            ]
          },
          "execution_count": 5,
          "metadata": {},
          "output_type": "execute_result"
        }
      ],
      "source": "for name_string in data_df[\u0027Name\u0027]:\n    data_df[\u0027Title\u0027]\u003ddata_df[\u0027Name\u0027].str.extract(\u0027([A-Za-z]+)\\.\u0027,expand\u003dTrue)\n\ndata_df.head()"
    },
    {
      "cell_type": "code",
      "execution_count": 7,
      "metadata": {
        "pycharm": {}
      },
      "outputs": [],
      "source": "mapping \u003d {\n    \u0027Mlle\u0027: \u0027Miss\u0027, \n    \u0027Major\u0027: \u0027Mr\u0027,\n    \u0027Col\u0027: \u0027Mr\u0027,\n    \u0027Sir\u0027: \u0027Mr\u0027,\n    \u0027Don\u0027: \u0027Mr\u0027,\n    \u0027Mme\u0027: \u0027Miss\u0027,\n    \u0027Jonkheer\u0027: \u0027Mr\u0027,\n    \u0027Lady\u0027: \u0027Mrs\u0027,\n    \u0027Capt\u0027: \u0027Mr\u0027,\n    \u0027Countess\u0027: \u0027Mrs\u0027,\n    \u0027Ms\u0027: \u0027Miss\u0027,\n    \u0027Dona\u0027: \u0027Mrs\u0027}\n\ndata_df.replace({\u0027Title\u0027: mapping}, inplace\u003dTrue)\n\ntrain_df[\u0027Title\u0027] \u003d data_df[\u0027Title\u0027][:891]\ntest_df[\u0027Title\u0027] \u003d data_df[\u0027Title\u0027][891:]\n"
    },
    {
      "cell_type": "code",
      "execution_count": 8,
      "metadata": {
        "pycharm": {}
      },
      "outputs": [
        {
          "data": {
            "text/plain": [
              "Survived      0\n",
              "Pclass        0\n",
              "Name          0\n",
              "Sex           0\n",
              "Age           0\n",
              "SibSp         0\n",
              "Parch         0\n",
              "Ticket        0\n",
              "Fare          0\n",
              "Cabin       687\n",
              "Embarked      2\n",
              "Title         0\n",
              "dtype: int64"
            ]
          },
          "execution_count": 8,
          "metadata": {},
          "output_type": "execute_result"
        }
      ],
      "source": "titles\u003d[\u0027Mr\u0027,\u0027Miss\u0027,\u0027Mrs\u0027,\u0027Master\u0027,\u0027Rev\u0027,\u0027Dr\u0027]\nfor title in titles:\n    age_to_impute \u003d data_df.groupby(\u0027Title\u0027)[\u0027Age\u0027].median()[titles.index(title)]\n    data_df.loc[(data_df[\u0027Age\u0027].isnull()) \u0026 (data_df[\u0027Title\u0027] \u003d\u003d title), \u0027Age\u0027] \u003d age_to_impute\n\n\ntrain_df[\u0027Age\u0027] \u003d data_df[\u0027Age\u0027][:891]\ntest_df[\u0027Age\u0027] \u003d data_df[\u0027Age\u0027][891:]\ntrain_df.isnull().sum()"
    },
    {
      "cell_type": "code",
      "execution_count": 10,
      "metadata": {
        "pycharm": {}
      },
      "outputs": [
        {
          "data": {
            "text/plain": [
              "Survived    0\n",
              "Pclass      0\n",
              "Name        0\n",
              "Sex         0\n",
              "Age         0\n",
              "SibSp       0\n",
              "Parch       0\n",
              "Ticket      0\n",
              "Fare        0\n",
              "Embarked    2\n",
              "dtype: int64"
            ]
          },
          "execution_count": 10,
          "metadata": {},
          "output_type": "execute_result"
        }
      ],
      "source": "test_df.drop([\u0027Title\u0027,\u0027Cabin\u0027],axis\u003d1,inplace\u003dTrue)\ntrain_df.drop([\u0027Title\u0027,\u0027Cabin\u0027],axis\u003d1,inplace\u003dTrue)\n\ntrain_df.isnull().sum()"
    },
    {
      "cell_type": "code",
      "execution_count": 11,
      "metadata": {
        "pycharm": {}
      },
      "outputs": [
        {
          "data": {
            "text/plain": [
              "Survived    0\n",
              "Pclass      0\n",
              "Name        0\n",
              "Sex         0\n",
              "Age         0\n",
              "SibSp       0\n",
              "Parch       0\n",
              "Ticket      0\n",
              "Fare        0\n",
              "Embarked    0\n",
              "dtype: int64"
            ]
          },
          "execution_count": 11,
          "metadata": {},
          "output_type": "execute_result"
        }
      ],
      "source": [
        "train_df[\u0027Embarked\u0027].fillna(\u0027S\u0027,inplace\u003dTrue)\n",
        "#train_df.Embarked.value_counts()\n",
        "train_df.isnull().sum()"
      ]
    },
    {
      "cell_type": "code",
      "execution_count": 12,
      "metadata": {
        "pycharm": {}
      },
      "outputs": [
        {
          "data": {
            "text/html": [
              "\u003cdiv\u003e\n",
              "\u003cstyle scoped\u003e\n",
              "    .dataframe tbody tr th:only-of-type {\n",
              "        vertical-align: middle;\n",
              "    }\n",
              "\n",
              "    .dataframe tbody tr th {\n",
              "        vertical-align: top;\n",
              "    }\n",
              "\n",
              "    .dataframe thead th {\n",
              "        text-align: right;\n",
              "    }\n",
              "\u003c/style\u003e\n",
              "\u003ctable border\u003d\"1\" class\u003d\"dataframe\"\u003e\n",
              "  \u003cthead\u003e\n",
              "    \u003ctr style\u003d\"text-align: right;\"\u003e\n",
              "      \u003cth\u003e\u003c/th\u003e\n",
              "      \u003cth\u003ePclass\u003c/th\u003e\n",
              "      \u003cth\u003eName\u003c/th\u003e\n",
              "      \u003cth\u003eSex\u003c/th\u003e\n",
              "      \u003cth\u003eAge\u003c/th\u003e\n",
              "      \u003cth\u003eSibSp\u003c/th\u003e\n",
              "      \u003cth\u003eParch\u003c/th\u003e\n",
              "      \u003cth\u003eTicket\u003c/th\u003e\n",
              "      \u003cth\u003eFare\u003c/th\u003e\n",
              "      \u003cth\u003eEmbarked\u003c/th\u003e\n",
              "    \u003c/tr\u003e\n",
              "  \u003c/thead\u003e\n",
              "  \u003ctbody\u003e\n",
              "    \u003ctr\u003e\n",
              "      \u003cth\u003e0\u003c/th\u003e\n",
              "      \u003ctd\u003e3\u003c/td\u003e\n",
              "      \u003ctd\u003eKelly, Mr. James\u003c/td\u003e\n",
              "      \u003ctd\u003e1\u003c/td\u003e\n",
              "      \u003ctd\u003e34.5\u003c/td\u003e\n",
              "      \u003ctd\u003e0\u003c/td\u003e\n",
              "      \u003ctd\u003e0\u003c/td\u003e\n",
              "      \u003ctd\u003e330911\u003c/td\u003e\n",
              "      \u003ctd\u003e7.8292\u003c/td\u003e\n",
              "      \u003ctd\u003e3\u003c/td\u003e\n",
              "    \u003c/tr\u003e\n",
              "    \u003ctr\u003e\n",
              "      \u003cth\u003e1\u003c/th\u003e\n",
              "      \u003ctd\u003e3\u003c/td\u003e\n",
              "      \u003ctd\u003eWilkes, Mrs. James (Ellen Needs)\u003c/td\u003e\n",
              "      \u003ctd\u003e0\u003c/td\u003e\n",
              "      \u003ctd\u003e47.0\u003c/td\u003e\n",
              "      \u003ctd\u003e1\u003c/td\u003e\n",
              "      \u003ctd\u003e0\u003c/td\u003e\n",
              "      \u003ctd\u003e363272\u003c/td\u003e\n",
              "      \u003ctd\u003e7.0000\u003c/td\u003e\n",
              "      \u003ctd\u003e1\u003c/td\u003e\n",
              "    \u003c/tr\u003e\n",
              "    \u003ctr\u003e\n",
              "      \u003cth\u003e2\u003c/th\u003e\n",
              "      \u003ctd\u003e2\u003c/td\u003e\n",
              "      \u003ctd\u003eMyles, Mr. Thomas Francis\u003c/td\u003e\n",
              "      \u003ctd\u003e1\u003c/td\u003e\n",
              "      \u003ctd\u003e62.0\u003c/td\u003e\n",
              "      \u003ctd\u003e0\u003c/td\u003e\n",
              "      \u003ctd\u003e0\u003c/td\u003e\n",
              "      \u003ctd\u003e240276\u003c/td\u003e\n",
              "      \u003ctd\u003e9.6875\u003c/td\u003e\n",
              "      \u003ctd\u003e3\u003c/td\u003e\n",
              "    \u003c/tr\u003e\n",
              "    \u003ctr\u003e\n",
              "      \u003cth\u003e3\u003c/th\u003e\n",
              "      \u003ctd\u003e3\u003c/td\u003e\n",
              "      \u003ctd\u003eWirz, Mr. Albert\u003c/td\u003e\n",
              "      \u003ctd\u003e1\u003c/td\u003e\n",
              "      \u003ctd\u003e27.0\u003c/td\u003e\n",
              "      \u003ctd\u003e0\u003c/td\u003e\n",
              "      \u003ctd\u003e0\u003c/td\u003e\n",
              "      \u003ctd\u003e315154\u003c/td\u003e\n",
              "      \u003ctd\u003e8.6625\u003c/td\u003e\n",
              "      \u003ctd\u003e1\u003c/td\u003e\n",
              "    \u003c/tr\u003e\n",
              "    \u003ctr\u003e\n",
              "      \u003cth\u003e4\u003c/th\u003e\n",
              "      \u003ctd\u003e3\u003c/td\u003e\n",
              "      \u003ctd\u003eHirvonen, Mrs. Alexander (Helga E Lindqvist)\u003c/td\u003e\n",
              "      \u003ctd\u003e0\u003c/td\u003e\n",
              "      \u003ctd\u003e22.0\u003c/td\u003e\n",
              "      \u003ctd\u003e1\u003c/td\u003e\n",
              "      \u003ctd\u003e1\u003c/td\u003e\n",
              "      \u003ctd\u003e3101298\u003c/td\u003e\n",
              "      \u003ctd\u003e12.2875\u003c/td\u003e\n",
              "      \u003ctd\u003e1\u003c/td\u003e\n",
              "    \u003c/tr\u003e\n",
              "  \u003c/tbody\u003e\n",
              "\u003c/table\u003e\n",
              "\u003c/div\u003e"
            ],
            "text/plain": [
              "   Pclass                                          Name  Sex   Age  SibSp  \\\n",
              "0       3                              Kelly, Mr. James    1  34.5      0   \n",
              "1       3              Wilkes, Mrs. James (Ellen Needs)    0  47.0      1   \n",
              "2       2                     Myles, Mr. Thomas Francis    1  62.0      0   \n",
              "3       3                              Wirz, Mr. Albert    1  27.0      0   \n",
              "4       3  Hirvonen, Mrs. Alexander (Helga E Lindqvist)    0  22.0      1   \n",
              "\n",
              "   Parch   Ticket     Fare  Embarked  \n",
              "0      0   330911   7.8292         3  \n",
              "1      0   363272   7.0000         1  \n",
              "2      0   240276   9.6875         3  \n",
              "3      0   315154   8.6625         1  \n",
              "4      1  3101298  12.2875         1  "
            ]
          },
          "execution_count": 12,
          "metadata": {},
          "output_type": "execute_result"
        }
      ],
      "source": [
        "embarked_values \u003d {\u0027S\u0027:1,\u0027C\u0027:2,\u0027Q\u0027:3}\n",
        "train_df.replace({\u0027Embarked\u0027: embarked_values}, inplace\u003dTrue)\n",
        "test_df.replace({\u0027Embarked\u0027: embarked_values}, inplace\u003dTrue)\n",
        "test_df.head()"
      ]
    },
    {
      "cell_type": "code",
      "execution_count": 13,
      "metadata": {
        "pycharm": {}
      },
      "outputs": [
        {
          "data": {
            "text/plain": [
              "Text(0.5, 1.0, \u0027Correlations Among Features\u0027)"
            ]
          },
          "execution_count": 13,
          "metadata": {},
          "output_type": "execute_result"
        },
        {
          "data": {
            "image/png": "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\u003d\u003d\n",
            "text/plain": [
              "\u003cFigure size 1080x576 with 2 Axes\u003e"
            ]
          },
          "metadata": {
            "needs_background": "light"
          },
          "output_type": "display_data"
        }
      ],
      "source": [
        "plt.subplots(figsize \u003d (15,8))\n",
        "sns.heatmap(train_df.corr(), annot\u003dTrue,cmap\u003d\"PiYG\")\n",
        "plt.title(\"Correlations Among Features\", fontsize \u003d 20)"
      ]
    },
    {
      "cell_type": "code",
      "execution_count": 14,
      "metadata": {
        "pycharm": {}
      },
      "outputs": [
        {
          "data": {
            "text/plain": [
              "([\u003cmatplotlib.axis.XTick at 0x7f1de61eaba8\u003e,\n",
              "  \u003cmatplotlib.axis.XTick at 0x7f1de61ea4e0\u003e],\n",
              " \u003ca list of 2 Text xticklabel objects\u003e)"
            ]
          },
          "execution_count": 14,
          "metadata": {},
          "output_type": "execute_result"
        },
        {
          "data": {
            "image/png": "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\u003d\u003d\n",
            "text/plain": [
              "\u003cFigure size 864x576 with 1 Axes\u003e"
            ]
          },
          "metadata": {
            "needs_background": "light"
          },
          "output_type": "display_data"
        }
      ],
      "source": [
        "plt.subplots(figsize \u003d (12,8))\n",
        "sns.barplot(x \u003d \"Sex\", y \u003d \"Survived\", data\u003dtrain_df, edgecolor\u003d(0,0,0), linewidth\u003d1)\n",
        "plt.title(\"Survived/Non-Survived Passenger Gender Distribution\", fontsize \u003d 25)\n",
        "labels \u003d [\u0027Female\u0027, \u0027Male\u0027]\n",
        "plt.ylabel(\"% of passenger survived\", fontsize \u003d 12)\n",
        "plt.xlabel(\"Gender\",fontsize \u003d 15)\n",
        "plt.xticks(sorted(train_df.Sex.unique()), labels)\n"
      ]
    },
    {
      "cell_type": "code",
      "execution_count": 15,
      "metadata": {
        "pycharm": {}
      },
      "outputs": [
        {
          "data": {
            "image/png": "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\u003d\u003d\n",
            "text/plain": [
              "\u003cFigure size 576x576 with 1 Axes\u003e"
            ]
          },
          "metadata": {
            "needs_background": "light"
          },
          "output_type": "display_data"
        }
      ],
      "source": [
        "plt.subplots(figsize \u003d (8,8))\n",
        "ax\u003dsns.countplot(x\u003d\u0027Pclass\u0027,hue\u003d\u0027Survived\u0027,data\u003dtrain_df)\n",
        "plt.title(\"Passenger Class Distribution - Survived vs Non-Survived\", fontsize \u003d 25)\n",
        "leg\u003dax.get_legend()\n",
        "leg.set_title(\u0027Survival\u0027)\n",
        "legs\u003dleg.texts\n",
        "\n",
        "legs[0].set_text(\u0027No\u0027)\n",
        "legs[1].set_text(\"yes\")"
      ]
    },
    {
      "cell_type": "code",
      "execution_count": 16,
      "metadata": {
        "pycharm": {}
      },
      "outputs": [
        {
          "data": {
            "text/plain": [
              "Text(0.5, 0, \u0027Fare\u0027)"
            ]
          },
          "execution_count": 16,
          "metadata": {},
          "output_type": "execute_result"
        },
        {
          "data": {
            "image/png": "iVBORw0KGgoAAAANSUhEUgAAA4sAAAJuCAYAAAAZ7ZfmAAAABHNCSVQICAgIfAhkiAAAAAlwSFlzAAALEgAACxIB0t1+/AAAADl0RVh0U29mdHdhcmUAbWF0cGxvdGxpYiB2ZXJzaW9uIDMuMC4zLCBodHRwOi8vbWF0cGxvdGxpYi5vcmcvnQurowAAIABJREFUeJzs3XmYY2WV+PHvoVf2XUC2RsWNrWVX2QRFVGzGEWh0FAdQcEHB8TcqjkqL466DMuK4DAoK2DC4gTKKM4qKLAKKowgIuECzL9LQ9FLV9Pn9ce/tCqkklVSlupLq7+d58qRy73tvTlI3y8l53/dGZiJJkiRJUq01JjoASZIkSVLvMVmUJEmSJA1jsihJkiRJGsZkUZIkSZI0jMmiJEmSJGkYk0VJkiRJ0jAmi5J6SkTMj4iMiC9OdCyNRMSby/hubrDu4+W6H05EbO2KiHvLOI+a6Fj0ZP36v+n1161WPxHx7PKYzIjYfKLj6US/vg9ocjJZlLogIubVfCi1vEx0rOOh5oOt9jIYEQ9FxO0RcUn5HO00AbEdXt73oav6vle1iHhj+Vj3mehYxktEzIiI4yPiRxFxd0Qsi4iFEfHHiPhJRHwkIl4aETMmOlb1p4i4uuZ97KoR2lY/Hi1dVfF1U0RsFhEfjIgry/frwYh4ICJ+HxEXR8Q/R8ReEx2npIkzdaIDkCah+yY6gAm0BHi0/DuA9YCNgKcBhwKnRsQVwAmZ+Ycm+7gLuAW4t0sxHQ7MBb4EfL8L+/sbRXx/6sK+uu2NwF7AUuCKFu1uBR5h6H/VFyJiO+BS4Nk1iweAJ4CnA9sDLwLeBzwfuHpVx9gFffm/mcT2johXZeZ3JjqQbouIlwHnAxvULF4EzAB2KC+vBJYBM1d5gGO3jOK9GmD5RAYi9TOTRanLMrOvurt02dcz8821CyJifWB34B/Kyz7AryNiTmZeVr+DzHwX8K5VEexoZOYFwAUTHcdYZOa+Ex1DpyJiGnAJRaK4CPgo8HXg7szMiJgJzAZeDrxuwgIdo37836wGPhoRF2fmExMdSLdExNOBbwFrArcBpwEXZ+bCcv0GwN7AYcCrJirOscjMP/PkH5YkjYLdUCWNq8xcmJn/m5nHAi8A7qH45fqiiNh2YqNTHzmEotIB8PrM/Fhm3pWZCZCZSzPz6sz8IPAM4DcTFagmjcsoKtfPBo6Z4Fi67a0UieJiYP/M/EaVKAJk5iOZ+cPMfAuw3UQFKWnimSxKEywido+ID0XEFRFxRzkG62/lGJJ3RcRaTbabWTOuZu+I2CIizoiIWyNiSaMxNBGxYUScGhHXlvexrLzPcyNi9/F+rJl5PUWXUIB1gfc3iLHpRBlReG05Xu2+cnzN38rH/N2IeEtETC/bHlKOEa3u74QG4yr3rtn3ygkFImK9cuzbjRGxKGomSIgWE9w0iPcfIuIXZYyLyuf9zRHR8L23ZqzUe1vsc9gkOlVMFF1QAT7W4LFuXtO+5eQJETE1It4UEZeX45iWRcSCiLggIl7YIraV8UfEGuX/49qIeKy8/DIi5jbbfgSzy+ukqDA2lZkrMnNZXWxtTXbR7Lmp3z4inhkRZ0XEX8rn5+aI2CoinijbHNwqxoj4VNnu9yPdf3nMZ/m6Xn+E/V5btv18g3URxRjeiyPinogYiIiHI+KnUYx3bdrbqNz2H8v/8aKIeCQiroqIY1vFM0KsL6h5Tp85Qtv/Ktt9v275JuVr9YbyGBson8PfRsSZEbH/aOMD/kzRfR1gXkSsOZqdRPG+e1oZ46MRsTiKMbafjyY/mMXw9/f1I+Jj5XZLIuLBiPheROw2ysdWvZ6uy8y7WzXMzCUN4hvxfbDVa65++4g4OIqx7feWr6EvjvW4b3b/EfHlctmVI+xzw/K1nRFxeIP1a0XEP0Xx2f1QeezdHRHfjogXj7DvtaIYX35zRCyN4vPskjEer9L4yEwvXryM8QLMo/gSmx1uN7ParrwspxivVLvst8DGI2x7DPBA+Xc1bnBpXft9atpU9/Voze0ngH8a5eO/t9zHF9ts/z9l+0XAtLp185vtCziv7rl5lOKX8dplm5dtX1TGtaRcvri8XXvZtcFjOAm4vfx7Wc3/o9rvm8vbNzeI7+Pluh8Cnyv/XgE8XD6/VYwX1z/ucvury/XvbfHcrbyPmmVHl/EPlOsea/BYN23wWI9qsP8NgV/WxDpIMU6z9jn+1yaxVfF/gGJsYbX9wrrtTxnFMfaBmu23HsX2z64/RkY4lo9qsf1RwOM1x/Dj1fFQc2x/o8V9rAEsKNu9Z6T7p6gAVa/V41rs91k1Me5Vt2494Ed1/4eF5fFZ3f4ZsG6TeGtfe/XH9Nm0eN2O8H+5tdzuwy3arM/Q63huzfJZFGOca9/D6l9rP+wknrrj+IvApjXP/bsbtK3eD5Y22dds4O6aeJbw5PfdxcArG2xX+/5+BEXiWm1f+563FDhgFI/xf8vtb+t027rHPex9sJ3XXO32wLtr2v2N4n3si2M97pvdP8VnYbX8GS32e0JNTDPq1j2XYtx67Wui/n3u9Cb73RT4XU27AYY+Z54AjqXFe7QXL6v6YmVRmlhJ8QXuDcA2FB9IGwBrU3xBuA3YGfj3EfZzBsXEOvsDa2XmeuV2AETE9hRf3jcBvknxBWZm2W5zhhKQT0fEIV17dM39oLxem2I844jKX2pfS5nUAhtm5nqZuRbFh+/LgXMpkhMy86dZjB/9XrmLr2fm5nWXXze4q38FpgNzgLXL/8e2FF8Y2rU38A7g3yiStI2AjYEPl+tfCXyog/21lJlfLx9r9Xg+0uCxPtDm7r5B0V14GfAWYL3M3BDYiuL5BfiXiPjHFvt4J8Vz8A8Uycf6FF/sf1SuP61ZRaWFX9X8/ZX6SsUq9hWK53rXzFwnM9emOF6gGEcJ8KqIWKfJ9gcCW1J8wTy3SZuVsqjsXFTefH2LptW6P2bmNdXCiAiKZO5gigk/jqT4v65P8Rp8NfBXYD/gyw32+/8oXnsw/Jj+CMX710tHehxNfKO8fl0ZZyNHUCRPCxl6PUPxWn0qxfvki4DpZVwzKLpOnghcN8q4AChfN58pb743IjZsd9uy7SXAFsAdFF2p1y7fd3cDrqdIiC6IiOe22NWXKJKm/YG1gHUoJnC6neKxfqnFc9dM9Xp6elmxHFXVtAu2Bj5G8ZraqnyvWQv45FiP+2Yy8wqGJihrNb652u+FWdNTISI2oXgv246iq/ILKT5P16eY0O3dFAn9yRFxQoP9ngPsSJH4H0fxHrkBxURwlwJfoPiBROoNE52tevEyGS7UVBYZXtGpvezQ4X5nUSQ/y4HN6tbV/vL8cP36uraXlO2+3KLNKWWbq0fx+DutLB5YE/vr6tY1rFAAHyyXf6/D2NqqeNQ8hoFW/yfaqyw2fa6BTzFUEdikbt2oKoudbF/3WOurZ/vXxH90g+2CYkbZpKiW1FeFq/tfAbygwfZrAfeXbd7V4f8xKCpfVXyDFDO+foYikXn6CNt3s7J4K7Bmk+3Xpqg2NnwOyzbnlOt/3MH9H1Dz3G7b5Pmpqk//Urfu1eXyO2jyPkHxxbeq3j2nZvk6DFVMmh3Tp9c8N51WFrdjqLq5X5M21f/9K3XLq8rOqzq5zzZiurr2sZTPwX3lsk/UtW1aWQROZaga+MwG6zdgqMJ8Ud262vf3u4GNGmy/R02b3Tp8jFvUPKak6I3wA4rPsldS997UYPtuVRYTOK/FPsZy3Le6/3nl8tub3O/TarZ9Yd26fy+X/zcwpcn2rynb3AWsUbN8v5r9vrbBdlMpEvmqjZVFLxN+sbIodd9mLS7TOtlRZv4F+AMwheKX5Ga+mpkNT9lRVmBeUd78eIt9VBWRPTv59XyUHq75e6M2t3mkvH5KNBnz1yUXZ+aNY9xHUlQ9Gvk4RaIzg96bZbAaT/inzPx6/crMTIruoFB82TygyX5+kpnDxgNl5mKKbppQU/luR3nfh1JUIJZTfKl6IUWV+Tzgtoj4U0S8v0VFr1s+lw3GcZVxPg5Up1kYVg2JYgzy35c3v1G/voWfUVT/gsbVkH0pflxKhlcr31hen93sfSKLmSOr063Ujrd8OUUX1lbH9EcoK/qdKu/3l+XNRs/XthSPDYY/X9V7whajue92ZeYihnoFvD0itmxz0+r19M3M/GOD/T7CUNXysGgyPh34QmY+XL8wM6+lmDAMOn893UPRHfOn5aJ1KP7Xp1J0k38gIq6JiFYV3275WIt1YznuW6mOpadF43HY1X39KTOr45MoxvW+obz5qWw+Q+6FFD8IPhWoPb9wNRb59sw8v36jzFxO89eZNCFMFqUuy8xocbmhvn1ETImIoyPi+xFxZzmYf+XEJAx9Cdiqxd3+ssW6F1J80AJcWU4gMOxC0SWKsu3WHT7sTo3my8dlFF9I9wYuj2KyjW27GxbQ+rls122ZeUejFZn5EMU4VGizC+4qVMXzv80aZOZvgIfq2tdr1RWsmkyj3R8Jau/7scw8nuL4fAtFkngLRdUBiirVhylOzTIex0ZlpGOkSrQPbJBYvIrii/njFKcuaEuZLJ9X3mzUJa9a9vPM/GvduurL8Duavf7L94B9yna1z131P251TD8I/F+7j6WB6vk6IopToNR6HcX7xV+AX9Stqya7+beI+EJEvCQi1h1DHK18iaKSuSZFVaql8geL6rQN/9Oi6Y/L66nALk3ajNfr6dbMPJAimXkfRQ+UBTVN9qRIqi6OcuKwcbAwM3/fbOUYj/umMvN2oPpBq9F+q2Sx/geKXSgmZwOY3+K1dBfFcAZo/Hr6SYvwfkqR/Eo9wWRRmkDlF5ufUXRLewVFQhgUlbf7ykv1i/3aLXZ1f4t1T635u1XVc7Oads1+4e6W2srlQ01b1cjMmykmHFhM8Wvy14C/lB/O34yIQ7v0C3ir57Jdd7W5/ilduK9uquIZKf7qC2Wz+B9rsW11cuyOquy1MvPezPxiZr4uM59N0Z3v7ym6DwJsT2dVhk6NdIz8L2X3M4bG+lWqL6bfLquQnaiSqmdFxB7VwjLBOqKuTbVuXYa+3K5P69d/lajVvv47PSZGo6rCrE/RBbJW9Xx9o0wcan2Eooo7g+LHg8uAR6KYCfXjEfGMMcT0JJk5yFBV/ZiIGOn8fZsw9KNYq+eu9nmbqNfT77M4Fc2czNyaYjzt22piO5RiGMB4aGcsdcfHfZuqbY6MiBk1+92b4j0EhieLtZ+nm9L69VR9x+7o9ZSZj1GMUZV6gsmiNLHmUfzqvwh4O8UsjzMzc+MsJyZhqArVKhFqdbLoKeX1IyNUPWsvV7fYXzfU/oJ+e7sbZebXKH6lfSvFF8wFFB/KR1H8Kv7jiGiVVLejGyfe7vdfhduNvyceZ1lx/A5FZayqFuzTxhf60Wp5jGTmCqDqYnZ0tbzsEl5Nqd/xl9vMvAW4tn6/FAlWNWPoRXWbTan5++/afP2/udHddxpvu7I4v191OpTa52sPipkuoUGX3cxclpl/TzFZzL8Cl1MknTsD7wFuiogTuxjqN4EbKJ7Tj3awXb+9nu7OzC9Q9OKour8eN053N+L77SiP+3ZcSDGR14YUCXGl+oHil2UFslbt62mDNl9P8xs9rFHEK00Ik0VpYlXjFz6QmZ/PzEa/zo911sd7y+sNIqJVV9ZVqRpDuYgOZyvMzAcz8z8yc275K/izGBr3cxDwL90Lc9RGep6rron1FaqqSlDfFa/WeM6SV8UzUjfk6vG1O8PqKlGOHzqrZtGzav5eXvN3q+d3vS6Fc055vWNEVOe0ey3Fl827aN0NrZUqyTwqIqpqUvXl9nuZWV+RWEiRQMGTx061qzom2j2mR6t6XIdExKbl39Xjujozb222YWb+OjM/kJkvoqgyvxS4iqJr5+e69aNBWdmszoH6qqg5T2sDDzKUELR6PdU+r732erqLoZmrN48nn+twVb9XdXrcjygz/8ZQV+bXA5T7rsaaNhpTfG/N3+Pyeip7A3TrfUgaM5NFaYJExBSGurT8pkmbZzHyl7SR1I6vangS9lUpIvahSOqgmAVveav2I8nMP2bm/2No/NdL6ppU49nGe5KGWs9olphHxEYMjUOtT5Sr03O0+nK5V4t1Y32sVTwHNmtQJj4blzevbdZuAi2q+XtZzd+1pz5p+PxGxM4UY9LGLItJkqrX9evrrs8rq4+j8U2KrumbUCRWm1CckgEaVCvLBKeqts4dRVft6phodUxvTPPxdu36IcUX6akUCcFUht6v2q7CZuZgZl5GMVnLExTfcw5qvVX7MvNHDE0K03TCsHJSnOqE9a3uv6o0DzLUi6SXjPR6emqLCcdavVd1qqPjvgPVti8vj+OXU7y/LQMuaND+NxRDIWB0n6fV6+mAFm0OYNV+XkktmSxKE6SsglQfxMO+aJVf6lrNXtru/dxJ8UUM4JSIeFqr9mUyMy4iYleKrj9QjMlouytX7ZiSJqrZKeu7NVW/OG/Q7n11QQDvb7Lu3RQTHwwA361bV31ZfEWDiT6IiJcBz2txv2N9rFV3qadFxNFN2lTnh7yHYrztKhERu4x0bsXyNVPFvYKiyyCwcmKhapzQq5vsottV6eqL6GsjYheK85vWLu9Y+TguLW8eTfGFdRrF+ObLmmxWnTtxR4rzfzYVEeuWiVrlUooxc62O6VMYw5g5WDkL5DfLm0dTJAKbUrxOhn1pj0Kr+1zG0HtBN7qW13pPeb0/RXLRTPV6ek1EPLN+ZVmpe1d583tZzBa8SkTEfjHCuRXL+A4rb96UmUtrVlfvVdMYOsdo7bbrACd1I1YY9XHfjv+mqAJPK/dZ/aBzSRaz1dbHsYyh1++bImLPVjtv8HlaHcvbR8SwZLN87b2v/fCl8WeyKE2sKon7UETMKauNlBMzXEjxITzsA2sUTqLojrYR8MuIeEPtrIER8ZSIODwivgec3YX7Wyki1ouIgyLiPym6hm1B0S3u75vNrtjEV8qJbP6u/FW52v+6EfF2hn7lvbRuu2qmvRd1c8KLESwEToiIT1ZfFiJi/Yg4lSJZBDg9ixN+17qAouvaZsB5EbFFue1aEXEcxTExbAr9GtVjfeVIiVUjmflzhrplfSkiTqiS1oh4akSczdAXw/eVk36sKi+hmNDo/Ij4+9rHFxEzI2J/ii5zVRfn8zPz3rp9VMnImyPiTdWX5YjYNiLOoRgDtZTuOZ+iu97mwH+Wy36TYz81S9U97pUUkz5B8XhbTeNfvS5Oj4gzIuLp1cqImBERz4+IT1GcpmDljw1lhaw6tUGjY/o0ioSnG+9T1ePanaEZR3+QDU4bQTGpzV8i4l8jYs+6CUqeSfHcT6d4/n/cYPtRy+KUFdUYufoJeWqdQTGueiZwWUQcXFV2I+J5ZVxbUfzQdWo3Y2zDu4G/RsRnI+LAus+D9SPiNRQV6ar3y2dqN87M2xiqkv17RBxQ8/m1J8UkT93+ga7T435E5XtYldS/maGxi61Oa/NBinOWTgf+JyLeUfeZtEFEvCIizqVuJtzM/BlDye1ZUczqPb3cbhZFD5nn0d33IWlssgdO9ujFS79fGDrBb3a43TMYGtuSFL+iP8LQSYj/iSYnWufJJ23eu4372hO4s2abJyhmIl1UsywpflHt9PFXJxJfXP59L8Uvvo/X7TspqlHPbrGv+TQ4uXfN8tqTSD9St+x/gZl12z2FIsGqntP7Kabh/wvwvAaPoeVJkGlxMmqKSnBS/AjwuZrn+WGKL61VnD8ApjfZ/yfrHtMjFN2vsnwOqvU/bLDtDhQVlep+76l5rJu281gpflC4sub+B8v4V9Qs+9cmsTc8Vps9Rx0eYyc1OJYW1/xvay/fB9ZusI8NKE61UbVbTtGdLil/wGj23NDiBN8jxP2DuthObvO11PQ4pPiS+lDdfmePsN91KBKc+tfQw+WxUrt847ptpzD0Q0btMV1tdzZNXrejeC/5fV0sf9ek3cy6dsvL52RJXZxvHkUMV4/0WIBnMvS6TGBpk3azKV6Htcfso3W354zw+Jq+v7fzmmuy3XcavG4eZfjnwXLgtCb72KOu/RKG3vPvokjqGr5maPE+2q3jnjZfs+XjqN3nA8C0EWLZvu5YXUHxXvJo3b5+12DbpwA31rRZxtD70BPAsbT5eeTFy6q4WFmUJlAWv87uTjEZRlUFWUpxUuQXZ+a/dfG+fkXx4XkSxeQaDzM0iP6PFKcaOBJ4zRjuZk2Gpg3fiOJD8E8UX94/BOyUmftncRqMTn0AOBn4HsUX/icoTidyH/AjihMlvySf3FWKzLwf2I+iunIPRcKwbXkZqWvrqGXmSRTn6rqKohfHMuDXFFPSvzIzB5ps927gGOBXFF8kp5TbvTEzj2JoXGKjbW+kGB/1fYofITZl6LFOabZd3T4epni+TgB+TpFQrENxfP4XsG9mNuuOOG4y83PArhRdHi8BbqP4MrUexRe0GymSlpdm5qHZ4LQUWXQreyFFIv9XiudygOLY2Cszvz0Oodd2OV3O0Cypo1YeOxfWLPpdNjiHa902izLzcIoxcudR/IAwleJ/ex9FBeT/AU/Postf7bZPUFTuj6M4LpdQHE/XAsdl5j+O9THVqK3oPMTQBCv1llF0Vf0EcAVFclLNhHwrxURHu2XmF7sY20qZ+Ufgq220u4HiR5wPU5yLcgVFl8fbgC8Az83Mi8cjxhEcSVGt/wTFGMzqvIDTKT4bfkVRTdwlMxueNiOLCuveFO8LD1C8z91PUVGdTfF/6JrRHPdt7vda4KaaRd/MEXpNZDHh0vMo3qsvpXgNrU3xmvoTRYXwHym6Ktdvez/Fj7cfpvjsrX6U+wFwYGaOeFxJq1Jk5kTHIEmSJEnqMVYWJUmSJEnDmCxKkiRJkoYxWZQkSZIkDWOyKEmSJEkaZurITSaPTTbZJGfNmjXRYUiSJEnShLj++usfzMxN22m7WiWLs2bN4rrrrhu5oSRJkiRNQhHx13bb2g1VkiRJkjSMyaIkSZIkaRiTRUmSJEnSMKvVmEVJkiRJ42dwcJAFCxawdOnSiQ5ltTdz5ky22morpk2bNup9mCxKkiRJ6ooFCxaw7rrrMmvWLCJiosNZbWUmDz30EAsWLGC77bYb9X7shipJkiSpK5YuXcrGG29sojjBIoKNN954zBVek0VJkiRJXWOi2Bu68X8wWZQkSZIkDWOyKEmSJGnSiAje9a53rbz96U9/mnnz5rXc5rvf/S5/+MMfGq675ZZbOOCAA5g9ezbPec5zOP7447sW68tf/nIeeeSRMe9n3rx5fPrTn+5CRE9msihJkiRp0pgxYwbf/va3efDBB9veplWy+I53vIN3vvOd3HDDDdx00028/e1v7yieJ554oum6Sy+9lA022KCj/a1KJouSJEmSJo2pU6dy/PHHc/rppw9b99e//pWDDjqInXfemYMOOog77riDK6+8kosvvph//ud/Zvbs2dx+++1P2uaee+5hq622Wnl7p512AuDss8/mxBNPXLn80EMP5fLLLwdgnXXW4YMf/CB77bUXH/3oRznyyCNXtrv88st55StfCcCsWbN48MEHec973sMXvvCFlW3mzZvHZz7zGQA+9alPsccee7Dzzjtz6qmnrmzzkY98hGc961m8+MUv5pZbbhnt09WSp86QJEmS1H0nnww33NDdfc6eDZ/97IjN3va2t7Hzzjvz7ne/+0nLTzzxRI4++mje8IY38NWvfpV3vOMdfPe732XOnDkceuihHH744cP29c53vpMDDzyQF7zgBRx88MEcc8wxI1YDH3/8cXbccUdOO+00li9fztOe9jQef/xx1l57bS644ALmzp37pPZHHXUUJ598Mm9961sBuPDCC/nhD3/IZZddxq233sqvfvUrMpM5c+bw85//nLXXXpv58+fzm9/8huXLl7Prrruy2267jfi8dMrKoiRJkqRJZb311uPoo4/mjDPOeNLyq666ite+9rUAvP71r+eKK64YcV/HHHMMN910E0cccQSXX345e++9N8uWLWu5zZQpU3j1q18NFJXOQw45hEsuuYTly5fzgx/8gMMOO+xJ7Z/3vOdx//33c/fdd/Pb3/6WDTfckG222YbLLruMyy67jOc973nsuuuu3Hzzzdx666384he/4FWvehVrrbUW6623HnPmzOnk6WmblUVJkiRJ3ddGBXA8nXzyyey6664cc8wxTdu0e3qJpz71qRx77LEce+yx7Ljjjvz+979n6tSprFixYmWb2nMazpw5kylTpqy8PXfuXM4880w22mgj9thjD9Zdd91h93H44Ydz0UUXce+993LUUUcBkJmccsopnHDCCU9q+9nPfnaVnKLEyqIkSZKkSWejjTbiyCOP5Kyzzlq57AUveAHz588H4LzzzmOfffYBYN111+Wxxx5ruJ8f/vCHDA4OAnDvvffy0EMPseWWWzJr1ixuuOEGVqxYwZ133smvfvWrprEccMAB/PrXv+YrX/nKsC6olaOOOor58+dz0UUXrewO+9KXvpSvfvWrLFq0CIC77rqL+++/n/3224/vfOc7LFmyhMcee4xLLrmkw2enPVYWJUmSJE1K73rXu/j85z+/8vYZZ5zBsccey6c+9Sk23XRTvva1rwFFovamN72JM844g4suuoinP/3pK7e57LLLOOmkk5g5cyZQTDiz+eabs9lmm7Hddtux0047seOOO7Lrrrs2jWPKlCkceuihnH322ZxzzjkN2+ywww489thjbLnllmyxxRYAHHzwwdx00008//nPB4qJc84991x23XVX5s6dy+zZs9l2223Zd999x/ZENRGZOS477kW77757XnfddRMdhiRJkjQp3XTTTTznOc+Z6DBUavT/iIjrM3P3dra3G6okSZIkaRiTRUmSJEnSMCaLkiRJkqRhTBYlSZIkScOYLEqSJEmShjFZlCRJkiQNY7Ko8fG738FnPjPRUUiSJGk19JGPfIQddtiBnXfemdmzZ3PNNdeMeZ8XX3wxH//4x7sQXXG+xH4wdaID0CR1/vnw8Y/D294G5QlMJUmSpPF21VVX8f3vf59f//rXzJgxgwcffJCBgYG2tl2+fDlTpzZOkebMmcOcOXO6GWrPs7Ko8bF4cXH9wAMTG4ckSZJWK/dVQKMjAAAgAElEQVTccw+bbLIJM2bMAGCTTTbhqU99KrNmzeLBBx8E4LrrruOAAw4AYN68eRx//PEcfPDBHH300ey1117ceOONK/d3wAEHcP3113P22Wdz4oknsnDhQmbNmsWKFSsAWLx4MVtvvTWDg4PcfvvtHHLIIey2227su+++3HzzzQD8+c9/5vnPfz577LEHH/jAB1bhszE2VhY1PpYsKa7vuw+23npiY5EkSdIqd/LJcMMN3d3n7Nnw2c+2bnPwwQdz2mmn8cxnPpMXv/jFzJ07l/3337/lNtdffz1XXHEFa665JqeffjoXXnghH/rQh7jnnnu4++672W233fjd734HwPrrr88uu+zCz372M170ohdxySWX8NKXvpRp06Zx/PHH88UvfpHtt9+ea665hre+9a385Cc/4aSTTuItb3kLRx99NGeeeWa3no5xZ2VR46OqLN5//8TGIUmSpNXKOuusw/XXX8+Xv/xlNt10U+bOncvZZ5/dcps5c+aw5pprAnDkkUfyX//1XwBceOGFHHHEEcPaz507lwsuuACA+fPnM3fuXBYtWsSVV17JEUccwezZsznhhBO45557APjlL3/Ja17zGgBe//rXd+uhjjsrixofJouSJEmrtZEqgONpypQpHHDAARxwwAHstNNOnHPOOUydOnVl19GlS5c+qf3aa6+98u8tt9ySjTfemP/7v//jggsu4Etf+tKw/c+ZM4dTTjmFhx9+mOuvv54DDzyQxx9/nA022IAbmpRTI6KLj3DVsLKo8WGyKEmSpAlwyy23cOutt668fcMNN7Dtttsya9Ysrr/+egC+9a1vtdzHUUcdxSc/+UkWLlzITjvtNGz9Ouusw5577slJJ53EoYceypQpU1hvvfXYbrvtVlYlM5Pf/va3ALzwhS9k/vz5AJx33nldeZyrgsmixofJoiRJkibAokWLeMMb3sBzn/tcdt55Z/7whz8wb948Tj31VE466ST23XdfpkyZ0nIfhx9+OPPnz+fII49s2mbu3Lmce+65zJ07d+Wy8847j7POOotddtmFHXbYge9973sAfO5zn+PMM89kjz32YOHChd15oKtAZOZEx7DK7L777nnddddNdBirhz32gOuug9e9Dr7xjYmORpIkSavATTfdxHOe85yJDkOlRv+PiLg+M3dvZ3srixofjz9eXFtZlCRJkvqSyaLGR9UN9b77JjYOSZIkSaNisqjx4ZhFSZKk1dLqNMytl3Xj/2CyqPGxZElx/cAD4BuGJEnSamHmzJk89NBDJowTLDN56KGHmDlz5pj243kW1X2ZRbI4cyYsXQp/+xtstNFERyVJkqRxttVWW7FgwQIeeOCBiQ5ltTdz5ky22mqrMe3DZFHdNzgITzwBW28Nf/lL0RXVZFGSJGnSmzZtGtttt91Eh6EusRuquq8ar7j55sW14xYlSZKkvmOyqO4zWZQkSZL6nsmiuq+a3MZkUZIkSepbJovqvqqyuOmmEOG5FiVJkqQ+ZLKo7quSxbXXhvXXt7IoSZIk9SGTRXVflSzOmAEbbmiyKEmSJPUhk0V1X22yuMEGJouSJElSHzJZVPdVE9zMnFkki45ZlCRJkvqOyaK6z8qiJEmS1PdMFtV9VbI4c2YxZnHhQli2bGJjkiRJktQRk0V1X5UsTp9eJIsADzwwcfFIkiRJ6pjJorqvfswi2BVVkiRJ6jMmi+q+xYth6tTiUlUWTRYlSZKkvmKyqO5bvLiY3AaGKovOiCpJkiT1FZNFdd/ixUUXVICNNiqurSxKkiRJfcVkUd1XW1mcObP422RRkiRJ6ismi+q+JUuGksWIYtyiyaIkSZLUVyY8WYyIQyLiloi4LSLe22D9jIi4oFx/TUTMKpfPioglEXFDefniqo5dTdRWFqEYt2iyKEmSJPWVqRN55xExBTgTeAmwALg2Ii7OzD/UNDsO+FtmPiMijgI+Acwt192embNXadAaWX2yuOGGTnAjSZIk9ZmJrizuCdyWmX/KzAFgPnBYXZvDgHPKvy8CDoqIWIUxqlONKosmi5IkSVJfmehkcUvgzprbC8plDdtk5nJgIbBxuW67iPhNRPwsIvZtdAcRcXxEXBcR1z3wwAPdjV6NPf74k5PF9deHhx6auHgkSZIkdWyik8VGFcJss809wDaZ+Tzgn4DzI2K9YQ0zv5yZu2fm7ptuuumYA1YbliwZOnUGwPTpsGwZZP2/VpIkSVKvmuhkcQGwdc3trYC7m7WJiKnA+sDDmbksMx8CyMzrgduBZ457xBpZfTfUadOK64GBiYlHkiRJUscmOlm8Ftg+IraLiOnAUcDFdW0uBt5Q/n048JPMzIjYtJwgh4h4GrA98KdVFLdaaVRZhKK6KEmSJKkvTOhsqJm5PCJOBH4ETAG+mpk3RsRpwHWZeTFwFvCNiLgNeJgioQTYDzgtIpYDTwBvzsyHV/2j0DCLFw8liGBlUZIkSepDE5osAmTmpcCldcs+WPP3UuCIBtt9C/jWuAeozgwOwvLlT64sVsmilUVJkiSpb0x0N1RNNkuWFNeNxiyaLEqSJEl9w2RR3bV4cXFtZVGSJEnqayaL6q4qWawds+gEN5IkSVLfMVlUd1lZlCRJkiYFk0V1l2MWJUmSpEnBZFHdZWVRkiRJmhRMFtVdVbJoZVGSJEnqayaL6i6TRUmSJGlSMFlUd1VjFu2GKkmSJPU1k0V1V6PKoqfOkCRJkvqOyaK6ywluJEmSpEnBZFHdVSWLVTURTBYlSZKkPmSyqO5avBjWWGMoQQSTRUmSJKkPmSyqu5YsKbqgRgwtc8yiJEmS1HdMFtVdixc/eXIbgClTimqjyaIkSZLUN0wW1V2NkkUouqIODKz6eCRJkiSNismiumvx4ifPhFqZPt3KoiRJktRHTBbVXa0qiyaLkiRJUt8wWVR3LVnSOFm0sihJkiT1FZNFdZeVRUmSJGlSMFlUdz3+uMmiJEmSNAmYLKq7mlUWp041WZQkSZL6iMmiumvJksazoVpZlCRJkvqKyaK6q9kENyaLkiRJUl8xWVR3OcGNJEmSNCmYLKp7li+HgYHmyeLSpas+JkmSJEmjYrKo7lmypLh2zKIkSZLU90wW1T1Vstiosjh9usmiJEmS1EdMFtU9ixcX11YWJUmSpL5nsqjuqZLF6dOHrzNZlCRJkvqKyaK6Z6TK4sDAqo1HkiRJ0qiZLKp7HLMoSZIkTRomi+qekSqLg4OQuWpjkiRJkjQqJovqnipZbHaeRbArqiRJktQnTBbVPe0ki3ZFlSRJkvqCyaK6Z6RuqGCyKEmSJPUJk0V1T6sJbkwWJUmSpL5isqjusbIoSZIkTRomi+qepUuL66lTh68zWZQkSZL6ismiumdwEKZMgTUaHFbTpxfXJouSJElSXzBZVPcMDDSuKoKVRUmSJKnPNPlmDxHx2tHuNDPPH+226mODgyaLkiRJ0iTRNFkEzgWy5nbU3W6kamOyuDoyWZQkSZImjVbJ4psaLJsDvBK4AvgZcC+wOXAA8ELgYuCS7oaovtEqWXTMoiRJktRXmiaLmXlW7e2IOAR4GfDqzPxOffuIeDXwTeAL3Q5SfcLKoiRJkjRpdDLBzfuB7zRKFAEy81vAd4EPdiMw9SEnuJEkSZImjU6SxV2AW0doc2vZTqsjK4uSJEnSpNFJsjgI7DRCm53LdlodVedZbMQxi5IkSVJf6SRZ/AlwaES8udHKiHgr8Argf7sRmPqQlUVJkiRp0mg1G2q99wIvAs6MiHcCvwDuAzYD9gG2B/4GnNLtINUn2kkWBwZWXTySJEmSRq3tZDEzb4uIFwD/QXGqjO3rmvwUeGtm3ta98NRXBgaad0O1sihJkiT1lU4qi2TmLcCBEbENsCuwPrAQ+HVm3jEO8amftKosTpkCa6xhsihJkiT1iY6SxUqZGJoc6slaJYtQVBdNFiVJkqS+MKpkMSKeATwHWCczv9ndkNS3Bgdh5szm66dPN1mUJEmS+kQns6ESETtFxDXALcB3gXNr1u0fEY9GxCu6HKP6xcCAlUVJkiRpkmg7WSyriT8HdgDOBH5U1+QXwCLg8K5Fp/7S6jyLYGVRkiRJ6iOdVBbnATOAvTPzHcA1tSszcwXwS2CvrkWn/jIwMDTraSNWFiVJkqS+0UmyeBDwncz8fYs2dwJbjC0k9a2RKosmi5IkSVLf6CRZ3IgiGWwlKKqPWh05G6okSZI0aXSSLN4PPH2ENs8FFow+HPW15ctNFiVJkqRJopNk8afAKyNi+0YrI2I34MXAZd0ITH3IyqIkSZI0aXSSLH4MWAH8IiLeBGwOEBHPKm9/n2I21E93PUr1B0+dIUmSJE0aLb7ZP1lm3hQRRwDnAV8sFwfwh/L6UeDwzPxLt4NUn2insvjoo6suHkmSJEmj1nayCJCZP4iIpwHHAHsDGwMLgauBszLzwe6HqL6wYkVxsbIoSZIkTQodJYsAmfkw8JlxiEX9bHCwuPbUGZIkSdKk0PaYxYh4SUTEeAajPlYli60qi9OnmyxKkiRJfaKTCW5+BPw1Ij4aEc8er4DUpwYGiutWyeLUqUPtJEmSJPW0TpLFrwLrAe8FboyIqyLizRGx4fiEpr7STmVx2jSTRUmSJKlPtJ0sZuYbKU6X8Q/Aj4HdgTOBuyPiwoh4eUR0knxqMrEbqiRJkjSpdJTcZebSzPxmZh4CbAOcAtwOHA5cQpE4ep7F1VG7lcXBwWLWVEmSJEk9bdSVwMy8JzM/mZk7AnsAXwA2BN7ZreDUR9qdDRXsiipJkiT1gTF3G42IpwNzgFcA08YckfpTlQBOa3EIVOvsiipJkiT1vI7PswgQEesBRwJvAF4ABLAIOAc4u1vBqY+02w0VTBYlSZKkPtB2slieY/FgigTxMGBmuepnFAniRZm5uNsBqk+00w11+vTi2mRRkiRJ6nmdVBYXUMyGGhST2nwdOCcz7xiPwNRnrCxKkiRJk0onyeK6wNeAszPzinGKR/3KZFGSJEmaVDpJFjfLzCXjFon6WzXBjcmiJEmSNCm0PRuqiaJaaqey6JhFSZIkqW80/WYfEa8t/7w4MxfV3B5RZp4/5sjUX+yGKkmSJE0qrbqhngsk8BzgjzW3W4myjcni6sZkUZIkSZpUWiWLx1MkfveUt980/uGob7Vz6gyTRUmSJKlvNE0WM/M/626fNf7hqG9ZWZQkSZImlbYnuJFaqmZDrRLCRqp1VVtJkiRJPavtZDEi7oyIj0TEs8YzIPUpu6FKkiRJk0onlcX1gFOAP0TEVRFxQkRsME5xqd946gxJkiRpUukkWdwMeB3wP8AewBeAeyLigoh4eUTYpXV15phFSZIkaVJpO8HLzKWZeX5mvhTYBngf8CfgCOAS4K6I+FRE7DQ+oaqnmSxKkiRJk8qoqoGZeXdmfiIzdwD2Av6DYmbVfwJ+08m+IuKQiLglIm6LiPc2WD+jrF7eFhHXRMSsuvXbRMSiiPh/o3ks6pJq0hrHLEqSJEmTwpi7jmbmtcBngK8Ay4Fod9uImAKcCbwMeC7wmoh4bl2z44C/ZeYzgNOBT9StPx3479FFr64ZHIQ11midLE6ZUlxMFiVJkqSeN+pkMSLWjYjjIuLnwG3Ae4BlwNc72M2ewG2Z+afMHADmA4fVtTkMOKf8+yLgoIiIMoa/o+gKe+NoH4e6ZHCwdRfUyrRpJouSJElSH2jj2/2QMkl7CfAG4O+AmeWqnwFnAxdl5uIOdrklcGfN7QUU3VobtsnM5RGxENg4IpZQJKgvAZp2QY2I44HjAbbZZpsOQlNH2k0Wp083WZQkSZL6QNvJYkR8nGI21C0oupreTlFF/Hpm/nWU99+oy2q22eZDwOmZuagsNDaUmV8Gvgyw++671+9b3WJlUZIkSZpUOqksvht4DPgacE5m/qIL978A2Lrm9lbA3U3aLIiIqcD6wMMUFcjDI+KTwAbAiohYmpmf70Jc6tTAgMmiJEmSNIl0kiweDXwrM5d08f6vBbaPiO2Au4CjgNfWtbmYotvrVcDhwE8yM4F9qwYRMQ9YZKI4gawsSpIkSZNKJxPcHE1RXeyazFwOnAj8CLgJuDAzb4yI0yJiTtnsLIoxirdRnJpj2Ok11ANMFiVJkqRJpZPK4j7Add0OIDMvBS6tW/bBmr+XAkeMsI953Y5LHRocbH3ajIoT3EiSJEl9oZPK4m08eXyhNKTdyuLUqSaLkiRJUh/oJFk8C3h5RGw1XsGojznBjSRJkjSpdNIN9VvAQcAvI+JjFJPT3MvwU12QmfUzmmqyc8yiJEmSNKl0kizeQZEYBnBmi3bZ4X41GbQ7ZnHaNHj00fGPR5IkSdKYdJLUnU+DKqIEWFmUJEmSJpm2k8XMfN14BqI+Z7IoSZIkTSqdTHAjNdfuBDeeOkOSJEnqCyaL6o5OZkMdGBj/eCRJkiSNSdvdUCPiy202zcw8YZTxqF91MsGNlUVJkiSp53Uywc0bR1hfzZSagMni6qaTMYtWFiVJkqSe10myuH2T5RsAewDvB35RXmt100myODgIK1bAGvaCliRJknpVJ7Oh3t5i9fURcSnwO+BHQKu2mow6SRar9jNmjG9MkiRJkkata6WdzLwD+B5wcrf2qT7SyQQ34LhFSZIkqcd1ux/gfcAzu7xP9YPly00WJUmSpEmka8liRKwBvAh4tFv7VB9ptxtq1cZJbiRJkqSe1smpM17QYh9bA8cCzwPO6kJc6jednDoDrCxKkiRJPa6T2VCvoDgtRjMBXAm8e0wRqf9kdt4N1cqiJEmS1NM6SRY/SuNkcQXwN+BXmXllV6JSfxkcLK6rRLAVK4uSJElSX+jk1BmeP1GNVcliJ91QrSxKkiRJPc2zomvsqmTR2VAlSZKkSaOTbqjDRMTLgQMpxiv+PDO/15Wo1F86SRadDVWSJEnqCy0rixHxioj4SUTs12DdV4BLgHeWl29HxAXjE6Z6WifdUKdPL66tLEqSJEk9baRuqIcBewLX1i4sK4rHAUuATwD/AvwFODwi5nY/TPW0qkrYzgQ3VhYlSZKkvjBSv8E9gaszc0nd8uMoZkY9LjMvAIiIs4HbgNcDVhhXJ45ZlCRJkiadkSqLW1AkgPX2Ax4BLqwWZOY9wKXA7K5Fp/7gbKiSJEnSpDNSsrgh8HDtgojYGtgY+GVm1p938c/AJt0LT33ByqIkSZI06YyULD4GbFm3bPfy+jcN2q8AzAJWN6NJFq0sSpIkST1tpGTx98ArImLtmmWHUYxXvKJB++2Au7sUm/pFlfhZWZQkSZImjZGSxfOBjYCfRsRbI+KzwOuA+4CfNmi/D3BTd0NUz7OyKEmSJE06I327/0/g1cCLgd2AAJYD78zM5bUNI+JAiglx/mcc4lQvc8yiJEmSNOm0/HafmU9ExCHA0cDzgYeAb2Xm9Q2abw6cCVzc9SjV2zpJFqdMgTXWsLIoSZIk9bgRv91n5grg7PLSqt35FN1Wtbrp5NQZUFQXrSxKkiRJPW2kMYvSyKoqYdXFdCTTpllZlCRJknqcyaLGrpNuqGBlUZIkSeoDJosau9F0Q7WyKEmSJPU0k0WNXaeVxalTrSxKkiRJPc5kUWPXabI4fbrJoiRJktTjTBY1dqOpLNoNVZIkSeppbSeLEfG+iHjteAajPlUlfk5wI0mSJE0anVQW5wGzxykO9TMri5IkSdKk00myeDew7ngFoj7mqTMkSZKkSaeTZPG7wIsjYuZ4BaM+VSWLa7R5OHnqDEmSJKnndZIsfhB4DPh2RDx7nOJRPxocLKqKEe21nzYNli4d35gkSZIkjUmb/QYBuA6YCewC3BgRjwP3AVnXLjPzWV2KT/1gYKBIANvlmEVJkiSp53WSLK5FkRjeXbPMLqkaqiy2yzGLkiRJUs9r+xt+Zm41noGoj40mWbSyKEmSJPW0TsYsSo1ZWZQkSZImnVEnixGxbkRs0c1g1KcGB2HKlPbbT5s2NIOqJEmSpJ7UUbIYEWtHxCciYgHwCHBnzbo9I+LiiJjd7SDV4zqd4MbKoiRJktTz2u47GBHrAlcAOwG/Bx4Famc9vRE4ELgZuKGLMarXjaayODAAme2fbkOSJEnSKtVJZfH9FIniGzNzZ+DC2pWZ+TjwM+Cg7oWnvjCaMYvVdpIkSZJ6UifJ4quByzLzq+Xt+vMrAvwFcNbU1c1ok0VnRJUkSZJ6VifJ4lbAb0doswhYf/ThqC912g21SiwdtyhJkiT1rE6SxUXApiO02Q54cPThqC8NDFhZlCRJkiaZTpLFa4FDI2KdRisjYnPgZcCV3QhMfWS03VCtLEqSJEk9q5Nk8QxgE+D7EbF97Yry9gXAmmU7rU4csyhJkiRNOm1/w8/M/46If6WYFfVmYBlARNxL0T01gH/JzCvGI1D1sIEBWKdhwbkxK4uSJElSz+ukskhmfhB4KXAp8Hi5eAZwGfDSzPxYd8NTX7CyKEmSJE06HXzDL2Tmj4Efj0Ms6ledTnDjbKiSJElSz+uosig11Gllcfr04tpkUZIkSepZJosau06Txaqt3VAlSZKkntX2N/yIGARyhGYrgEeBm4BvA/+RmWYEk52nzpAkSZImnU4qi9dQJIFTy+3uBX5bXq9RLv8j8BCwF/BvwC8iYq1uBqwetHw5TJnSfnsnuJEkSZJ6XifJ4quBtYD/ArbPzG0yc4/M3AbYHriI4jyL+wObAV8Hdgf+ubshq+cMDAwlgO2wsihJkiT1vE6SxU8Aj2bm3Mz8c+2K8vZc4DHgE5m5EHgTcBtweLeCVY/y1BmSJEnSpNNJsvgyivMpNpSZCfyobEdmLgd+DjxtLAGqx2UWyeJouqFaWZQkSZJ6VifJ4nrlpZX169o82HFE6i9PPFFcOxuqJEmSNKl0kizeDBwZEZs3WhkRTwWOKNtVtqaY8EaT1eBgce15FiVJkqRJpZNk8XRgY+DXEfGeiNgnIrYvr98LXA9sBHwWICKmAC8Gru120Ooho0kWrSxKkiRJPa/tb/iZ+fWI2AqYB3y0bnUATwCnZubXy2UbAh8Gru5CnOpVVcI3mmTRyqIkSZLUszr4hg+Z+dGIuBB4HTCbYozio8BvgPMy89aatg8CZ3YxVvWi0VQWI4pJbqwsSpIkST2ro2QRIDNvo6guSkPJYiezoUIxbtHKoiRJktSzOhmzKA03mspi1d7KoiRJktSzOq4sRsTGwG4UYxIblpMy8/wxxqV+Mdpk0cqiJEmS1NPa/oYfEVMpxiAeQ5MkkWKimwRMFlcXo5ngBhyzKEmSJPW4Tr7hnwa8Cfgz8E3gTmD5eASlPjKWbqhWFiVJkqSe1ck3/H8AbgNmZ+bicYpH/Wa0yaKVRUmSJKmndTLBzWbAD0wU9SRjSRatLEqSJEk9q5Nk8U5g3fEKRH1qtKfOcDZUSZIkqad1kiyeAxwSEeuNVzDqQ1XCN21aZ9tZWZQkSZJ6WifJ4seBq4HLImLfiFhrnGJSP3HMoiRJkjQpdfINvxqrOBW4HCAinmjQLjNzxhjjUr8YSzfURYu6H48kSZKkrugkWfwVxTkUpSFOcCNJkiRNSm1/w8/MfcYzEPUpu6FKkiRJk1InYxal4aqEz8qiJEmSNKmMKlmMiDUjYqeIeH63A1KfsbIoSZIkTUodJYsRsUVEXAA8AtwA/KJm3Qsj4v8iYr8ux6heZrIoSZIkTUptJ4sRsTnFJDevBn4EXANETZNfAVsCR3YzQPW40SaLU6eaLEqSJEk9rJPK4qnAFsAhmTmHImFcKTMHKSqNHVUWI+KQiLglIm6LiPc2WD8jIi4o118TEbPK5XtGxA3l5bcR8apO7lddMtpTZ0yfXoxZTCfYlSRJknpRJ8niK4CLM/N/WrS5A3hquzuMiCnAmcDLgOcCr4mI59Y1Ow74W2Y+Azgd+ES5/PfA7pk5GzgE+FJEdFje0phV1cFp0zrbburUIlF8otGpOiVJkiRNtE6Sxc2AP47QZhmwdgf73BO4LTP/lJkDwHzgsLo2hwHnlH9fBBwUEZGZizNzebl8Jp4DcmKMtrJYJZfOiCpJkiT1pE6SxYeBrUZosz1wbwf73BK4s+b2gnJZwzZlcrgQ2BggIvaKiBuB3wFvrkkeV4qI4yPiuoi47oEHHuggNLVlYKCoEkaM3LZWlSw6blGSJEnqSZ0ki1cCcyLiKY1WRsTTKbqTXt7BPhtlGPUVwqZtMvOazNwB2AM4JSJmDmuY+eXM3D0zd9900007CE1tGRzsvAsqWFmUJEmSelwnyeKngbWAyyPiJRRdP6sJaF4CXEKRxP1bB/tcAGxdc3sr4O5mbcoxietTVDlXysybgMeBHTu4b3XDwMDoksVq9lQri5IkSVJPantCmMy8KiLeAnwe+GHNqsXl9RPAcZn5uw7u/1pg+4jYDrgLOAp4bV2bi4E3AFcBhwM/ycwst7kzM5dHxLbAs4C/dHDf6oaBgc7HK0IxGypYWZQkSZJ6VEezh2bmVyLiF8DbgL0pxg4uBK4G/j0z/9Dh/pZHxIkUp+GYAnw1M2+MiNOA6zLzYuAs4BsRcRtFRfGocvN9gPdGxCCwAnhrZj7Yyf2rC0bbDdXKoiRJktTTOj7VRGbeDLy9WwFk5qXApXXLPljz91LgiAbbfQP4Rrfi0ChVE9x0yjGLkiRJUk/rZMyiNNxok8WqG6qVRUmSJKkntZ0sRsQu5Wko1q9ZtlZEnBURD0XEHRHxtvEJUz1rcHB0yWK1jZVFSZIkqSd1Ull8DzAPeLRm2UeBYyhmRt0cOCMiXty16NT7xtoN1cqiJEmS1JM6SRb3AH6amQkrT2Pxj8B1wKbA04CHgHd0OUb1stFWFh2zKEmSJPW0TpLFzSjOeVjZHVgP+FJmLs7MBcD3gF26GJ96nZVFSZIkaVLqdIKb2hPq7QMkcHnNsvuBp4wxJvUTZ0OVJEmSJqVOksW/AnvV3J4D3JWZt9cs2wL4WzcCU58YGBjdeSCKVpQAACAASURBVBatLEqSJEk9rZNk8SLgBRExPyLOBl4IfKuuzY7An7oUm/rBwABMmTJyu3rOhipJkiT1tE76D/4b8DLgyPL274APVSsj4tkU4xg/1rXo1PtGW1mszrNosihJkiT1pLaTxcx8DNg7ImaXi36XmU/UNBkAjgCu6WJ86nVjPc+i3VAlSZKkntTxt/zMvKHJ8j9hF9TVjxPcSJIkSZNS29/yIyKAaZk5ULd8P+Aw4HHgPzPzju6GqJ5mZVGSJEmalDqZ4OYzwKMRsUG1ICKOBH4CvBN4P3BdRGzV3RDV00ZbWVxjjWI7K4uSJElST+okWdwPuDwzH6lZNg94FDgWeB+wEfBPXYtOvW9wcHQT3MD/Z+/O4+ss6/z/v67sSZu0TZvuewsFurCVRUAEZVNcwA0QUWfc8KuO4/xwRh3RAXUcHXWUxVFAFEcdZWR0kEVgRGXtsLa0pQXa0n1fk7TZc/3+uHNo2mY7yUlykryej8f9OMl97tz3p4j0vPO5luTn7CxKkiRJWSmdsDgVeCX1TQhhBnAMcFOM8acxxn8B7gcuymyJymrdHYYKSVi0syhJkiRlpXTCYhlJFzHlTCCSBMSUZYDDUIeS7g5DBTuLkiRJUhZLJyxuAaa3+v48oBZ4ptW5YUDr7TQ0mDU1QXOznUVJkiRpEErnU/5TwNtDCBeRhMR3Aw/HGBtaXTMT2JzB+pTNGlr+p3fOoiRJkjTopNNZ/GeScHkv8EegqOUcACGEUuAc4P8yWJ+yWSro2VmUJEmSBp0uf8qPMS4JIbwO+FDLqV/FGBe1uuQE4E/ArzJXnrJaqrPY3bCYl2dnUZIkScpSaX3KjzEuBv62nfceBR7NRFEaIOwsSpIkSYNWOsNQpUP1NCzaWZQkSZKyVtqf8kMI+cDJwCSgsK1rYoy/7GFdGggyscCNnUVJkiQpK6UVFkMIHwD+FRjT3iUkey8aFoeCVFcwN7d7P19QAAcOZK4eSZIkSRnT5WGoIYQLgJ8Au4DPkwTD3wNfIVnYJgC/AT6W+TKVlXraWczLs7MoSZIkZal05ixeA+wBTo8x/mvLuedijF+LMZ4HfAK4BFiR4RqVrTKxwI1zFiVJkqSslE5YPBm4O8ZY2dbPxxh/BCwCvpSh2pTtXA1VkiRJGrTSCYvDgC2tvq8DSg+75ingtJ4WpQEiEwvc2FmUJEmSslI6YXErUNHq+83AnMOuKaMbK6xqgOrpAjd2FiVJkqSslU5YfJFDw+HjwJtCCK8DCCEcC7y35ToNBamw2N3OYkEB1NRkrh5JkiRJGZNOWLwfODOEMKHl+2+RbJPxWAhhC7CUpLP49cyWqKyVGoba3TmLhYVJ4GxqylxNkiRJkjIinbD4I2AasBsgxrgMOB94CKgm2T7jrTHGezJdpLJUTxe4KSxMXmtrM1OPJEmSpIzp8qf8GGM9sOmwc48DF2W6KA0QPV3gJhUWa2pg2LDM1CRJkiQpI7oUFkMIBcCxJMNOV8QYG3q1Kg0MmeosOm9RkiRJyjqdDkMNIVwNbAeeA54HdoQQPt7bhWkA6GlYLChIXg2LkiRJUtbpMCyGEC4AfkCycE0tyd6KZcAPQgjn9355ymqZWOAGDIuSJElSFuqss/jpltePAqXAcOBqILR6T0OVw1AlSZKkQauzsLgQ+EOM8ccxxuaW4xbgAeDU3i9PWa2n+ywaFiVJkqSs1VlYHAMsbuP8YqA88+VoQEkNQ83N7d7PO2dRkiRJylqdhcVckrmKh6tteU9DWX095OR0PyymOosHDmSuJkmSJEkZ0elqqCTbZUhHamjo/hBUcBiqJEmSlMW6sjLJZ0IIVx12rhwghPByG9fHGOOcHlem7Fdf3/3FbcCwKEmSJGWxrnzSL6f9+Ymz2zhnJ3KoMCxKkiRJg1Znn/SP6pMqNDA5DFWSJEkatDoMizHG1X1ViAagnnYWXQ1VkiRJylpdWeBGaltPw2IISXfRsChJkiRlHcOiuq+hoWdhEQyLkiRJUpYyLKr7etpZBMOiJEmSlKUMi+q+THQWCwoMi5IkSVIWMiyq++wsSpIkSYOWYVHdl4mwaGdRkiRJykrthsUQwlMhhI+0+v59IYR5fVOWBoRMDUM9cCAz9UiSJEnKmI46iwuBia2+/znwzt4tRwOKw1AlSZKkQaujsLgLGN1XhWgAqquD/Pye3aOoyM6iJEmSlIU6agu9AFwVQlgPbGk5tyCE8L7Obhpj/GUmilOWczVUSZIkadDq6JP+F4B7gX8FYsu5S1uO9oSWaw2LQ4HDUCVJkqRBq91P+jHGp0IIs4HTgUnAbcDvWw4pM53FwkKorc1MPZIkSZIypsNP+jHGfcADACGE24DnYow/7ovCNAC4dYYkSZI0aKXzSf8oYHdvFaIBKJOdxRghhMzUJUmSJKnHuvxJP8a4OvV1CCEXOBoYCewDXooxNmW+PGW1hoaer4ZaWJi81tZCcXHPa5IkSZKUER1tnXGEEEJpCOEmYC+wDHgMWArsDSHcFEIo64Uala0yNQwVHIoqSZIkZZkuf9IPIZSShMP5wH7gSZItNSYAC4D/B5wdQjgzxljVC7Uqm8SYuWGoYFiUJEmSskw6ncXPkwTFW4FpMcazYozviTGeBUwDfgTMa7lOg11jY/KaqWGohkVJkiQpq6QTFt8F/F+M8eMxxkMWuokx7okxfgL4P+DdmSxQWaq+PnnNze3ZfQyLkiRJUlZKJyxOA/7UyTV/AqZ2vxwNGA0NyWumOosHDvTsPpIkSZIyKp2wWANUdHLNmJbrNNjZWZQkSZIGtXTC4tPAe0IIs9p6M4QwHXhvy3Ua7FJh0TmLkiRJ0qCUzlKW3wHuB54OIXyfZMjpFmA8cA7wGaC05ToNdqlhqG6dIUmSJA1KXf6kH2N8MITwN8B3gS+3HCkBaAT+Nsb4YGZLVFZKdRbdOkOSJEkalNL6pB9jvDmEcB/wAeBEYASwD3ge+I8Y45rMl6islOkFbgyLkiRJUlZJuy0UY3wVuK4XatFA4gI3kiRJ0qCWzgI30kGZWuDGOYuSJElSVjIsqnsytcCNnUVJkiQpKxkW1T2ZWuAmJyfpThoWJUmSpKxiWFT3ZGoYKiTdRcOiJEmSlFUMi+qeTA1DBSgqMixKkiRJWcawqO7J1DBUSBa5OXCg5/eRJEmSlDFdDoshhAykAg0amewsOgxVkiRJyjrpdBY3hBC+HkKY0WvVaODIZGfRsChJkiRlnXTCYiHwBeCVEML9IYR3hBAcxjpUZXKBm4ICw6IkSZKUZdIJexOADwGLgAuB/ybpNl4XQpjSC7Upm2VyGKphUZIkSco6XQ6LMca6GOPPYoxnAXOBm4Ai4FpgTQjh7hDCxSGE0Eu1KptkehiqC9xIkiRJWaVbw0hjjCtijJ8BJnKw2/hW4G5gbQjhSyGEcRmrUtnHOYuSJEnSoNajOYcxxjrgt8B/ApuAAEwBricJjd8OIRT0uEpln9QwVOcsSpIkSYNSt8NiCGFhCOFWYDNwI1AG/ABYCHwMWAN8FvhuBupUtkl1FnNze34vO4uSJElS1klrDGEIYRhwJfBx4ASSTuILwL8DP48x7m+59LkQwk+AB4HLgE9lrGJlh4aGZAhqJqaoFhZCbW3P7yNJkiQpY7ocFkMIPwSuAIYDDSRDT38QY3yiretjjE0hhIeBczJQp7JNfX1m5ivCwc5ijJkJn5IkSZJ6LJ1P+x8D1gL/DPw4xrizCz/zl5brNdjU12dmviIkYTHG5J6FhZm5pyRJkqQeSWfO4tuAWTHGb3YxKBJjfCzGeG1H14QQLgohvBRCWBVC+Hwb7xeGEH7d8v7/hRCmt5w/P4TwbAhhacvrG9P4s6inUsNQMyEVEN0+Q5IkScoa6eyzeG+MMWby4SGEXOBm4M3AccAVIYTjDrvsw8CeGONs4N+Ab7ac3wm8LcY4H/gg8B+ZrE2dyOQw1IKWBXNd5EaSJEnKGl0OiyGEc0MIt4QQJrTz/sSW989O4/mnAqtijGtijPXAr4B3HHbNO4A7Wr7+DfCmEEKIMT4fY9zccn45UBRCcAxjX2loyOwwVDAsSpIkSVkknWGofwOcE2Pc0tabLcHtbODTadxzErCh1fcbW861eU2MsRHYB4w+7Jp3Ac+37Pt4iBDCx0IIz4QQntmxY0capalDmV7gBgyLkiRJUhZJJyyeDDzWyTWPkXQLu6qtpS8PH+ra4TUhhLkkQ1M/3tYDYoy3xBgXxhgXVlRUpFGaOmRYlCRJkga1dMLiWGBzJ9dsbbmuqzYCU1p9P7mNZ7x2TQghDxgB7G75fjLwW+ADMcbVaTxXPZXJBW6csyhJkiRlnXTC4j6SMNeRycD+NO75NHBUCGFGCKEAuBy4+7Br7iZZwAbg3cDDMcYYQhgJ3At8Icb4eBrPVCbYWZQkSZIGtXTC4tPAJSGEcW29GUIYD1zScl2XtMxB/BTwALACuDPGuDyEcH0I4e0tl/0YGB1CWAX8HZDaXuNTwGzg2hDC4pYjna6mesKwKEmSJA1q6Xzavwl4C/BICOGzwIMxxsaWoaEXAt8FSoEb0ykgxngfcN9h577c6uta4D1t/NzXgK+l8yxlUG/ss2hYlCRJkrJGlz/txxj/EEL4BvAF4PdAcwhhJzCGpEMZgG+0hD8NdnYWJUmSpEEtnWGoxBj/EXgr8CBQRbKYTRXJMNKLW97XUGBYlCRJkga1tD/ttzVsVENQfT2MGJGZexkWJUmSpKyTVmdRek0mO4tunSFJkiRlnW592g8hFAIjgdy23o8xdrYfowa6hgbIz8/MvXJzk+B54EBm7idJkiSpx9IKiyGEK4B/AOaRLGjTlpjufTUAZbKzCMlQVDuLkiRJUtbo8qf9EMJVwB1AM7AI2AA09lJdynaGRUmSJGlQS+fT/t8D+4DXxxiX9VI9GigaGzM3DBUMi5IkSVKWSWeBm6OAOw2KApLOYm6bU1a7x7AoSZIkZZV0wuIewE/zSmRygRtIVkQ1LEqSJElZI51hqPcC54QQQowx9lZBGgCampIjA3MWm5thyerhPLjvavYvH8N1EUJ7SydJkiRJ6jPpfNr/PPAkcHMI4ZoYo/scDFUNDclrN8Pi1t0FPPTMKB54upyHnhnF9r0FwEIAXvcHePObM1SnJEmSpG5L59P+L0kWuPk4cGUI4SVgbxvXxRjjhZkoTlkqFRa7MQz1zj9VcNn1cwEYNbyBk+dUsXBOFZc98znetub7fOMbEwyLkiRJUhZIJyye1+rrUlKtoCM5RHWwq69PXruxwM0P/mcSkytq+fIH1jFrYg05LbNmJ67Yx2eG/ZjPPfolHn8czjwzg/VKkiRJSls6C9zkd/EoyHCNyjapsJhmZ3Hb7nweeWEEbzxxL0dNPhgUAZryi/jrgv9g5Ej45jczWKskSZKkbulyWIwxNnX16M2ClQW6OWfxd4+NIcbA2ccfOXq5uaCY0tqdXHop/P73sMwNWiRJkqR+lU5nUUqkOotphsW7HqlgckUtMyfUHvFeQ3Epefv3csnbmykuhm99KxOFSpIkSequtMJiSHwihPBYCGFXCKG21XsnhBBuCCEclfkylVW60VnctS+Ph58fxdkL9rW5NUZjyQhCczPleZW89a3wy1/CunUZqleSJElS2rocFkMI+cADwE3AcUAdyRzFlHXAx4ArM1mgslA3Oot3PzGGpubA2QvaWkAXGkrKkltW7eE970n2WvzOd3pcqSRJkqRuSqezeA3JiqhfAyqAW1q/GWPcAzwKuG3GYNeNBW7ueqSC8eV1HD2lps33G1NhsXI3FRVw/vlw222wY0ePq5UkSZLUDemExfcDT8YYv9KyiE1bW2SsAaZlpDJlrzSHoVbuz+WhZ0Zx1vy2h6BCMgwVIL9qNwCXXw61tXDDDT2uVpIkSVI3pBMWZwJPdHLNbmB098vRgJDmMNR7nhxNfWMOZy/Y1+41DcUHh6ECTJ0KZ50FN90EVVU9K1eSJElS+tIJi7XAiE6umQq0PSlNg0eaYfGuRyoYM6KeudP3t3tNahhqqrMIcMUVsHcv3HJLez8lSZIkqbekExYXA+eHEAraejOEUAZcADyVicKUxVLDULswZ3F/TQ73P1XOWfP3kdPBv22NJYd2FgGOPRZOOgm++11ocvdOSZIkqU+lExZvI5mPeEcIYXjrN1qC4u1AOfCjzJWnrJRGZ/H+p0ZTU5fb4RBUgOb8Qpryi8hr1VkEuPhi2LwZnnmm29VKkiRJ6oYuh8UY4y+A/wAuA3YAHwcIISwCtgDvBG6JMd7TC3Uqm6SxwM1dj4xh5PAGFsys7vTaxmEjyG/VWYSkswjw0ENpVylJkiSpB9LpLBJj/CDJXoqrgPFAAE4F1gMfjzF+IuMVKvt0sbNYW5/DPU+O5sx5leTmdn7bhuLSIzqLI0fCUUcZFiVJkqS+1vVd1VvEGG8DbmsZiloO7IsxdjzGUINLF8Pig0+Poromj7MXdG3No8aSMvIrdx9x/uST4a67oLoahg9v4wclSZIkZVxancXWYozVMcb1BsUhqIsL3Nz1SAXDixs58ajOh6ACNJSMOGSBm5SFC5NH/uUvaVcqSZIkqZu6HRY1hHWhs1jfELj7idG8bm4l+XmxS7dtLC4jr3LXEefnz4fCQnjwwW5VK0mSJKkbujwMNYTwchcvjTHGOd2sRwNBKix2MBHxT8+PZG91Pm84vuvbbjaWlJFffeT1BQWwYIHzFiVJkqS+lE5nsQQobuMYD8xuOUpbrtNgVlOTvBYWtnvJnxaPIi+3mYVHV3X5tg0lZeTW7ifU1x3x3sknw4oVsHFj2tVKkiRJ6oZ0ts6YHGOc0sZRBhwHPASsIAmNGsxqaiAnp8NhqItXDWf6+FoKC7o2BBWSziJAfvWR8xZPPjl5/d//Ta9USZIkSd2TkTmLMcaVwKXAdODaTNxTWaymJukqhtDuJYtXDWPWxNq0bttYnITFtha5mTkTRo1yKKokSZLUVzK2wE2M8QDwAPD+TN1TWaqmBoqK2n172+58tu0pZNbEmrRu21AyAoC8NrbPyMmBk05KOovNzemVK0mSJCl9mV4NtYFkDqMGs1RnsR1LViebIc6elF5Y7GgYKiRbaGzfDkuXpnVbSZIkSd2QsbAYQignGYrqEiSDXU1NskRpOxavSsJi+p3FlmGobXQW4eC8RYeiSpIkSb0vna0zvtjBPaaQBMVRwJcyUJeyWSedxcWrhjNuVD1lw5rSum1jyzDU/Kq2w2JFBUyfnuy3eM01ad1akiRJUpq6HBaBr3XyfjXwLzHGb/SgHg0EnXQWl6wennZXEaCxaDgxhDYXuEk5+WS4916ore1w2qQkSZKkHkonLJ7fzvlmYA/wYoyxvuclKet1EBZr6nJYuaGEK9+0Lf375uTQWFxGXjudRUjC4l13wWOPwXnnpf8ISZIkSV3T5bAYY/xjbxaiAaSDYajL1w6juTkwK83FbVIaS8rI76CzeMIJyfaODz1kWJQkSZJ6U6ZXQ9VQcOBAu2ExtbhNuiuhpjR00lksLoa5c13kRpIkSept6SxwM7G7D4kxbu7uzyoLdTAMdcnqYZQUNjGhvHsjkhtLyshvZzXUlJNPhttvhx07kkVvJEmSJGVeOnMWNwKxG8+IaT5H2a6DYaiLVyWL2+R0s2fdWFJK0Y5XO7wmFRb/+Ee4/PLuPUeSJElSx9IJcb8EpgJnAVXAC8BWYDywACgFHgXWZ7hGZZva2jbDYnMzLFk1nDee1P6cw840lIwgr7Ljn58zB0pLk6GohkVJkiSpd6QTFq8DngRuBL4SY9ybeiOEMBL4KnAF8OEY46qMVqns0k5nce3WIqpq8ro9XxGSvRbzq/dAjBBCm9fk5sKJJyb7LXZwmSRJkqQeSGew4DeBFTHGz7QOigAxxr0xxk8DK1uu02DV1AQNDW3OWezp4jYADcWlhOYmcg9UdXjdiSfCxo2wdm23HyVJkiSpA+mExTcAj3RyzSMt12mwqmkJgm10FpesHk5OiMwYX9vt2zeWjAAgr4PtMwDmzUten3ii24+SJEmS1IF0wmIhMK6Ta8YDRd0vR1mvg7C4eNVwpo6tpbCgO+sgJRpLygDI72D7DIAZM6CkxLAoSZIk9ZZ0wuIS4PIQwoK23gwhnABcBjyficKUpQ4cSF7bGoa6ejgzJ3a/qwjQ0BIW8zrZPiM3F4491rAoSZIk9ZZ0wuL1JF3Dp0IIt4QQ3h9COL/l9VZgEUn38freKFRZop3O4p6qPNZvK+rRfEU4OAw1v7rzFVXnzoUXXoCqjqc3SpIkSeqGLq+GGmN8IIRwJfBD4CPAh1u9HYB9wNUxxocyW6KySjthccnqZHGbWT0Miw3FXessQhIWm5vhqafgTW/q0WMlSZIkHSadrTOIMf46hHAfcClwEjCCJCQ+B/w2xmiPZ7BrLyyuGgbA7Ik97Sy2hMUudBaPOy7ZNuPxxw2LkiRJUqalFRYBWgLhz1oODTXthMXFq4dTXtpAeVljj27fXFBEc14B+Z3NWdxfyajGOmbMqHDeoiRJktQL0g6LKSGEUmB4jHFLButRtmu3szicmT3sKqY0DBtBXieroc778jsp3LaeuSe+xF8eCTQ3Q046M3AlSZIkdSitj9chhGEhhG+GEDYCe4ENrd47NYRwd8uqqBqs2giLDY2B5WuH9Xhxm5TGkjLyO9hnsfTF/2PUc3+kZNMrnFK6gspKePHFjDxakiRJUosuh8WWTuITwOeA3cBLJAvbpCwH3gi8L5MFKsukwmKrrTNWri+hvjEnY2Gxoaisw87i1F99i4biMhqLSzlv/e2AW2hIkiRJmZZOZ/FLwHzgIzHGBcCdrd+MMe4H/gK41Mhg1kZncfGqlpVQMzQMtXFYGXmVbXcWi9e/xJjHfsvms97LthMv5JSnf0D5yGYefzwjj5YkSZLUIp2w+C7gwRjj7S3fxzauWQtM7mlRymLthMXC/GamVNRl5BENJSMp3LUZ4pH/ik258zvE3Hw2vv4Ktp52CXn1NZw0ep1hUZIkScqwdMLiZGBJJ9dUk2ynocGqjbC4ZPVwZoyvITc3M4/YN+N4CvZuZ9iryw45X7BrC+MfuIMtp76dhtJyqqYcR/WE2ZxddS+rV8P27Zl5viRJkqT0wmI1UNHJNTOAnd0vR1mvpibZ3DA/H0iaf4tXDWfWpNqMPWL3sWcBMPrJew45P+m/byQ0NbLh3A8kJ0Jg66lv543b/xOAJ5/MWAmSJEnSkJdOWHwaeGsIYXhbb4YQxgNvJlkER4NVTU2yuE1I1jbavLOAXZX5zMrQ4jYA9SMqqJpyHKMX3fvaudDYwIT7b2fnvDdQO2bKa+e3nXwxJ+YsoSCn0UVuJEmSpAxKJyzeAIwB7gkhHNX6jZbvfw0Ut1ynwaqmps3FbWZnaHGblF3HnkXZi0+St28XAOWL7qNgzza2nnbJIdc1lJZTM+cETsxb6rxFSZIkKYO6HBZjjPcDXwPOBlYC/wAQQtja8v3rgWtjjI/1Qp3KFoeFxRfWJGFxZqbD4tyzCc3NlD/1BwAm3H87dWVj2H3MGUdcu3/8bM5s+DPPPBOpy8waO5IkSdKQl05nkRjjl4ELgfuA/S2nC4EHgQtjjN/IbHnKOoeFxZXrSxg7sp5hRc0ZfUzV5GOpLx3N6EX3ULB7K6MX3cu2hW8l5uYdWdKYKZwZH6WuLvD88xktQ5IkSRqyjvzk3YkY40PAQ71QiwaC1JzFFivWlTBlbOYWt3lNTg67jj2LMU/9gf0zFxCam9hy2jvaLqliCmdwKwBPPAGnn575ciRJkqShpsudxRDCgyGEf+rFWjQQtOosxph0FqeO7Z2xn7vmvp786r1M+/nX2TfjBGrGTm+7pNGTGc82poysdJEbSZIkKUPSGYZ6FlDQ6VUa3Fp1FjfvLKCqJo+p43qhswjsOfp0mnPzya3d325XEaBu5Dia8/JZOGIVjz2WhFhJkiRJPZNOWFwFTOn0Kg1uBw681llcub4EgKnjeqez2FQ0jL2zTqKpoJgdx5/f/oU5udSMnszpec+wbRusXdsr5UiSJElDSjph8cfAW0IIk3urGA0ArYahrlg/DIBpvTFnscUr7/o8Sz96A01Fwzoua/QUXl+bTKV1KKokSZLUc+mExbuAx4HHQwhXhxBODiFMCiFMPPzopVqVDQ7rLA4raqK8rLHXHlczdjp7Zy/s9LraMZM5eecDDBsWDYuSJElSBqSzGup6IAIBuLmD62Ka99VA0qqzuHJ9CdPG1RJCP9dEsn1GQV0Vxx1TzxNPFHb+A5IkSZI6lE6o+yVJENRQVlv72gI3L64rYcHM/Z38QN+oGZNMpz1xwjZue3AqlZVQVtbPRUmSJEkDWJfDYozx/b1ZiAaIls5i5f5ctuwq5K2n7+rvioCDYfG0ESu4pXkqixbBBRf0c1GSJEnSAJbOnEUNdc3NUFcHhYWtVkLtvcVt0lFbPoGYk8up4SlycuCxx/q7IkmSJGlg6zAshhA+EEJY0FfFKMvVtgTDQ8Ji72ybka6Ym09t+QQqtr/I7Nnw+OP9XZEkSZI0sHXWWfwpcEnrEyGED4YQHu61ipS9amqS14ICVqwvIS+3mYmjsyMsQrJ9RvHGVcybB4sWQUNDf1ckSZIkDVzdGYY6HXhDhuvQQJAKiy2dxclj6sjL7d+SWqsZM4WSTa8wf17kwAFYvLi/K5IkSZIGLucsqutahcUV60qYMjZ7uoqQhMW8/fs4YfoewHmLkiRJUk8YFtV1LWGxIbeI1ZuLs2Zxm5SaMZMBmFK7iokTDYuSJElSTxgW1XUtYXF19Tgam3KYmoWdRYDiTauYOzcJi9GdQSVJkqRu6UpY9OO2Ei1hccWe8QBMy7LOYu3oycQQKN60ivnzYft2WL26v6uSJEmSBqauhMV/CiE0pQ7gywCtzx12NPZuyeo3LWFx5e6xAFk3Z7E5v5C6s9k9xQAAIABJREFUkeNeC4vgUFRJkiSpu7oSFkOah0NbB6tUZ3H7aMaOrKekqLmfCzpSzejJFG9axdSpUFZmWJQkSZK6K6+jN2OMBj8dlOosbhuVdV3FlNryiZSveZacHJg7Fx59tL8rkiRJkgYmw6C6rqaGCKzcMoKpY7NrvmJK3cjxFOzaTGhsYP58ePll2LGjv6uSJEmSBh7DorqupobNTKSqNj/rts1IqS2fQIiRwh0bmTcvOffEE/1bkyRJkjQQGRbVdTU1rOQYAKaOy85hqHUjk5VaC7etZ84cyM933qIkSZLUHf0eFkMIF4UQXgohrAohfL6N9wtDCL9uef//QgjTW86PDiH8KYRQHUK4qa/rHpJqaljBsQBMy9JhqLWjJgBQtH09BQVwzDGGRUmSJKk7+jUshhBygZuBNwPHAVeEEI477LIPA3tijLOBfwO+2XK+FrgWuKaPylVNDStz5jKsqInysuzcIaVu5DgAiratA2DePHj22dfW5pEkSZLURf3dWTwVWBVjXBNjrAd+BbzjsGveAdzR8vVvgDeFEEKMcX+M8TGS0Ki+UFPDinAsU8fWEkJ/F9O25oIi6ktHU7htPQDz50NDAzz9dD8XJkmSJA0w/R0WJwEbWn2/seVcm9fEGBuBfcDorj4ghPCxEMIzIYRndrgsZs8cOMDK5jlZO18xpXbkeIq2J2Fx7tzknENRJUmSpPT0d1hsqz8Vu3FNu2KMt8QYF8YYF1ZUVKRVnA61bx9sjhOydtuMlLpR41/rLJaVwfTphkVJkiQpXf0dFjcCU1p9PxnY3N41IYQ8YASwu0+q0yFe2lEOkLXbZqTUjhqfzFmMye8U5s1Lts9oaurnwiRJkqQBpL/D4tPAUSGEGSGEAuBy4O7Drrkb+GDL1+8GHo4xdrmzqMxZuTvpzGb7MNS6URPIrTtAXmXyO4X585Ou6PLl/VyYJEmSNID0a1hsmYP4KeABYAVwZ4xxeQjh+hDC21su+zEwOoSwCvg74LXtNUIIa4HvAh8KIWxsYyVVZdCKvRPIp4GJo7M7LLbePgOSsAjw+OP9VZEkSZI08OT1dwExxvuA+w479+VWX9cC72nnZ6f3anE6xMqqScwo2Ehebn9X0rHaUeOBZPuM6qNOZPx4GDMmmbf4iU/0c3GSJEnSANHfw1A1gKw4MI2jijZ0fmE/q2sJi6lFbkJIVkV95JH+rEqSJEkaWAyL6pKGBlhdN5nZxZv6u5RONQwbRVN+0WvDUAFOOAE2boRXXunHwiRJkqQBxLCoLlm1ChrJZ9awbf1dSudCaNk+Y91rp049NXm97752fkaSJEnSIQyL6pKVK5PXWcMHQFgEakeOp2jbwc7ixIkwdSrcf38/FiVJkiQNIIZFdcmLLyavM8p29W8hXVRbPuG1OYspp54Kf/4zHDjQPzVJkiRJA4lhUV2ybFlkOq9SXDwwtrisGzWewj1bCfUHt/k47TSoq4M//akfC5MkSZIGCMOiumTpksg8ltGcX9TfpXRJ7ciW7TN2HFy9dcECKCpyKKokSZLUFYZFdaq+Hl56JTCfpTTnF/Z3OV1SVz4R4JChqAUFcNJJcO+9EAdGg1SSJEnqN4ZFdeqll6CxMbR0FgdGWHyts7j9yHmLa9fCyy/3Q1GSJEnSAGJYVKeWLk1e57OUpgESFutGjiOGcMj2GZDMWwSHokqSJEmdMSyqU8uWQV5uZA4v0VxQ3N/ldEnMy6e+rOKQ7TMAxo+HadPcb1GSJEnqjGFRnVq6FKaNq6WAhgEzDBVSey2uO+L8qafCX/4C+/f3Q1GSJEnSAGFYVKeWLoXZ46sABswwVIDa0ZMo2rTqiPOnnZYs2vPww/1QlCRJkjRAGBbVoaoqWLcOZlfsAxhQncUDFdMo2r6enPraQ87Pnw/Fxc5blCRJkjpiWFSHli9PXo8evRtgwOyzCFBTMZUQI0Wb1xxyvqAATjwxmbfoFhqSJElS2wyL6lBqJdRjyrcDA6uzWFMxFYDija8c8d5ppyUd05Ur+7oqSZIkaWAwLKpDS5cmQzYnF+0ABtacxVRYLNl45KaKbqEhSZIkdcywqA4tWwYzZkBefQ0wsIahNhaXUj+8vM3O4rhxMH26W2hIkiRJ7TEsql0xJp3F6dMhb3+ywE1j8fD+LSpNNRVTKN50ZFiEpLv46KNQXd3HRUmSJEkDgGFR7dq+HXbuTDqL+ZW7aCosIeYV9HdZaakZM5WSNjqLkOy36BYakiRJUtsMi2pXanGbmTOTsNhQUta/BXXDgYqpFO7cRE7N/iPemz8fSkociipJkiS1xbCodqXC4owZkFe1m4aSEf1bUDfUVEwDoHjTqiPey8+Hk06Ce++F5ua+rkySJEnKboZFtWvZMhg1Kjny9+2icUCGxZYVUduZt/iGN8DGjfDQQ31ZlSRJkpT9DItq19KlSVcRIK9y18DsLI6ZArS91yIkYbG8HG64oS+rkiRJkrKfYVFtam6G5csPhsX8yt00DBt4YbGpsIS6ERUUt7HXIiRDUd/2tmTe4itt50lJkiRpSDIsqk2vvgoHDrSExRjJr9o9IIehQscrokISFvPy4Oab+7AoSZIkKcsZFtWmZcuS1xkzIHd/JaG5aUB2FiFZEbW9YagAo0fDOefA7bdDVVXf1SVJkiRlM8Oi2tR6JdT8yl0AA7qzWLB3O7nV+9q95p3vTILiHXf0YWGSJElSFjMsqk1Ll8LEiVBcDPlVuwEG5AI30PmKqADHHpscN9zgNhqSJEkSGBbVjqVLYfr05Ou8fUlncaCHxY6GogJcemmyyM2DD/ZFVZIkSVJ2MyzqCHV18PLLMHNm8n2qs9g4QOcs1oyeTAyh07B4zjnJ/MUbb+ybuiRJkqRsZljUEV56CZqaWm+b0dJZHKBhsbmgiLqR4ylpZ/uMFLfRkCRJkg4yLOoIrRe3AcirbOksFpf1U0U9d2DcDIatWdrpdaltNG66qQ+KkiRJkrKYYVFHWLo0CUxTpiTf51fuorG4lJib17+F9UDl1HkMW7uM3JrqDq8rL4dzz4Wf/AQqK/uoOEmSJCkLGRZ1hGXLYOrUJDBCEhYH6uI2KZXT5xOamyld+XSn1156qdtoSJIkSYZFHeGFFw4OQQXIq9o98MPi1PkAlL24qNNrjz0WjjsOvv99qKnp7cokSZKk7GRY1CEqK2HDhkPDYv6+XTSWDNz5ipCs5Hpg7PQuhUWAD30IVq+Gq6+GGHu3NkmSJCkbGRZ1iGXLktfUthkAeZW7BuxKqK1VTptP2fInu5T+TjklCYw/+xncfHPv1yZJkiRlG8OiDvHCC8nrIZ3Fyt00DvBhqJCExYJ9Oyja8mqXrr/qKjjjDPjsZ+Gxx3q5OEmSJCnLGBZ1iCeegFGjYNy4lhNNTeTt3zvg5ywC7Ju+AOjavEWAnBz4whdg/Hh4z3tg8+berE6SJEnKLoZFHeKRR2D+fAgh+T6vei8hxkERFg+Mn0VTYQllLz7Z5Z8ZPhyuvx727YN3vxvq63uxQEmSJCmLGBb1mg0bYN26JCym5FftBpIFYga6mJtH5ZTjKFvetc5iyowZ8Pd/D08+CX/7t71UnCRJkpRlDIt6zaOPJq8LFhw8l1+5C2BQLHADUDl9AcNXLyanLr09Mc45By6/HP793+H223unNkmSJCmbGBb1mkcfhWHDYNasg+fy9rWExUEwDBWSRW5ymhopffnZtH/2Ix+Bk09OXq++Gvbs6YUCJUmSpCxhWNRrHn0U5s6F3NyD514bhjpowmJ6i9y0lpsLX/0qvOtdcNttMGcO3HGH+zBKkiRpcDIsCoBdu2D58kPnK0KrYaiDJCw2lJZTM2YyI5Z2by+M4mL45Cfhhz+EsWOTvRjPOSf5ZydJkiQNJoZFAQf3EWw9XxEgr3I3MQQai0v7vqhesvvo0xn1zIPk1Ozv9j1mz4YbboBrroHFi+GEE5L9GF96KYOFSpIkSf3IsCggGYKanw/HHHPo+fzKXTSWlCWbDg4SO068kNy6GkY/eU+P7pOTAxdfnAxFPf/8JDwecwyccQbcemuy3YYkSZI0UA2eBKAeefTRJOgUFBx6Pq9qNw0lI/unqF6yd+aJ1JWNYeyff52R+40cmWytceed8PGPw+bN8LGPwYQJ8P73wwMPuD+jJEmSBh7Doti/H5577sj5itCqsziY5OSy4/jzGL3oPnIPVGXstqNHJ9tr/OQn8IMfJN3Gu++Giy6CMWPgssvgF7+A3bsz9khJkiSp1+T1dwHqf4sWQWMjHH/8ke/l79tF/SBZ3Ka1HSdcwORHf8Xox+9m+/lXZvTeIcCxxybHJz8JzzwDTzwBf/xj0n3MzYWzzoILL0z+mc+fD5MnJz8nSZIkZQvDonjkkWT+3dy5R76XV7mL/ZMn9H1RvWzf9OOpGzmOsX/+dcbDYmsFBckcxjPOgObmZAGcJ55Iji9+8eB1I0bAvHlJcJw+ve0poo2NSRe4uvrgsX8/5OUl23gcc0xyzJkDo0b12h9JkiRJQ4RhUTz6KMyaBcOGHflefuVuGocNvs4iOTlsP/48Jj3+X+RV76VxeO/Py8zJOdhx/PCHoaoK1q6FNWuS49VX4ec/T0JgR/coKUm28CgqSl7r6+Gee5IwmTJ2LJx5Jnz5y8lKrZIkSVK6DItDXH19Mgz1zW8+8r3Q2EBeTRUNgzEsAttPvJApf/kFox/7H7Zd9ME+f35padJJbD1XNEaorW37+tzcZMXatoarNjXB1q2wfn1yrFuXDHv97W/hiivgq19NfiEgSZIkdZVhcYh77jmoqTlyf0VI9lgEaBiEcxYBqqbOo7Z8IhP+8JN+CYttCSHpFqYrNxcmTUqO170uOVddDb/6FfzmN/Bf/5Ws0HrttTB+fGZrliRJ0uDkaqhD3KOPJq9troRalYTFxkEaFgmBja+/gpFL/sKIFx7t72oybvhw+MhHkhVY3/IWuOWWpLv41a8m8yclSZKkjhgWh7hHHoEpU6C8/Mj38it3AYO3swiw+Yx3UV86mul3XNffpfSa0aPhs5+Fn/4UTjklmcd4+eXtD3eVJEmSwLA4pDU3w+OPt91VBMjb1xIWB+mcRYDmgmLWn/sBRj33R8qWPt7f5fSqSZPgK1+Bq69OhqWedx7s2tXfVUmSJClbGRaHsOXLYc+e9sNiqrM4aIehtth8xnuoH14+qLuLKSHAZZcl3cWnn07mN65Z099VSZIkKRsZFoew1HzFtha3ASja+iox5FA3oqLviuoHzYXFbDj3A5Q/+xBly5/s73L6xLnnwre/Ddu2wemnw1NP9XdFkiRJyjaGxSHskUdgzBiYMKHt94etW0HNmCnEvIK+LawfbDrzvdQPL+fo73z8tVVgB7v58+HGG5PtOM45B+6+u78rkiRJUjYxLA5RMSZhcf78tvftAyhZt4ID46b3aV39pbmwmBXv/zolG1ay4HMXklu9r79L6hNTp8JNN8H06fDOd8Kdd/Z3RZIkScoWhsUh6tVXYcuW9oeghqZGije9woGxM/q2sH60Z87pLP/Qtxm+ejEL/uHNh3YYm5ooWfsiYx/+FSMW/4XQ1Nh/hWbYqFHwne/A3LnwvvclezNKkiRJef1dgPrHn/+cvLY7X3HTanIaG9g/buiERYBdc8/mxau+wdyffZ6z3jGapsISGkaMIX/fDnLral67rqFsNDvPeBsb3nsNB2bM7ceKM6O4GP7lX+ALX4Arr0xWyn3f+/q7KkmSJPUnw+IQdccdyVYK06e3/f6w9SsAODBuZt8VlSV2Hn8ez3/yNkaueY78/XvIr95DQ8lIqifPoXri0RTv3MCYpX+m4s+/YcwTv+f5Gx/jwNRj+rvsHisuhm98A774RbjqqmSo8pVX9ndVkiRJ6i+GxSFoxYpkvuLHPgY57QxELlnXEhbHTuvDyrJH5cwTqJx5Qpvv7Z80h53Hn0fxjvWceONfs+CaC3j+5ieoq5jcx1VmXnEx/PM/wz/+I3zgA0mH8aqr+rsqSZIk9QfnLA5Bt94KeXlw0UXtX1OybgV1I8bSVFzad4UNMDUVU3nhYzeRV7WbBddcQN6+3tnhvvzJeznxk2dw7FevYOwf/5O86r298pyUVGA84QT44Afhpz/t1cdJkiQpSxkWh5ja2mQI6plnJgubtKdk/UoOjJ3eZ3UNVNWTj2HZh79H8ebVHPMvH0rGbmZI4Y6NzP3yu1jwxbdSsG0Do556kOO+9j7OuHQsU3/+9Yw+63BFRfD1r8NJJ8Ff/RVcf32vPk6SJElZyLA4xNx1F+zeDW97WwcXxUjJ+pVDbnGb7to7eyFrLv40Yxbdw9g//Toj9yzetIpT/moe5YvuY83Fn+apz/83T1z3IM995qfsnHcuM3/8JY677r3k1lRn5HltKSpKOowXXABf+UoyHLW2ttceJ0mSpCzjnMUh5pZbkoVtTjyx/WsKd24ir6ZqSC5u010bz76Csc//gdk3/A27Tz6fxhGju32v0NTIMV+/itgcefaaX1HTat5o5fTjeXHaAiqnzmXW779PyfqXWPqNe6gbNzUTf4wjFBTA5z+f7Md4223Jliu/+x1UVPTK4yRJkpRF7CwOIStXJgvbXHxx+wvbQKvFbewsdl1OLi9d9mXyqvcw+wd/16NbTf35PzNixSJeefcXDgmKrwmBjed+gBc+dhNFW9dywmfeQNHWtT16ZkdCSFZF/ad/gmefhVNPhRdf7LXHSZIkKUsYFoeQW27pfGEbMCx21/6JR7P+jR9i/IM/Y9RTD3TrHqUrnmL6z65n20lvZvtJHf8PteeY17Hk6n8nr3J3Ehi3vNqtZ3bVG94A3/seVFXB614H993Xq4+TJElSPzMsDhFdXdgGoGT9ChqKy6gv7f5QyqFq3QUfZf+4mRzzrx8mr2pPWj+bU7OfY79+JXUjKnjl3V/o0s9UTZ3Lkk/8kNzqvb3eYQQ45hi4+eZkGOrFF8Pb355sxSJJkqTBx7A4RPz3f3dhYZsWw9atSFZCDaHX6xpsYl4BK993Pfl7tnHU9z+V1s/O+uE1FG9ezcorrqcxjS1Lqqccy5L/dwu5+/cx/x/eknZITde4cUlg/OhH4eGHYd48+PjHYevWXn2sJEmS+phhcYj40Y86X9gmpWTdCoeg9kDV1LmsO/8jjPvjL6n4051d+pnyJ+9l0t0/ZOMb3s/eo05J+5nVk+aw7K++Q/GmVcy99p2Ehvq075GOwkJ43/vg5z+HSy6B22+H2bOTeY3VvbdAqyRJkvqQYXEI6OrCNgB5lbsp2LvdsNhD68/7MJXT5nH0d6+mYOfmDq/N37uDY/71w1RPOIo1F6fXjWxt3+yFrLzinxi15M/M+deP9MnGiCNHwqc/DT/9KSxcCNddl3Qe3/xm+M534IUXoLm518uQJElSL3DrjCHg1luThW0uvLDza0vWrwRc3KanYm4eK973NRZ++3KO///O44Vv/aHN7S1CYwNzvvVh8qp2s+QjNxLzCnr03O0nv4XiXRuZcf+/s3/GXDZc8Q89ul9XTZqUdBVffBH+93/huefgD39I3hs7Ft70Jjj99GQLjsmTk2Ps2M5/eSFJkqT+Y1gc5Gprk67PmWdCeXnn15e+/CwA+91jscdqxk5j6UdvYN7tf8dJn3wdL3zzfvbPWvDa+4XbN3DcdZcx4sUneeXSz7F/4lEZee668z/KsC2rmXnbF6macwp7T3pjRu7bFccdlxwAO3YkW208+yw88AD8538eem1eHkycCBMmwOjRhx7l5W2fGzbMqbSSJEl9JcQ+GKqWLRYuXBifeeaZ/i6jT918M3zqU/Dtb8PJJ3d+/Qmffj35u7bw9Of+y0/lGTJs8yssuPXT5NbXsOXij1A7fjrN+YXMvO2LhPpaXnrvtew4sQtt3zTk1u7npO9dRX5tNc/e+hx1FZMzev90xQh79sDOnUmIbH3s2QOVlcmWHJWVsH9/+/cpKOhaqGz9/ciRyRxLSZIkQQjh2Rjjwi5da1gcvBYtSvbGmz8fvvWtzof8FW5dx+uumM6at3yK9ed/uG+KHCIK92zl2F/8I6Xrl5PbUAdA9cSjWf7Bb1EzdlqvPLNk2xpO+rer2D9zAYu//xdifs+GuPaVhoYkOO7bdzBA7tuXvLYOla2/3rsXGhvbv2d+PgwfnnQmS0uTr0tLD36d+n748CRcjhlz8KioSF5LSvrun4EkSVJvSScsOgx1kNqyBd75zuRD7rXXdm1u2LiHk3GCnW0Gr/TVjRrP4k/9GGIkv3oPBZU7ODBuRo/nKHbkwLiZvHT5PzH3jr/n6H/7BC997rYB0S3Oz0+6g10ZNp0SYzLkunWoTB3V1VBTc+SxfTusX598feBA8lpb2/4zSkthyhSYPj2Ze5k6Zs1Kht6WlfX4jy5JkpRVDIuDUF0dvOtdyfC+m2+GESO69nNj//eX7JtxPLWjJ/VugUNZCDSUltNQmkYS6oEdJ5zP2s0fYfr9t3Fgyhw2XPH3ffLcvhYCFBcnx/jx3b9PU1MyDHbfvuTYu/fg17t2JQFz1Sp4/PHkXGuTJiV7Th53HMydC8cfDwsWJENnJUmSBiLD4iATYzJH8cknk9UpZ3ZxnZpha5Yy/NWlvPyuz/dqfep7ay/6BCU71zPrln+gZtJsdp79zv4uKWvl5iYdwrKypIvYkVR3cuNGWLcO1q6FNWvgz39OfmEDUFQEJ52UrAR72mnJ65QpA6LBK0mSZFgcbH74Q7jtNrjyymS+YleN/eMviTm57Dj+/N4rTv0jJ4eVl19H4e6tHPvP72dZ8e/Yc8oF/V3VgFdcDNOmJceZZx4839QEW7fCyy8nW4msXJl0+L/73eT9SZPgnHPg3HOT15kzDY+SJCk7ucDNIPLII8l+dgsXwte+lnRJuqS5mdPfN5P9oyax9OM392qN6j/5Vbs4/oefYNjWNaz61PfYdMkn+ySlhMYGyl5cxLC1yylZu5z8fbuoPupEqo45hao5C2kqHt7rNfS3hoak6/jii7B0KSxZArt3J+9NmgRvfGMSHM85B2bMMDxKkqTe42qo7RjMYXHJEjj//GTY2w9+kKzq2FWjnnmI4z93ASuu/BrbFl7ce0Wq3+XW7ufYX/wjY5b9hU1vv5rVV3+b5uJhvfOs/ZVMuPdWJv/X9yjauRGAxsISGkvKKNqzFYCmgiK2XPxRNlz+OerGdjLuM0sVb3iZSb+9iWFrl5FXtZe86j3UTJnD1vOvYufrL6W56MhlVGNMFtdZvDg5lixJ5hhDMkw11XVMhcfBrqEBNm1K/pns3JnMFU3NF019XVeX/HOLEZqbD35dWHhwpdvUyrbDh8OoUclKtqnVbCsqkv8+9ocYk7mwO3YkQ5dbv6YWVUr9eVJ/JY8YcXAf0tRRWuovEiRJPWdYbMdgDIsrViRzE++8M5lndeONyQqNXVW0eQ0n/b/Tacov5Jlrfk1TofsDDHrNzcy47yam/fEn1I+oYMMVf8+mt38iY6Exd38lU+78DpN/8z3yDlSyZ/ZCNp/5XiqnzaNu5HgIgfzqPZRuWE7F4ocY9+x9EALbLvgAa6+6lrrxvbOVSKaNWPoYU/7zW4xedA8xN4+qKXNpKC6jqWgYI9YuoWj3ZhqLh7P1zX/Nuqu+RMPIinbvFWMy7zEVHl944WB4nDw5Geb6utfBGWfACSckK8YOJDEmweill5Lj5Zfh1Vdhw4bkz71t28GQ1FoIB0Ngfn7yfWpl5xCSo6EhCVypFW2bm9uvY/jwgwGydYg8/Eid7yicxZhs3bJ7d3Ls2ZO8btmSBN/UsXEjbN6c1NdTw4Ylw5bnzk2O1GJKs2ZBnpNKJA0BMSZbZTU3JwvI+Qu07jEstmMwhcXVq+G66+AXv0h+s/7Od8J735ve8v15+3Zx0qfOIH/PNp77m59SM3Z6r9Wr7FO2ZjHTH/gR5S8von7EGHacexnbz3kv++admcYY5oNyD1Qx8fc/YuovvkF+1W52LHgT69/0V1RNndvhzxXu3szUP/2MCYt+C8Dmt1/Nuiu/SEP5uG79uXpb6YqnmHH7tZQ/8yD1w0ex+Yz3sOms99JQOvrgRc3NjHj1eSYs+h3jnrufpsJiNlz2OTa+57M0lZR2+owYkwVzFi+GZctg+fIkUEEyV/KUU5Jj/vzkOO64/uuatVZbC6+8cjAQpsLhSy8l3cGUgoJk1dqxY5NQNm5c8jp2bNIRTAXEkpK2t/3JrammaPMaijetonjzagp2bSanvpac2hpqm/PZXTaNnSXT2Foyk00j57K7aeQhncrUCrep71MLEh2uoCD55324VKewqantn8vPTwLn6NEH9+ssL0/+bCNGJK8jRyZfl+3bwJhH/5uxj9zFyOWPEWIkAvsYwRYmsKF4DqunnsPqCWexfuQCNmwtYN26JJS2rnPOnIPhsXWIHGi/WJA0tDQ3J3+/rV+f/ALx8GPr1uQXgfX1yX+r6+oO/lIwPz/5pd6IEcnn39R/X6dMSY6pUw9+PXGiv1RrbUCFxRDCRcD3gVzgthjjvxz2fiHwM+BkYBdwWYxxbct7XwA+DDQBfxNjfKCjZw3ksBhj8n+aF16A3/0OfvrT5F/6Sy6Byy9PPnikI3/vDuZdeymlK59mySd+yL6ZJ/ZK3cp+Za8uZsqff075isfIbaijrnw8exZewJ6F57PnpDdRP3pC+z8cI8NfeZ6J99zC2P/9BXk11ew65gxefcsnqZ5yXFp1FO7ZyrQHb2XCU/9DzM1jx9nvYsvFH2Hv8W/o2kah7QiNDZSsX0nJhpco2rqWoq1ryd1fSXNBEc0FhTSWllMzcRY1E2dRO2kW9aPGHfGryoIdmxjz+P9Q8chdjHr+YeqHj2L9Gz/E5jPfQ3NBG2milZJtrzLjvpuoeOFhGkvK2HrRh9h0ySepmXJ0Wn+OHTuS0Jg61qw5GHJycuCoo5KtOubMOfgXZGovyHSGpXeksTEJKanVX1u/vvxaII1GAAAPqklEQVRy8pd9679SKiqSzmjrv7injq9neu0KRry6hJL1KyjYvZWC3VvJ+//bu/fguMrzjuPfZy/Sru6W5Ksk343BNA4hXOwCE8I9DS1tA4MzDZcmgUkLbTqTTgc6nQnJTKah02k6tGmnDDBJaKFhaChuk0CcQCBJC7YJBnOtjWXLtmxdfNNtpdXuPv3jnLXWWsnItqy1rN9nZuec8+57zr5rPd5znve855y+I+TKE+TKK8iWJ4NpogKPxoj19xDrP0L8cFeQHB7qOLZd5RXkypLkYmWY54j3HCCSyxx9PzV/KT3nr6Vn1RqOrFpL/7LVeCzIovLP6MwPdy1MJg8fDs5cFooMDRA/coCagX00ZDqo94PU57qoTQxS2VhJzYIqkovnMrj4XAYXLMWjsVHrp6jY/T6zNj3P7Jeepub9YJ/UN3853auvprf5XLKJKrJlSSo6WqnbvplZ2zaSOLSPTLKKrk/cQucnb2Xfyk+wa3+C1taRv0NbW3AWMy8eHzuJXL5cSaSInH7uwWOnxkoCd+8e+c0a/TubSIx0JtbXBydF4vGgY6ysbGSkSSoVdNz19wejN/r6ghEfXV3BfKFIJBjOv2hRcSKZn29snDlnKqdNsmhmUeD/gGuBPcAm4LPu/k5BnT8GVrv7l8xsHfB77n6rma0CngQuARYAPwXOcfdx+nrPzGQxkwkeHN7bW/zq6gpuhrF1a5Ak5p/rFo/DjTcGdzxtaDj+9gtFhlI0/Go98zY8Tv3G58BzvHP7g3RdoDugCkSHBmh4+2Uat77IrG0bifcHp4LSs+bSv+Q3GGg+h1x5Eo9EiQwPUbnjTaq2byHed5hsPEHnx65j39rP0LN49Sm1I9m5i6ZfPMnc135MPNXDUGMTR85fS+/Ki+lf+hHSdXMYrm0MztCFv+qR4SFiPQeJ9R6ivHsvyb3bqNizjcrWt6hsfYvI8Mipo+FkDZmKaiKZNJHhNLFUL+YjYxeziUpS85eSragmOtBDrL+HRGcbAANzFrH/ot9m7xXryCZObNhuddvbNL/8BLO3bCCSHaZ32QVBAnP+WlJNyxmumx18r7JkkGBEIsfda2WzwTDHHTuCV2tr8Nq/v/iMV/76vfxjQWpqgt7Ymprg9ySbDXpqC6f9/SNDLLu7g2GWo58tmd/23LlBr21Ls7NwfprFcwZYXHeYuv52yrv3kujYFcZLkCBGskEil4vGSVc3kK5uIJOsIpJJEx0eIpIeJDo8SCSdwnJZsokqMokqhitqGWxoItXYTKqhhVRjM4ONLWSSo87W5nLE+w9T0bWLml1bqdn5BjW7tlJ+pCv4tytP0rvyInrOW0Pfso8yPGsOw3WzySSrsVwWy2WJDvRSdmAf5QfaSe7dHjxeaMebxySq2XiCTLKKbKIKyw5TfqSTSGbkqCcXi5OeNZdssppssop4zwES+1uxcL/b07KK7tVX07X6alJzjjP82p3a1i3M2/gss7dsIDY0QLa8gkMXXkXveZeSalrOQNMKMrUN9OWS7OyqZEd7kp27o+zaFSST7e0jiXw8Hhw0zZsX/O0KX3V1x177WTgMOBYLBh1Eo8fO55dPoU9HRE7AiRy6n+hhvnuQvA0PB8eo+fl0OkjI8olZPknr6wsSwu7u4JWf7+gI9lGp1LHbj8WCRLCxMZjmk8L8/Jw5k3N9dn//yLXhHR0j14oXXjeeTh+7TiIRdHAuWhTcfC4/CqSubmS+piYYcZJIHPsqKzv2NzESGZk/ExPQ6ZQsrgUecPfrw+X7Adz9rwvqPB/W+V8ziwH7gdnAfYV1C+uN93lnYrL4yCNw113jv19ZGfQCr1gRTPOvkzlTUP/Dx1ny1dtJ18/l4NobOXDFTQw2LT/5xsvZK5cj2fYe1e9uIrlnG8m92ynv2IVlMlgug0dipJqWkVp0Lv1LPsLhi68lW3kCY6AnwNKDzNq0gdrXf05l61uUd+4+ofXT9XMZnL+EgUXnkVp4Lqnm5aQbm4raaZk0ZV3tlHe2Ud65m/KONso7dhMZHiSbqCSXqGRwwRIOf/xqBhcsO+Vf/diRbhpf+gHV77xK5Y6tRFN949b1aBSPRCESxQs+18b83Q7KMh5lH/NpyzXT5i3spoU2b6HbG+ilml6q6fEaeqmihxoyxIiQI0r2mGkl/dRziHoOUm8HmcVB6v0g86yDxexkMTtZ6LuosNSHtCuQrp9LqmUlAwtXkmpZSWrhSgbnLYLoFI0Lcid+YB9VH7xB5bY3qPzgTSp2vkMkk/7QVXNl5aSalpNqXkGq5Zyjr0xtY9FnxHoPUda5m8S+VpLtO4gd6SY6OEBkcIBsspLBpmUMLlhG//LVpBubTvhrWHqQ6nc3UrvlZWq2/pJER9uY9fbdeR/t9x7dlTI4OPIs0NbW4OAp3xlw4EDQGXC86z0nqvBA6VSd6gHWZBygTeVB3ulOAM6EbZ9JbTmTvufZIB4fGWpfWxskVqM7o+bNC84UngkdS+7B715HR9DJ2tFx7Hx398jJm1M1MDD2JQ2lNJ2SxZuBG9z9i+HybcCl7n5vQZ23wjp7wuUPgEuBB4BX3P1fw/JHgR+7+9OjPuNu4O5wcSXw/mn9Ume/RqC71I2QM4biQQopHqSQ4kHyFAtSSPFQeovcffw77xUo9aWeY/XZjc5ex6szkXVx94eBh0+8aTIWM9s80Z4IOfspHqSQ4kEKKR4kT7EghRQP00upTwTvAQofrtYMtI9XJxyGWgscnOC6IiIiIiIichJKnSxuAlaY2RIzKwPWAetH1VkP3BHO3wy84MHY2fXAOjMrN7MlwApg4xS1W0RERERE5KxW0mGo7p4xs3uB5wkenfGYu79tZl8HNrv7euBR4HEz205wRnFduO7bZvYU8A6QAe453p1QZdJoSK8UUjxIIcWDFFI8SJ5iQQopHqaRkj9nUURERERERM48pR6GKiIiIiIiImcgJYsiIiIiIiJSRMmiTJiZ3WBm75vZdjO7r9TtkdPPzB4zs87weaf5snoz22Bm28LprLDczOyhMD7eNLMLS9dymWxm1mJmL5rZu2b2tpl9OSxXPMxAZpYws41m9kYYD18Ly5eY2athPHw/vHkd4c3ovh/Gw6tmtriU7ZfJZ2ZRM3vdzP47XFYszFBmttPMtprZFjPbHJZpXzFNKVmUCTGzKPBt4FPAKuCzZraqtK2SKfAd4IZRZfcBP3P3FcDPwmUIYmNF+Lob+OcpaqNMjQzwFXc/D1gD3BP+BigeZqYh4Cp3/yhwAXCDma0BHgS+FcbDIeALYf0vAIfcfTnwrbCenF2+DLxbsKxYmNk+6e4XFDxPUfuKaUrJokzUJcB2d9/h7mng34GbStwmOc3c/WWCuxAXugn4bjj/XeB3C8q/54FXgDozmz81LZXTzd33ufuvw/legoPCJhQPM1L4d+0LF+Phy4GrgKfD8tHxkI+Tp4GrzcymqLlymplZM/Bp4JFw2VAsyLG0r5imlCzKRDUBuwuW94RlMvPMdfd9ECQQwJywXDEyQ4TDxj4GvIriYcYKhx1uATqBDcAHwGF3z4RVCv/mR+MhfP8I0DC1LZbT6O+BvwBy4XIDioWZzIGfmNlrZnZ3WKZ9xTRV0ucsyrQyVq+fnrsihRQjM4CZVQH/AfyZu/cc54SA4uEsFz7b+AIzqwOeAc4bq1o4VTycpczsRqDT3V8zsyvzxWNUVSzMHJe5e7uZzQE2mNl7x6mreDjD6cyiTNQeoKVguRloL1FbpLQ68kNEwmlnWK4YOcuZWZwgUfw3d/9BWKx4mOHc/TDwc4JrWevMLN8RXfg3PxoP4fu1FA9xl+npMuB3zGwnwSUqVxGcaVQszFDu3h5OOwk6ki5B+4ppS8miTNQmYEV4d7MyYB2wvsRtktJYD9wRzt8BPFtQfnt4Z7M1wJH8kBOZ/sJrih4F3nX3vyt4S/EwA5nZ7PCMImaWBK4huI71ReDmsNroeMjHyc3AC+6uswdnAXe/392b3X0xwbHBC+7+BygWZiQzqzSz6vw8cB3wFtpXTFum/58yUWb2WwS9hVHgMXf/RombJKeZmT0JXAk0Ah3AV4H/BJ4CFgJtwC3ufjBMJv6R4O6pA8AfuvvmUrRbJp+ZXQ78AtjKyHVJf0lw3aLiYYYxs9UEN6mIEnQ8P+XuXzezpQRnl+qB14HPufuQmSWAxwmudT0IrHP3HaVpvZwu4TDUP3f3GxULM1P4d38mXIwBT7j7N8ysAe0rpiUliyIiIiIiIlJEw1BFRERERESkiJJFERERERERKaJkUURERERERIooWRQREREREZEiShZFRERERESkiJJFERERERERKaJkUURE5DjMzD/kdWep2ygiInI6xErdABERkWnia+OUb5nSVoiIiEwRc/dSt0FEROSMZWYO4O5W6raIiIhMJQ1DFRERmSRmttLMHjSzzWbWZWZDZrbTzP7FzJrGqH9NOJT1r8xsjZn9yMwOhmXNBfVazOyfzGxHuM0DZvasmX18ar+hiIjMJEoWRUREJs8twN1AG/AE8A/A+8BdwEYzmz/OepcDLwNlwKPA94BhADO7iGCo65eA94CHgP8CrgT+x8yuO03fRUREZjgNQxURETmO/DBUxr5mcae7f6egbjPQ5e5Do7bxKeCHwLfd/U8Kyq8BNoSLX3T3R0etFydINucD17r7L0d91iYgCyx19/TJfUMREZGxKVkUERE5joJkcSwvufuVE9zOO0DM3c8pKMsni5vd/eIx1vkM8DTwTXe/f4z3vwL8LXC9u/9kIu0QERGZKN0NVUREZAImcoMbMzPgNuAOYDUwC4gWVBkYZ9WN45SvDadLzOyBMd5fGU7PA5QsiojIpFKyKCIiMnkeAu4F2oHngL3AYPje54EF46y3f5zyhnB664d8btUJtFFERGRClCyKiIhMgvDmNfcAbwCXu3vfqPdvO87q4w11PRJOP+3uPzr1VoqIiEyc7oYqIiIyOZYBBjw/RqK4CFh8Ett8JZxecWpNExEROXFKFkVERCbHznB6hZkdvU7RzKqBhzm5fe4z4Xb/1MyuH6uCmf2mmSVOYtsiIiLHpWGoIiIik8Dd95jZ08DNwK/N7KdALXAd0AdsBVad4DaHzOz3Ca5/fM7MfkXwzMUUsBC4GFgCzGbk2kgREZFJoTOLIiIik+dO4JtAJcH1i9cB64HLgJ6T2aC7v05wZ9W/Ibi76ueBPwIuBF4DPgccOsV2i4iIFNFzFkVERERERKSIziyKiIiIiIhIESWLIiIiIiIiUkTJooiIiIiIiBRRsigiIiIiIiJFlCyKiIiIiIhIESWLIiIiIiIiUkTJooiIiIiIiBRRsigiIiIiIiJFlCyKiIiIiIhIkf8HiEQ8r2fI3F0AAAAASUVORK5CYII\u003d\n",
            "text/plain": [
              "\u003cFigure size 1080x720 with 1 Axes\u003e"
            ]
          },
          "metadata": {
            "needs_background": "light"
          },
          "output_type": "display_data"
        }
      ],
      "source": [
        "plt.subplots(figsize\u003d(15,10))\n",
        "\n",
        "ax\u003dsns.kdeplot(train_df.loc[(train_df[\u0027Survived\u0027] \u003d\u003d 0),\u0027Fare\u0027],color\u003d\u0027r\u0027,shade\u003dTrue,label\u003d\u0027Not Survived\u0027)\n",
        "ax\u003dsns.kdeplot(train_df.loc[(train_df[\u0027Survived\u0027] \u003d\u003d 1),\u0027Fare\u0027],color\u003d\u0027b\u0027,shade\u003dTrue,label\u003d\u0027Survived\u0027 )\n",
        "plt.title(\u0027Fare Distribution Survived vs Non Survived\u0027,fontsize\u003d25)\n",
        "plt.ylabel(\u0027Frequency of Passenger Survived\u0027,fontsize\u003d20)\n",
        "plt.xlabel(\u0027Fare\u0027,fontsize\u003d20)"
      ]
    },
    {
      "cell_type": "code",
      "execution_count": 17,
      "metadata": {
        "pycharm": {}
      },
      "outputs": [
        {
          "data": {
            "text/plain": [
              "Pclass      0\n",
              "Sex         0\n",
              "Age         0\n",
              "SibSp       0\n",
              "Parch       0\n",
              "Fare        0\n",
              "Embarked    0\n",
              "dtype: int64"
            ]
          },
          "execution_count": 17,
          "metadata": {},
          "output_type": "execute_result"
        }
      ],
      "source": [
        "X \u003d train_df.drop([\u0027Survived\u0027,\u0027Name\u0027,\u0027Ticket\u0027], 1)\n",
        "y \u003d train_df[\u0027Survived\u0027]\n",
        "X_test \u003d test_df.copy()\n",
        "X_test \u003d X_test.drop([\u0027Name\u0027, \u0027Ticket\u0027],1)\n",
        "\n",
        "X_test.isnull().sum()"
      ]
    },
    {
      "cell_type": "code",
      "execution_count": 20,
      "metadata": {
        "pycharm": {}
      },
      "outputs": [
        {
          "data": {
            "text/plain": [
              "98.2"
            ]
          },
          "execution_count": 20,
          "metadata": {},
          "output_type": "execute_result"
        }
      ],
      "source": [
        "from sklearn.ensemble import RandomForestClassifier\n",
        "random_forest \u003d RandomForestClassifier(n_estimators\u003d100)\n",
        "random_forest.fit(X, y)\n",
        "Y_pred \u003d random_forest.predict(X_test)\n",
        "random_forest.score(X, y)\n",
        "acc_random_forest \u003d round(random_forest.score(X, y) * 100, 2)\n",
        "acc_random_forest"
      ]
    },
    {
      "cell_type": "code",
      "execution_count": 28,
      "metadata": {
        "pycharm": {}
      },
      "outputs": [
        {
          "data": {
            "text/plain": [
              "98.2"
            ]
          },
          "execution_count": 28,
          "metadata": {},
          "output_type": "execute_result"
        }
      ],
      "source": [
        "from sklearn.tree import DecisionTreeClassifier\n",
        "decision_tree \u003d DecisionTreeClassifier()\n",
        "decision_tree.fit(X, y)\n",
        "Y_pred \u003d decision_tree.predict(X_test)\n",
        "acc_decision_tree \u003d round(decision_tree.score(X, y) * 100, 2)\n",
        "acc_decision_tree"
      ]
    },
    {
      "cell_type": "code",
      "execution_count": 32,
      "metadata": {
        "pycharm": {}
      },
      "outputs": [
        {
          "data": {
            "text/plain": [
              "80.58"
            ]
          },
          "execution_count": 32,
          "metadata": {},
          "output_type": "execute_result"
        }
      ],
      "source": [
        "from sklearn.linear_model import LogisticRegression\n",
        "logreg \u003d LogisticRegression()\n",
        "logreg.fit(X, y)\n",
        "Y_pred \u003d logreg.predict(X_test)\n",
        "acc_log \u003d round(logreg.score(X, y) * 100, 2)\n",
        "acc_log"
      ]
    },
    {
      "cell_type": "code",
      "execution_count": 31,
      "metadata": {
        "pycharm": {}
      },
      "outputs": [
        {
          "data": {
            "text/plain": [
              "79.69"
            ]
          },
          "execution_count": 31,
          "metadata": {},
          "output_type": "execute_result"
        }
      ],
      "source": [
        "from sklearn.naive_bayes import GaussianNB\n",
        "gaussian \u003d GaussianNB()\n",
        "gaussian.fit(X, y)\n",
        "Y_pred \u003d gaussian.predict(X_test)\n",
        "acc_gaussian \u003d round(gaussian.score(X, y) * 100, 2)\n",
        "acc_gaussian"
      ]
    },
    {
      "cell_type": "code",
      "execution_count": 29,
      "metadata": {
        "pycharm": {}
      },
      "outputs": [
        {
          "data": {
            "text/plain": [
              "68.8"
            ]
          },
          "execution_count": 29,
          "metadata": {},
          "output_type": "execute_result"
        }
      ],
      "source": [
        "from sklearn.linear_model import Perceptron\n",
        "perceptron \u003d Perceptron()\n",
        "perceptron.fit(X, y)\n",
        "Y_pred \u003d perceptron.predict(X_test)\n",
        "acc_perceptron \u003d round(perceptron.score(X, y) * 100, 2)\n",
        "acc_perceptron"
      ]
    },
    {
      "cell_type": "code",
      "execution_count": 30,
      "metadata": {
        "pycharm": {}
      },
      "outputs": [
        {
          "data": {
            "text/plain": [
              "38.38"
            ]
          },
          "execution_count": 30,
          "metadata": {},
          "output_type": "execute_result"
        }
      ],
      "source": [
        "from sklearn.linear_model import SGDClassifier\n",
        "sgd \u003d SGDClassifier()\n",
        "sgd.fit(X, y)\n",
        "Y_pred \u003d sgd.predict(X_test)\n",
        "acc_sgd \u003d round(sgd.score(X, y) * 100, 2)\n",
        "acc_sgd"
      ]
    },
    {
      "cell_type": "code",
      "execution_count": 37,
      "metadata": {
        "pycharm": {}
      },
      "outputs": [
        {
          "data": {
            "text/plain": [
              "Text(0.5, 0, \u0027Model Type\u0027)"
            ]
          },
          "execution_count": 37,
          "metadata": {},
          "output_type": "execute_result"
        },
        {
          "data": {
            "image/png": "iVBORw0KGgoAAAANSUhEUgAAAtoAAAH+CAYAAACiO6mOAAAABHNCSVQICAgIfAhkiAAAAAlwSFlzAAALEgAACxIB0t1+/AAAADl0RVh0U29mdHdhcmUAbWF0cGxvdGxpYiB2ZXJzaW9uIDMuMC4zLCBodHRwOi8vbWF0cGxvdGxpYi5vcmcvnQurowAAIABJREFUeJzt3Xe8LVV9///Xm6Y0BcLV0BSjWDGxEINKDEa/JpZYIragguXnVxMUvkps8RvRxK8FW+zBBhYEwUIxURAloihKkWbFSlMuiigIIvD5/TFrczfHfdrlrLvvubyej8d+7D0za2bWnpmz93uvs2YmVYUkSZKkpbXetCsgSZIkrYsM2pIkSVIHBm1JkiSpA4O2JEmS1IFBW5IkSerAoC1JkiR1YNCWtCwlOTFJJTlgiZe7d1vuj5dyuZKkmx+DtnQzl+SAFixHjycvYJ7PzJhnx/41XXuNhf7VeRw87frfHCX543bsfzXJL5L8PsnKJOckOSrJ/knuN+16SlreNph2BSStdZ4BHDbbxCTbAn+z5qqzLPwS+PmE8RsBW7bXlwHXTChzea9KabIkjwI+Atx6bPQVwC2Ae7THo4Ergc3WeAUlrTMM2pJGLgU2Bh6aZIeqOn+Wck8H1gd+DOy4Zqq2dquqv580PsnuwBfb4N9X1Ylrqk6aLMlOwJEMofr7wKuBo6vq1236lsCuwGOAv5tWPSWtG+w6ImnkSoYAsh6w1xzlntGeD+5dIamDfRhC9hXAg6rqI6OQDVBVl1XVf1fVc4E7TauSktYNBm1J4z7YnvdOkpkTk+wG3Bn4IfCl+RaW5JZJ9ktycpLLklyd5CdJPpTkXvPMu36SfZKcnuTKJL9sfaH3WOibSXLvJB9I8oMkv01yRZIzk/x7kq0XupzeWn/gSnJRkln/05hkwyQ/b2X3Hxu/Txt3Tht+ZJLjk1za3vdZSV6cZKN56rFJkhcl+Urrt3xNq9Mnkvz1aryvp7d6XZlkzi4YSc5oZd86Y/yOSd6e5NttOVcnuTDJN5IcON9xNMGo/Ner6mdzFayqq+ao7/pJ9kxyTJKLk/yu7ZtvtOPrrrPMd9ck723H5NVJLm/zvCzJprPM86i2ba5ow3+R5PC2Ha5Ncuws63l3ku+27XZlknOTvLF1/5K0JlSVDx8+bsYP4ACgGLqCBDivDT9oQtn3t2n/F9i9vS5gxwlltwPOHitzDfCrseHrgOfPUqdbAJ+dUfYy4Po2/DrgxPb6gFmW8aqx8sXQYv+7seGLgHtPmG/v0fZYgm07vo12n6PcHwFXt3KPnaPcHq3M74Ctx8bv08afA7x4bJ2XAdeODZ8MbD7Lsndux8D4Nr98bLiANy7y/W/K0HJcwF5zlLvH2DruOzb+L4Bfj037PUN/+PH9+o5F1ul/2nzfuQn79Y+Br43V4fq2rX8/Nu4jsxxb42UuH9vvxfC3d8cJ8z2qTb8CeNrYPh3Nf+yM8vvO2O9Xtcdo+BfAX97U49uHDx/zP2zRlnSDqipWdQl55vi01tr2RIZQcTBzSLI+8AmG8HY58FRgs6raArgjcCzDf9TeluThExbxWoYTLgt4BbBlVW3JEHDeDbyEVS2Tk9a/H/CvDMHkZcA2VbUpsAmwC/AFYBvg6PlaWteEqvoFcEQb/P/mKDqa9smqunTC9NszbLsPA9u1bXZrYD+G4HV/4J0zZ0pyG+Bzbf7/Bh4AbFxVt2b4EfAyhqD2oiTPWsT7uhL4ZBt82hxFR9O+VVWnjY3/D2Bzhh8IuwAbVdVWwC2BuwIvBb670Po0X2/Pd2ktzxsvZuYktwA+w/Aj4LcM23brtq1vyXB87wN8b8Z8DwTex3Bu1BeAu7XtuxnweIZzJO4IHJXklrOs/pbAQcBRwJ3a/Bu3OozWsyfwVoZA/2/ADgzH/aYMf4/HAFsBn2r7XVJP0076Pnz4mO6DsRbtNrwDQ2vmFQzheFTuGa3ccW14d2Zp0QaeNDbtbyascwNWtQiePWPatqxq9Xv1LHU+dGz5B8yYtjVD6/X1wENmmX8D4NQ2/34zpu09vj1u4rYd30a7z1P2gaxqSb7dhOk7sqol98Ezpu0ztp7PAJkw/75jZe4+Y9q72/hjgPVmqd/TWpmfTlr+HO/roWPva/sJ09cDzm9lXjI2fv2x93vPJTzetwNWjm2LXzP88HslQ8vx1vPMP9qO1863T2fMd1Kb7yzgFrPs/9H7fe6MaY8aq+8X59hHm4y9tyfOUibA8a3Mvy/VdvXhw8fkhy3akm6khquNfJ6hBeyJY5NGJ0F+YAGLeVJ7/mpVfW7COq5l6NoBsHOSe45N3oMhCF8FvHGW5R8wx7r3ZAgcp1bVCZMKtPV/rA2uFZcqrKqvMHS1WQ+Y1Gr8bIaQ9L2q+uIci/q3qqoJ49/F0GoKq/YPrd/209vggVV1/SzLPYzhB9AOwN3nWP9MXwAuZHhfe06YvjuwPUPI/OhoZFVdB/ymDW6ziPXNqaouBHZj6EICQ4v5IxmOqWOAlRmurf0Pk85TYNV/eo6sBV5FpvWJ3q0Nvq6qfjehXl9h+G8CwFPmWNzr59hHj2P4ofmjqvr4pALt2PhIG1wrjn1pXWbQljTJB9vzMwGS3An4S4Y+1p9ewPy7tOfPz1HmiwytnOPlx1+fWmNXgxhXVd9jCG+TjALNzkl+NtuDoWsJDN0l1hbvac/PbN1vgBu64ox+6Lx3jvmvZFXXiBupqt8DX26D49v73gw/TACOmGN7nc+qS8IueJu1UDgK0JO6j4zGfbGqLpgx7TPt+eNJXp9ktzm6VSxYVX23qnYH/hT4F4YW7fF179rq/KkkG45Gtm5Gox+FxyxilePbe66/ieMnlJ/pK3NMGx37285z7I9OOF2bjn1pnWTQljTJpxhO7npgkjuzKuQdWlVXL2D+Ud/P2cIwbTmjFtbxvqLzztvMDGUjoysqbAzcdo7HrVq5TWYuYIo+zNBlZ3tgvO/6oxje1zXM3T/+4jlaO2HVNh3f3uNXoLgNc2+zUQvvYrfZh9rzPZLcezSy9Y9+/Iwy4/Zl6J99a4aTPE8CfpPklCSvSHLbRdbjRqrq7Kr6f1X1d1W1A8N234dV2+kxDEF8ZHwb/GQRqxpt799X1SVzlBsd05vMcgWSq6vqNxPGj4z25S2Yez9uMVrPAuou6SYwaEv6A+1f26OuFc9iVdeCD06eY/ZF3YRyC513plFL8HuqKgt47Lia61lyLUQd2gafMzZpvpMgb1jEaqx2/bHXmy1wmx25mBVU1bnAGW3w6WOTHsvQdWP8pMnx+VZW1QOBBwNvYujXfz1wP4YT/X6Q5LGLqcs89bywqt7JcNLor9roZ89WfKnWu4jlXzdh3LjRvjxygftx6icCS+s6g7ak2YxC9X4MLX3nVNWpC5x31Gq3w2wFWheAP2qDKyfMu/0869hulvGjayPfc5bpa7t3t+dHJNkuyfbA37Zx/znPvNsmmetzfbTNxltVx68l3XObjVqsnzLWLWbUbeRTVXXFbDNW1YlVtX9V3Z/hlvaPZ7jayKbAh5JsMdu8q6OdpzDqL73dWOvyz1kVgHdcxCJH23vDeVrhR8f8b6vqt4tY/shyP/aldY5BW9JELVSfDYxucrKQkyBHRoH8IXOU2Z1VfX6/MWHeXZJsPmnGDLfRni2Ij/qw7ppk2fVBrapvAqcwtE4+sz3WZzgJ8sR5Zt8U+PNJEzLcCOeBbXD8B9NpDNdiBnjy6tV6QQ5luFLHbYGHtcD5v9q0Sd1GJqqq31bVJ1lV180ZLrW31EbBvxi67NB+DJzVxi/m9uzj23uuv4mHtudvzFFmLqNj/y6rcSMfSR0YtCXN5SUM/7J/E6uuVLAQh7Xn+yd52MyJLfSNTkY8p6rOGZv8CYZAtjHwolmW/6+zjIehn/NVDOH0neMnFU6ox3pL3Rq6REYnRT6LVVcgmeskyHGvmGX8c4EV7fUNV6So4e6Ho337v5PMdSIeSbZaYD1upPVNHl2B5ukMV9bYgOHGQX9wdZgMd8GcdNWPkfG7Ns7XpWJ8uX813wmVSbZkVZA+p51IOvL+9rxHkt0Xss6quoihfznAS9u1uGeuc1dW9cv/2MzpC3Qkww19AN4xaT0z1rnlaq5H0gIZtCXNqqr+u/3Lfv+qWjn/HDf4BEOrLAxXjPiH0dUbktyhTb9/m/7iGeu8kOFSdAD/t92aevM274ok72C4Ac7ls9T5Zww3MoHhsm3HJ3ngKHBncNckL2S4k+KjFvG+1pTDGU5GvT1wO+Y/CXLkCoYuJx9Msg3ccFv15wNvbmU+2vpMj3sFw4l4twROyHBL91G3HpJs2W4DfiirwvLq+HB7fgyr+p1/dJYTOO8CfCfJS5P86Yz9dx9WdW36FfDVRdThZcBPkrwlyYPHb1iU5Nbthi8nM9wcCYYfmeMOYvgvwPrAsUn2Hf34yHBb9j/JcLv7V09Y73UM3To+k3aL9jbP44CjGb6TzwUOWcT7uUHr4/+CNvhA4EtJHtJ+2I7e452S/FOSM4C9Vmc9khZhTV2w24cPH2vngxk3rFnEfLszyw1r2vTtGILsqMzvGMLjaPg64AWzLPuWrLqpxujmIOO33l7ILdj/mRvfhvp3DFc5uWZsXAF7zphv79XZHgvYRrsvct63jM37sXnKTroF+/Vtm43f8vsU4FazLOMuwLfGyo5uKz5+C/QCzrgJ2+OWDMF4fHk7z1J25xnlfj9h//0WeOQi63DMjOUWw4+2K2aMuxZ45SzL2IbhMorj22rmtl7ILdh/xY1vwf4D5rkF+wLf47NnLPeatu3GxxWw7009xn348DH3wxZtSV3U0DK9C/BChqtFXMVwObHzGVo271tVb5tl3qsZ/o2+L/BNhqAQhn+/P7GqXjppvhnLOJDhNt1vYehXezXDZc2uYOgD+waGW40fOtsypuyIsdfznQR5g6p6A0Mw+wKrAuO5DC2qD6rZr03+XYbb2j+L4UTASxj6fG/AEACPZGgB/evFvpGxdVzNjd/XGXXjbkPjvs9wA5a3MYTanzNckvEahh8UbwXuUVWfmWX+2fw98DCG/f9Fhkv53YLhXIRfMvwYOZDhbpSvmrSAqrqY4dh5BsMPwksZbqV+KcOx9e/AzBZtqupghmt3vx/4McMPj2sYWshfDvxZVf1gke9nUv3eB+wEvB44neEHyRYMf4OnM9za/sHAO27quiTNLVW9r1AkSVqsJK9k+G/D96rqLvOU3Qd4O3BuVe28BqonSVoAW7QlaS2T4bboo+tov2euspKktZdBW5LWIu3Etdcx3OXvMlZd5UKStMxsMH8RSVJvSZ7O0K93a4a+0QAvm61PtSRp7WeLtiStHW7FcDm/DRlOXnx2VS34JEhJ0trHkyElSZKkDtaZriNbb7117bjjjtOuhiRJktZxp5122qVVtWK+cutM0N5xxx059dRTp10NSZIkreOS/GQh5eyjLUmSJHVg0JYkSZI6MGhLkiRJHRi0JUmSpA4M2pIkSVIHBm1JkiSpA4O2JEmS1MEaCdpJPpDkkiTnjI3bKsnxSb7fnrds45PkbUnOS3JWkvusiTpKkiRJS2lNtWgfDPztjHEvBU6oqp2AE9owwMOBndrjOcC711AdJUmSpCWzRoJ2VX0J+OWM0Y8BDmmvDwEeOzb+QzX4GrBFkm3WRD0lSZKkpTLNPtq3raqLAdrzbdr47YDzx8pd0MZJkiRJy8baeDJkJoyriQWT5yQ5NcmpK1eu7FwtSZIkaeGmGbR/PuoS0p4vaeMvAHYYK7c9cNGkBVTVQVW1S1XtsmLFiq6VlSRJkhZjmkH7aGCv9nov4Kix8U9vVx/ZFbh81MVEkiRJWi42WBMrSfIxYHdg6yQXAK8EXgd8PMmzgJ8CT2jF/wt4BHAe8FvgGWuijpIkSdJSWiNBu6qeMsukh0woW8A/9a2RJEmS1NfaeDKkJEmStOwZtCVJkqQODNqSJElSB2ukj7a0nNx++2356YVe6Ga5uN122/CTCyZeAVSSpmKH7W/HBReeP39BTd322+3A+Rf8tNvyDdrSDD+98GJ+8qqdp10NLdDtX3nOtKsgSTdywYXn8/YXHj3tamgBnv/mR3ddvl1HJEmSpA4M2pIkSVIHBm1JkiSpA4O2JEmS1IFBW5IkSerAoC1JkiR1YNCWJEmSOjBoS5IkSR0YtCVJkqQODNqSJElSBwZtSZIkqQODtiRJktSBQVuSJEnqwKAtSZIkdWDQliRJkjowaEuSJEkdGLQlSZKkDgzakiRJUgcGbUmSJKkDg7YkSZLUgUFbkiRJ6sCgLUmSJHVg0JYkSZI6MGhLkiRJHRi0JUmSpA4M2pIkSVIHBm1JkiSpA4O2JEmS1IFBW5IkSerAoC1JkiR1YNCWJEmSOjBoS5IkSR0YtCVJkqQODNqSJElSBwZtSZIkqQODtiRJktSBQVuSJEnqwKAtSZIkdWDQliRJkjowaEuSJEkdGLQlSZKkDgzakiRJUgcGbUmSJKkDg7YkSZLUgUFbkiRJ6sCgLUmSJHVg0JYkSZI6MGhLkiRJHRi0JUmSpA4M2pIkSVIHBm1JkiSpA4O2JEmS1IFBW5IkSerAoC1JkiR1YNCWJEmSOjBoS5IkSR0YtCVJkqQODNqSJElSBwZtSZIkqQODtiRJktSBQVuSJEnqwKAtSZIkdWDQliRJkjowaEuSJEkdGLQlSZKkDgzakiRJUgcGbUmSJKkDg7YkSZLUgUFbkiRJ6sCgLUmSJHVg0JYkSZI6mHrQTvJ/kpyb5JwkH0tyyyR3SHJKku8nOTzJRtOupyRJkrQYUw3aSbYDXgDsUlU7A+sDTwZeD7ylqnYCLgOe1WP9226/A0l8LJPHttvv0OMwkCRJ6mKDaVeAoQ4bJ/k9sAlwMfDXwD+06YcABwDvXuoVX3zhBdxn/0OWerHq5PQ37jXtKkiSJC3YVFu0q+pC4I3ATxkC9uXAacCvquraVuwCYLtJ8yd5TpJTk5y6cuXKNVFlSZIkaUGm3XVkS+AxwB2AbYFNgYdPKFqT5q+qg6pql6raZcWKFf0qKkmSJC3StLuOPBT4UVWtBEjySeABwBZJNmit2tsDF02xjpLEtjtsy8UXXDztamgBttl+Gy46368NSdM37aD9U2DXJJsAVwEPAU4FvgjsARwG7AUcNbUaShJw8QUX84C3PWDa1dACnPyCk6ddBUkCpt9H+xTgSOB04OxWn4OAlwAvTHIe8EfA+6dWSUmSJGk1TLtFm6p6JfDKGaN/CNxvCtWRJEmSlsTUb1gjSZIkrYsM2pIkSVIHBm1JkiSpA4O2JEmS1IFBW5IkSerAoC1JkiR1YNCWJEmSOjBoS5IkSR0YtCVJkqQODNqSJElSBwZtSZIkqQODtiRJktSBQVuSJEnqwKAtSZIkdWDQliRJkjowaEuSJEkdGLQlSZKkDgzakiRJUgcGbUmSJKkDg7YkSZLUgUFbkiRJ6sCgLUmSJHVg0JYkSZI6MGhLkiRJHRi0JUmSpA4M2pIkSVIHBm1JkiSpA4O2JEmS1IFBW5IkSerAoC1JkiR1YNCWJEmSOjBoS5IkSR0YtCVJkqQODNqSJElSBwZtSZIkqQODtiRJktSBQVuSJEnqwKAtSZIkdWDQliRJkjowaEuSJEkdGLQlSZKkDgzakiRJUgcbTLsCkiQtV7fbdlvOv/jiaVdDC7DDNtvw04sumnY1dDNj0JYkaTWdf/HFnPiXD5p2NbQAu5/0pWlXQTdDdh2RJEmSOjBoS5IkSR0YtCVJkqQODNqSJElSBwZtSZIkqQODtiRJktSBQVuSJEnqwKAtSZIkdWDQliRJkjowaEuSJEkdGLQlSZKkDgzakiRJUgcGbUmSJKkDg7YkSZLUgUFbkiRJ6sCgLUmSJHVg0JYkSZI6MGhLkiRJHRi0JUmSpA4M2pIkSVIHBm1JkiSpA4O2JEmS1IFBW5IkSerAoC1JkiR1YNCWJEmSOjBoS5IkSR0YtCVJkqQODNqSJElSBwZtSZIkqQODtiRJktSBQVuSJEnqYOpBO8kWSY5M8p0k305y/yRbJTk+yffb85bTrqckSZK0GFMP2sB/AJ+tqrsCfwZ8G3gpcEJV7QSc0IYlSZKkZWOqQTvJrYAHAe8HqKprqupXwGOAQ1qxQ4DHTqeGkiRJ0uqZdov2nwArgQ8mOSPJ+5JsCty2qi4GaM+3mWYlJUmSpMWadtDeALgP8O6qujdwJYvoJpLkOUlOTXLqypUre9VRkiRJWrRpB+0LgAuq6pQ2fCRD8P55km0A2vMlk2auqoOqapeq2mXFihVrpMKSJEnSQkw1aFfVz4Dzk9yljXoI8C3gaGCvNm4v4KgpVE+SJElabRtMuwLA84GPJtkI+CHwDIYfAB9P8izgp8ATplg/SZIkadGmHrSr6pvALhMmPWRN10WSJElaKtPuoy1JkiStkwzakiRJUgcGbUmSJKmDBQftJJsl2T7JZj0rJEmSJK0L5gzaSXZO8vYkPwQuZ7gCyOVJfpDkHUnuuUZqKUmSJC0zswbtJB8DDgUuBp4KbA1s1J6fBlzIcFm+w9ZAPSVJkqRlZa7L+x1aVcdMGH8ZcHJ7vDbJo7rUTJIkSVrGZm3RniVkTyp37NJVR5IkSVo3LOqqI0m2TfKxJOckOTrJPXpVTJIkSVrOFnt5v3cCxwJ/D/wXcPiS10iSJElaB8x31ZFPJtlhbNSWwKer6nvAJ4Hb9qycJEmStFzN16L9JuDjSV6aZAPgXcC3k3wZOBd4Xe8KSpIkScvRnEG7qr4C7AZcy3CVkZXAnwEvBO5ZVW/qXkNJkiRpGZrr8n4AVNV1wBvb9bL/A7gaeFFV/ax35SRJkqTlar4+2ndPckyScxi6kezHcBObzybZN8liT6aUJEmSbhbmC8qHAZ8FHg+cBLynqj4D7AqsAL7at3qSJEnS8jRf15FtgIOr6sokPwOeAVBVVwOvSPKh3hWUJEmSlqP5gvYbgG8kOQO4J/Ca8YntMn+SJEmSZpgzaFfVgUk+DNwOOK+qfrlmqiVJkiQtb7MG7SQbVdU17eois15hJMktqup3XWonSZIkLVNznQx5VpIXJ9l20sQk2yR5MXBGn6pJkiRJy9dcXUd2A14KnJnkMuC7wG+AzYE7A1sABwMP6lxHSZIkadmZNWhX1aXA/kleDvwFw8mQWwCXMdx6/etV9fs1UktJkiRpmVnInSGvYbiG9kn9qyNJkiStG7yzoyRJktSBQVuSJEnqwKAtSZIkdWDQliRJkjpYUNBOcoskr0nywySXt3EPS7JP3+pJkiRJy9NCW7TfAuwM7AlUG3cu8LwelZIkSZKWu3kv79c8DrhTVV2Z5HqAqrowyXb9qiZJkiQtXwtt0b6GGaE8yQrgF0teI0mSJGkdsNCgfQRwSJI7ACTZBngHcFivikmSJEnL2UKD9suBHwNnM9yG/fvARcCr+lRLkiRJWt7m7aOdZD1gN+AlVbVf6zJyaVXVPLNKkiRJN1vztmhX1fXAUVX1uza80pAtSZIkzW2hXUe+lGTXrjWRJEmS1iELvbzfT4D/TnIUcD6rrqVNVf1rj4pJkiRJy9lCg/bGwKfb6+3HxtuFRJIkSZpgQUG7qp7RuyKSJEnSumShLdok2Ql4CrAdcCHwsar6fq+KSZIkScvZgk6GTPJ3wGnAXYFfAncBTk3y6I51kyRJkpathbZo/z/gMVX1xdGIJLsz3B3y6A71kiRJkpa1hV7eb3vgpBnjvsyNT4yUJEmS1Cw0aH8TeNGMcS9s4yVJkiTNsNCuI88DjkmyL8N1tHcArgTsoy1JkiRNsNDL+30nyd2AXYFtgYuAU6rq9z0rJ0mSJC1XCwraSe4F/KKqvjw2bockW1XVmd1qJ0mSJC1TC+2j/RFgwxnjNgI+vLTVkSRJktYNCw3at6uqH46PqKofADsueY0kSZKkdcBCg/YFSe4zPqINX7T0VZIkSZKWv4VedeQtwFFJ3gD8ALgjsD/wml4VkyRJkpazhV515L1JfgU8i+HSfucDL6qqI3tWTpIkSVquFtqiTVUdARzRsS6SJEnSOmPOPtpJ7ptk57HhFUk+muTMJO9Jsln/KkqSJEnLz3wnQ74V+OOx4fcBdwYOAnYG3tCpXpIkSdKyNl/XkbsBJwEk2QJ4OLBzVX0vydHAycA/9q2iJEmStPzM16K9AXBNe70r8LOq+h5AVZ0PbNGxbpIkSdKyNV/QPhd4Qnv9ZODzowlJtgMu71QvSZIkaVmbr+vIS4BjkrwHuA7YbWzak4Cv9KqYJEmStJzNGbSr6stJbsdwAuT3quo3Y5M/AxzWs3KSJEnScjXvdbRbuD5twvjvdqmRJEmStA6Yr4+2JEmSpNVg0JYkSZI6MGhLkiRJHRi0JUmSpA4M2pIkSVIHBm1JkiSpA4O2JEmS1IFBW5IkSerAoC1JkiR1YNCWJEmSOjBoS5IkSR0YtCVJkqQODNqSJElSB2tF0E6yfpIzkhzbhu+Q5JQk309yeJKNpl1HSZIkaTHWiqAN7At8e2z49cBbqmon4DLgWVOplSRJkrSaph60k2wPPBJ4XxsO8NfAka3IIcBjp1M7SZIkafVMPWgDbwVeDFzfhv8I+FVVXduGLwC2m0bFJEmSpNU11aCd5FHAJVV12vjoCUVrlvmfk+TUJKeuXLmySx0lSZKk1THtFu0HAo9O8mPgMIYuI28FtkiyQSuzPXDRpJmr6qCq2qWqdlmxYsWaqK8kSZK0IFMN2lX1sqravqp2BJ4MfKGq9gS+COzRiu0FHDWlKkqSJEmrZdot2rN5CfDCJOcx9Nl+/5TrI0mSJC3KBvMXWTOq6kTgxPb6h8D9plkfSZIk6aZYW1u0JUmSpGXNoC1JkiR1YNCWJEmSOjBoS5IkSR0YtCVJkqQODNqSJElSBwZtSZIkqQODtiRJktSBQVuSJEnqwKAtSZIkdWDQliRJkjowaEuSJEkdGLQlSZKkDgzakiRJUgcGbUmSJKkDg7YkSZLUgUFbkiRJ6sCgLUmSJHVg0JYkSZI6MGhLkiRJHRi0JUmSpA4M2pIkSVIHBm1JkiSpA4O2JEmS1IFBW5IkSerAoC1JkiR1YNCWJEmSOjBoS5IkSR0YtCVJkqQODNqSJEmSe88xAAAXO0lEQVRSBwZtSZIkqQODtiRJktSBQVuSJEnqwKAtSZIkdWDQliRJkjowaEuSJEkdGLQlSZKkDgzakiRJUgcGbUmSJKkDg7YkSZLUgUFbkiRJ6sCgLUmSJHVg0JYkSZI6MGhLkiRJHRi0JUmSpA4M2pIkSVIHBm1JkiSpA4O2JEmS1IFBW5IkSerAoC1JkiR1YNCWJEmSOjBoS5IkSR0YtCVJkqQODNqSJElSBwZtSZIkqQODtiRJktSBQVuSJEnqwKAtSZIkdWDQliRJkjowaEuSJEkdGLQlSZKkDgzakiRJUgcGbUmSJKkDg7YkSZLUgUFbkiRJ6sCgLUmSJHVg0JYkSZI6MGhLkiRJHRi0JUmSpA4M2pIkSVIHBm1JkiSpA4O2JEmS1IFBW5IkSerAoC1JkiR1YNCWJEmSOjBoS5IkSR1MNWgn2SHJF5N8O8m5SfZt47dKcnyS77fnLadZT0mSJGmxpt2ifS3woqq6G7Ar8E9J7g68FDihqnYCTmjDkiRJ0rIx1aBdVRdX1ent9W+AbwPbAY8BDmnFDgEeO50aSpIkSatn2i3aN0iyI3Bv4BTgtlV1MQxhHLjNLPM8J8mpSU5duXLlmqqqJEmSNK+1Imgn2Qz4BLBfVf16ofNV1UFVtUtV7bJixYp+FZQkSZIWaepBO8mGDCH7o1X1yTb650m2adO3AS6ZVv0kSZKk1THtq44EeD/w7ap689iko4G92uu9gKPWdN0kSZKkm2KDKa//gcDTgLOTfLONeznwOuDjSZ4F/BR4wpTqJ0mSJK2WqQbtqvoykFkmP2RN1kWSJElaSlPvoy1JkiStiwzakiRJUgcGbUmSJKkDg7YkSZLUgUFbkiRJ6sCgLUmSJHVg0JYkSZI6MGhLkiRJHRi0JUmSpA4M2pIkSVIHBm1JkiSpA4O2JEmS1IFBW5IkSerAoC1JkiR1YNCWJEmSOjBoS5IkSR0YtCVJkqQODNqSJElSBwZtSZIkqQODtiRJktSBQVuSJEnqwKAtSZIkdWDQliRJkjowaEuSJEkdGLQlSZKkDgzakiRJUgcGbUmSJKkDg7YkSZLUgUFbkiRJ6sCgLUmSJHVg0JYkSZI6MGhLkiRJHRi0JUmSpA4M2pIkSVIHBm1JkiSpA4O2JEmS1IFBW5IkSerAoC1JkiR1YNCWJEmSOjBoS5IkSR0YtCVJkqQODNqSJElSBwZtSZIkqQODtiRJktSBQVuSJEnqwKAtSZIkdWDQliRJkjowaEuSJEkdGLQlSZKkDgzakiRJUgcGbUmSJKkDg7YkSZLUgUFbkiRJ6sCgLUmSJHVg0JYkSZI6MGhLkiRJHRi0JUmSpA4M2pIkSVIHBm1JkiSpA4O2JEmS1IFBW5IkSerAoC1JkiR1YNCWJEmSOjBoS5IkSR0YtCVJkqQODNqSJElSBwZtSZIkqQODtiRJktSBQVuSJEnqwKAtSZIkdWDQliRJkjowaEuSJEkdGLQlSZKkDgzakiRJUgcGbUmSJKmDtTZoJ/nbJN9Ncl6Sl067PpIkSdJirJVBO8n6wDuBhwN3B56S5O7TrZUkSZK0cGtl0AbuB5xXVT+sqmuAw4DHTLlOkiRJ0oKtrUF7O+D8seEL2jhJkiRpWUhVTbsOfyDJE4C/qapnt+GnAferqufPKPcc4Dlt8C7Ad9doRddeWwOXTrsSWut4XGgSjwtN4nGhSTwuVrl9Va2Yr9AGa6Imq+ECYIex4e2Bi2YWqqqDgIPWVKWWiySnVtUu066H1i4eF5rE40KTeFxoEo+LxVtbu458A9gpyR2SbAQ8GTh6ynWSJEmSFmytbNGuqmuT7AN8Dlgf+EBVnTvlakmSJEkLtlYGbYCq+i/gv6Zdj2XK7jSaxONCk3hcaBKPC03icbFIa+XJkJIkSdJyt7b20ZYkSZKWNYP2LJJcsQTL2DbJkXNM3yLJPy60/IT5D07yoyTfTHJmkofc1DovpSTPTfL0addjGpJc1/bLOUmOSbLFEi13xyTnLMWyZiz3gCQXtjp/M8nrlnodY+u6V5JH9Fr+cpWkkrxpbHj/JAfMM8+jk7x0Cda9d5KVbd+fm+TIJJvc1OVq6c34bDliWvspycunsd6bs7F9f277zn9hktXKcUleneShc0y/yd/fSe459p3yy7G88vmbstzlxq4js0hyRVVt1nkdOwLHVtXOqzn/wW3+I5M8GDioqnZagnptUFXX3tTl3JyNHz9JDgG+V1WvWYLl7shNOGbmWO4BwBVV9cbVmHf9qrpuEeX3Bnapqn0Wu651WZKrgYuBP6+qS5PsD2xWVQesgXXvzdg+SXIocHxVfbD3urU4Mz5bPgqcVlVvXuC8i/pbXWg9ZowPQ7a4finWo1Vm7PvbAIcCX6mqV063ZvMbzysTpq3TmcMW7UVIcvskJyQ5qz3fro2/Y5KvJflG+5V4RRt/Q+tjknsk+Xr7NXdWkp2A1wF3bOMOnFF+/SRvTHJ2K//82erVfJWxu2cmuW+S/0lyWpLPJdmmjf/ztryvtnWO1rd3ax05Bjiujfvn9p7OSvKqNm7TJJ9pv6bPSfKkNv51Sb7Vyr6xjTughYVRK+bX2vRPJdmyjT8xyevbtvlekr9cgl21trlh3yTZrB07p7d9+5g2fsck307y3tZacVySjdu0+7bt/VXgn0YLTXLLJB9syzmj/dga7ctPZ2hJ/1GSfVrLxxltH2y10IoneUib7+wkH0hyizb+x0n+NcmXgSe0v4HPtuPtpCR3beWe0I6TM5N8KcPlOl8NPKkd909aki28briW4USj/zNzQpK/S3JK2xefT3LbNn7vJO9Icuu2T9Zr4zdJcn6SDWfbN7NJsgGwKXDZbOtOsl6S7ydZ0cqsl+S8JFsnWZHkE+2z4xtJHtjK/FVWtW6dkWTzpdx4N1MnAXcCSPLUrPqO+c8k67fxV2T4XjoFuH+G74CT29/k15NsnuH75sCxz/v/3ebdvf3dfqp9vr+n7evXARu3dX107PPrXcDpwA5JntI+N85J8vpRhVt9XtPW/7XRsazFqapLGG7Yt08GE/chQJIXt31xZtt3o/+I79Fer/Hv7yQPbZ8nhwFntHF7jR3D7xr7PHt4hsxyepLDk2y6JBtxTakqHxMeDK17M8cdA+zVXj8T+HR7fSzwlPb6uaN5gR2Bc9rrtwN7ttcbARuPT59Q/nnAJ4AN2vBWE+pzMLBHe/1Y4ND2ekPgZGBFG34SwyUSAc4BHtBev25sfXsz3Choqzb8MIYv/TD8IDsWeBDweOC9Y3W4NbAVw105R/8h2aI9HwDs316fBfxVe/1q4K3t9YnAm9rrRwCfn/a+X8rjh+HylEcAf9uGNwBu1V5vDZzXtvGODEHrXm3ax4GnTth2B47tsxcBH2yv7wr8FLhl25fnAZsDK4DLgee2cm8B9ptQ3wOAC4FvtsfftGWdD9y5lfnQaF7gx8CLx+Y/Adipvf4L4Avt9dnAdjOOi72Bd0x7H61tD+AK4FZt294a2B84oE3bcuzv69ljfzM3bEvgKODB7fWTgPfNtW9mrHtvYGXb9z9nCHDrz7PuV44dDw8DPtFeHwrs1l7fDvh2e30M8MD2ejPaZ5uPxR8n7XmDts+fB9ytbd8N27R3AU9vrwt4Ynu9EfBDhv+a0I63DRgC2yvauFsApwJ3AHYHrgb+hOGz7HhWfedcMVanHYHrgV3b8LYMn0cr2vK/ADx2rD5/116/YbReHwvf9zPGXQbcdo59+HCGPLBJmzb6jj8Y2IM19P3NWF5pww9l+My7XRveGfg0qzLPQcA/ALcB/mes/v8CvHza+2Ixj7X28n5rqfsDf99ef5jhQ2I0/rHt9aHApH+/fxX4lyTbA5+squ8nmWtdDwXeU+3fKVX1y1nKHZjkDQwH465t3F0YDtrj2zrWBy7O0E9486o6eayujxpb1vFj63lYe5zRhjcDdmL4An5ja6E4tqpOai1gVwPvS/IZhlB+gyS3Zvjj/Z826hCG8DnyyfZ8GsMH9rpg4yTfZHg/pzF8QcEQqv9fkgcxfDFtx/AhCfCjqvpme30asOOEbfdhhg9OgN0YfsBRVd9J8hPgzm3aF6vqN8BvklzO8CUMQ/D901nq/JYa6zqS5M9anb7XRh3C0KL+1jZ8eCu3GfAA4IixY/oW7fkrwMFJPs6q/axZVNWvk3wIeAFw1dik7YHDM/xnaiPgRxNmP5whYH+R4SZf75pn3/zB/FW1T4aC7wT+meHH+Gzr/gBD0HsrQ8PDqJvJQ4G7j63vVq31+ivAmzN0d/hkVV2wgE2iPzT6bIHh8/j9DCHrvsA32nbfGLiklbmOodEGhu+Gi6vqGzAcbwBJHgb86aiFk+GH3k7ANcDXq+qHrdzHGD53Jp1L9JOq+lp7/efAiVW1ss33UYaGmk+3ZY6+I04D/tfqbQY1oz+02fbhQxkaZH4LE7PEr5ne9/dXq+qn7fVDGY6bU8eO4fOB3wJ3B05u4zcCvrzI9UyVQfumWXAH96o6tP3r7pHA55I8m6FlYTZZ4PL/meFAfwHDH8B927znVtX9b7TA9u+eOVw5Y/2vrar//IOKJfdl+PX62iTHVdWrk9wPeAjDF/w+wF8voO4jv2vP17HuHJNXVdW92ofUsQwB9W3AngytPPetqt8n+TFDyzGs2g4wbIuNmfs4mOuX2viyrh8bvp6Fb+M5fwmy6nhZD/hVVd1rZoGqem6Sv2A47r+Z5A/K6A+8leHf7+P9o98OvLmqjk6yO0Nr00xHM/xNbsXwOfAFhi4gE/fNbKqqMnQhez5D0J647qo6P8nPk/w1Q0v5nm0R6wH3r6qrZiz6de2L/BHA15I8tKq+s9B66QZXzdyf7cfRIVX1sgnlr65V/bJn+zwJ8Pyq+tyM5e4+ofxsn0czvz9m8/tqTZOsW5/5a1ySP2HYhpcw+z78W+bIEjXcIHBa398zj5kPVNX/HS+Q5HHAZ6vqaYtc9lrDPtqLczLDgQjDl8roV9XXGLpUMDb9RtofxA+r6m0MX4h/CvyG4d/7kxwHPLe1FpM5+tXWcNLJfwDrJfkbhn8DrUhy/zbvhknuUVWXMbRwjlq+J9a1+RzwzNYiRpLtktwmybbAb6vqIwwt9/dpZW5dw02G9gNu9CVQVZcDl43133oaw7+C1nntvb8A2D/JhgytDJe0kP1g4PbzzP8r4PIku7VRe45N/tJoOMmdGf5N/90lrP53GFrV79SGJ+631ir2oyRPaHVJaw0nyR2r6pSq+lfgUmAH5j7ub/Zai9PHgWeNjb41Q9cegL1mme8K4OsMnwXHVtV1c+2beewG/GAB634f8BHg42Nh7jiGL2vaOu/Vnu9YVWdX1esZ/q09Z19xLcoJwB4ZTpAjyVZJJn22fAfYNsmft3Kbt++YzwHPa59RJLnzWD/Y+yW5Q+sv+yRWfe/9flR+glOAv8rQZ3994CncTD7z15QM50e8h6HrWDH7PjyO4bt8kzZ+qxnLWVu+vz8PPDHJ1q1ef5ThPLiTGY6lP2njN81wjtuyYdCe3SZJLhh7vJAhMD0jyVkMB9u+rex+wAuTfB3YhqFP7ExPAs5p//K7K/ChqvoF8JUMJ4scOKP8+xj6uJ2V5EyGvkqzan9o/87Qb/Yahr5Xr2/zfpPh38cwfHkflOHEusxSV6rqOIauJV9NcjbDvwo3B+4JfL29j39p69wcOLZtl/9hwslcDF/QB7Yy92Lo53WzUFVnAGcy/LD5KLBLklMZQvJCWvSeAbyz7bPxVsJ3Aeu3/XM4sHdV/W7SAlaz3le3dR/R1nE9wwf7JHsCz2rH27nAY9r4A9NOiGL4YXAmQ9eGu8eTIefyJoY+/CMHMOyHkxh+sMzmcOCp7Xlktn0z0+gE1bOAewP/toB1H83QrWy89f0FDMf4WUm+xXDeCsB+7bPuTIbj+L/neB9ahKr6FvAK4Li2/45n+C6aWe4ahu+it7f9cDzDf9TeB3wLOL39rf4nq1onv0o7n4eh29Cn2viDGL6fPjphPRcDL2P4Wz8TOL2qjlqad3uzNjoB9VyGYHoc8Ko2beI+rKrPMvydntq+t/efscy14vu7qs5u7+XzbT3HAbetqp8z5JbD2zF7Mqu6SC4LXt5vCbRfile1f7k+meHEyNm+zKYqyWat5YsM19/dpqr2nWc2SfoDSXZh6Nu/Ll4t6GavdR3Zv6oeNV9ZSZPZN2pp3Bd4R+sn9yuGE4PWVo9M8jKGff8ThqsNSNKitB/qz+PG3ZkkSWNs0ZYkSZI6sI+2JEmS1IFBW5IkSerAoC1JkiR1YNCWpCWW5IAkleT7s0w/r00/YInWd+lil9XqOOulApP8uNVxrsfeN7XukrQu86ojktTH1cAdkuxSVaeORrabhdy+TV+bPY4b3679swzX03/f2LgfIEmalUFbkvq4kuFW6k9muBPiyJMZbo9+32lUaqHajZZukORa4IKq+tqUqiRJy45dRySpn8MYbiscGG6BDjyxjf8DSZ7Y7qT5uyTnJ3lNu0X2eJkHJTkzydVJTkvygFmW9Zgkp7ZyP0vyhjlumb1akmyUZGWSl0yYdkqSQ9vr57auJvdOcnKr03eSPHLCfHskOb2Vuahtg/WXst6StKYYtCWpn08CtwV2a8N/Caxg1W2sb5DkYQy3Tj+d4Tbpb2e4XfI7xspsy3Dr8l8CezDcZvmjwCYzlvXEtu6vA49muLXxc4DXLtk744Zben+EGTe+SnI34H7c+NbsAEe0x+OA7wGfamVH8z2dYRuc1Or9WoZbur8KSVqG7DoiSZ1U1a+SfJahu8hJ7fmzbfzM4q8GTqyqvdrwZ1uZ1yb596q6ANiPoW/3I6vqtwBJrmQIu7ThAAcCH6qqfxwb/zvgnUleW1W/WMK3+X5gvyT3r6qvtnHPAM4HTphR9l1V9ZZWn+OA84CXAHu3VuvXAwdV1b6t/HFJrgPekOQNVfXrJay3JHVni7Yk9XUYsEeSWzC0Qv9Bt5EWMu/D0No77nCGz+n7t+H7AcePQnbzyRnz3Bm4HfDxJBuMHgz9wm8J7HwT38+NVNU5DC3ne8MN7+WpwCFVdf2M4p8am+864GiG90Sr1x8DR0yo96bA3ZCkZcagLUl9HQ1sBryGITAeM6HM1sCGwM9njB8Nb9We/xi4ZLxAVV0FXDFjWQD/Bfx+7PGjNn6HRb+D+b0feFKSjYG/bfU8eEK5SyYMb9Nej+p9Ajeu97fb+B71lqSu7DoiSR1V1ZVJjgX+D3BEVV05odilDKHyNjPG37Y9/7I9/2xmmRZuNxsbNSr7HOBGVw5pfjRh3E31MeDNDH2vHwd8qaomXfrvNjPWfxvg4vZ6VO+9gG9NmNdLCUpadgzaktTfuxmuSf2eSROr6rokpwFPaGVHnghcD4z6Pn8DeGaSTca6j/z9jMV9F7gQ2LGq3rtE9Z9TVf0myRHAvsC9GEL+JI9jCOSjLiaPBv6nTTsbWAncvqo+1LfGkrRmGLQlqbOqOhE4cZ5irwQ+l+SDDP247wn8G/DediIkwFuBfwKOTfJmYFvgZcBVY+u6PsmLgA8nuRXDVUquAf4EeCywx4w+3kvl/QwnfP6G4cY2k/xjkusZfgw8D9geeEOr97VJ/hl4b5KtgOOAa4E7MgT0R7R+3ZK0bBi0JWktUFXHJXky8ApgT4b+y29iCOCjMhcmeQTwNuATDP2XnwocNWNZhyf5NfBy4JnAdcAPgWMZQneP+n85yS+AT8/SPQbgScA7GVq9fwI8vqq+NbaMQ5L8kuHHw/9mCNrnMfRrn3lipSSt9VJV066DJGmZS3If4DRgt6r6yoxpz2XoErNhVV07jfpJ0jTYoi1JWm1JVjBcUvC1wGkzQ7Yk3Zx5eT9J0k3xeIa+2VsydFORJDV2HZEkSZI6sEVbkiRJ6sCgLUmSJHVg0JYkSZI6MGhLkiRJHRi0JUmSpA4M2pIkSVIH/z/U/O0v9vdoUwAAAABJRU5ErkJggg\u003d\u003d\n",
            "text/plain": [
              "\u003cFigure size 864x576 with 1 Axes\u003e"
            ]
          },
          "metadata": {
            "needs_background": "light"
          },
          "output_type": "display_data"
        }
      ],
      "source": [
        "models \u003d pd.DataFrame({\n",
        "    \u0027Model\u0027: [\u0027Logistic Regression\u0027, \u0027Random Forest\u0027, \u0027Naive Bayes\u0027, \u0027Perceptron\u0027, \u0027Decision Tree\u0027],\n",
        "    \u0027Score\u0027: [acc_log, acc_random_forest, acc_gaussian, acc_perceptron, acc_decision_tree]})\n",
        "\n",
        "models.sort_values(by\u003d\u0027Score\u0027, ascending\u003dFalse)\n",
        "\n",
        "plt.subplots(figsize \u003d (12,8))\n",
        "sns.barplot(x \u003d \"Model\", y \u003d \"Score\", data\u003dmodels, edgecolor\u003d(0,0,0), linewidth\u003d1)\n",
        "plt.title(\"Model Type vs Score\", fontsize \u003d 25)\n",
        "plt.ylabel(\"Score (%)\", fontsize \u003d 12)\n",
        "plt.xlabel(\"Model Type\",fontsize \u003d 15)\n"
      ]
    },
    {
      "cell_type": "code",
      "execution_count": 40,
      "metadata": {
        "pycharm": {}
      },
      "outputs": [
        {
          "data": {
            "text/html": [
              "\u003cdiv\u003e\n",
              "\u003cstyle scoped\u003e\n",
              "    .dataframe tbody tr th:only-of-type {\n",
              "        vertical-align: middle;\n",
              "    }\n",
              "\n",
              "    .dataframe tbody tr th {\n",
              "        vertical-align: top;\n",
              "    }\n",
              "\n",
              "    .dataframe thead th {\n",
              "        text-align: right;\n",
              "    }\n",
              "\u003c/style\u003e\n",
              "\u003ctable border\u003d\"1\" class\u003d\"dataframe\"\u003e\n",
              "  \u003cthead\u003e\n",
              "    \u003ctr style\u003d\"text-align: right;\"\u003e\n",
              "      \u003cth\u003e\u003c/th\u003e\n",
              "      \u003cth\u003ePassengerId\u003c/th\u003e\n",
              "      \u003cth\u003eSurvived\u003c/th\u003e\n",
              "    \u003c/tr\u003e\n",
              "  \u003c/thead\u003e\n",
              "  \u003ctbody\u003e\n",
              "    \u003ctr\u003e\n",
              "      \u003cth\u003e0\u003c/th\u003e\n",
              "      \u003ctd\u003e892\u003c/td\u003e\n",
              "      \u003ctd\u003e0\u003c/td\u003e\n",
              "    \u003c/tr\u003e\n",
              "    \u003ctr\u003e\n",
              "      \u003cth\u003e1\u003c/th\u003e\n",
              "      \u003ctd\u003e893\u003c/td\u003e\n",
              "      \u003ctd\u003e0\u003c/td\u003e\n",
              "    \u003c/tr\u003e\n",
              "    \u003ctr\u003e\n",
              "      \u003cth\u003e2\u003c/th\u003e\n",
              "      \u003ctd\u003e894\u003c/td\u003e\n",
              "      \u003ctd\u003e0\u003c/td\u003e\n",
              "    \u003c/tr\u003e\n",
              "    \u003ctr\u003e\n",
              "      \u003cth\u003e3\u003c/th\u003e\n",
              "      \u003ctd\u003e895\u003c/td\u003e\n",
              "      \u003ctd\u003e0\u003c/td\u003e\n",
              "    \u003c/tr\u003e\n",
              "    \u003ctr\u003e\n",
              "      \u003cth\u003e4\u003c/th\u003e\n",
              "      \u003ctd\u003e896\u003c/td\u003e\n",
              "      \u003ctd\u003e1\u003c/td\u003e\n",
              "    \u003c/tr\u003e\n",
              "  \u003c/tbody\u003e\n",
              "\u003c/table\u003e\n",
              "\u003c/div\u003e"
            ],
            "text/plain": [
              "   PassengerId  Survived\n",
              "0          892         0\n",
              "1          893         0\n",
              "2          894         0\n",
              "3          895         0\n",
              "4          896         1"
            ]
          },
          "execution_count": 40,
          "metadata": {},
          "output_type": "execute_result"
        }
      ],
      "source": [
        "submission \u003d pd.DataFrame({\n",
        "        \"PassengerId\": passenger_id,\n",
        "        \"Survived\": Y_pred\n",
        "    })\n",
        "# submission.to_csv(\u0027./submission2.csv\u0027, index\u003dFalse)\n",
        "submission.head()"
      ]
    },
    {
      "cell_type": "code",
      "execution_count": null,
      "metadata": {
        "pycharm": {}
      },
      "outputs": [],
      "source": []
    }
  ],
  "metadata": {
    "kernelspec": {
      "display_name": "Python 3",
      "language": "python",
      "name": "python3"
    },
    "language_info": {
      "codemirror_mode": {
        "name": "ipython",
        "version": 3
      },
      "file_extension": ".py",
      "mimetype": "text/x-python",
      "name": "python",
      "nbconvert_exporter": "python",
      "pygments_lexer": "ipython3",
      "version": "3.7.3"
    }
  },
  "nbformat": 4,
  "nbformat_minor": 1
}